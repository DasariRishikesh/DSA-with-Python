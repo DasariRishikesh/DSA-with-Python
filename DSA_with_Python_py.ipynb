{
  "cells": [
    {
      "cell_type": "markdown",
      "metadata": {
        "id": "view-in-github",
        "colab_type": "text"
      },
      "source": [
        "<a href=\"https://colab.research.google.com/github/DasariRishikesh/DSA-with-Python/blob/main/DSA_with_Python_py.ipynb\" target=\"_parent\"><img src=\"https://colab.research.google.com/assets/colab-badge.svg\" alt=\"Open In Colab\"/></a>"
      ]
    },
    {
      "cell_type": "markdown",
      "metadata": {
        "id": "ZKB3KQuCweM_"
      },
      "source": [
        "##DATA STRUCTURES AND ALGORITHMS USING PYTHON PROGRAMMING LANGUAGE"
      ]
    },
    {
      "cell_type": "markdown",
      "metadata": {
        "id": "AWy6h1mEpL84"
      },
      "source": [
        "#1. Recursion problems\n",
        "\n",
        "\n",
        "Step-1 : Recursive case - the flow\n",
        "\n",
        "Step-2 : Base Case - the stopping criterion\n",
        "\n",
        "Step-3 : The unconditional case - the constraint"
      ]
    },
    {
      "cell_type": "markdown",
      "metadata": {
        "id": "Szi77gKWprI_"
      },
      "source": [
        "a. How to find a sum of digits of a positive integer number using recursion"
      ]
    },
    {
      "cell_type": "markdown",
      "metadata": {
        "id": "xlCn7raBstr8"
      },
      "source": [
        "sol : f(n) =  n%10 + f(n/10)"
      ]
    },
    {
      "cell_type": "code",
      "execution_count": null,
      "metadata": {
        "colab": {
          "base_uri": "https://localhost:8080/"
        },
        "id": "KDMhqTi2pEiw",
        "outputId": "bc941dd3-fadf-4010-ab4e-f56a360c3826"
      },
      "outputs": [
        {
          "data": {
            "text/plain": [
              "19"
            ]
          },
          "execution_count": 10,
          "metadata": {},
          "output_type": "execute_result"
        }
      ],
      "source": [
        "def sumofdig(n):\n",
        "  assert n>=0 and int(n) == n,'The number must be positive integer'\n",
        "  if n==0:          #the base condition\n",
        "    return 0\n",
        "  else:\n",
        "    return int(n%10) + sumofdig(int(n/10))      #the recursive case\n",
        "\n",
        "sumofdig(4920202)"
      ]
    },
    {
      "cell_type": "markdown",
      "metadata": {
        "id": "7abULvgMpKBM"
      },
      "source": [
        "b. How to calculate power of number using recursion?"
      ]
    },
    {
      "cell_type": "markdown",
      "metadata": {
        "id": "NzHZz0UiwrxW"
      },
      "source": [
        "sol: f(X^n) = x * f(x^n-1)\n",
        "if n<0 then f(X^n) = x * f(x^n+1)"
      ]
    },
    {
      "cell_type": "code",
      "execution_count": null,
      "metadata": {
        "colab": {
          "base_uri": "https://localhost:8080/"
        },
        "id": "rM3s86Sixm7K",
        "outputId": "bfe5b750-d6b2-4daf-ac86-69a5521e57fc"
      },
      "outputs": [
        {
          "data": {
            "text/plain": [
              "0.1111111111111111"
            ]
          },
          "execution_count": 29,
          "metadata": {},
          "output_type": "execute_result"
        }
      ],
      "source": [
        "def powerofnum(base, pow):\n",
        "  assert int(pow) == pow, 'The power(exponent) should be posive and integer'\n",
        "  if pow==0:\n",
        "    return 1\n",
        "  elif pow<0:\n",
        "    return 1/base * powerofnum(base, pow+1)\n",
        "  else:\n",
        "    return base*powerofnum(base, pow-1)\n",
        "\n",
        "powerofnum(3,-2)\n"
      ]
    },
    {
      "cell_type": "markdown",
      "metadata": {
        "id": "WzJTE07DzPIy"
      },
      "source": [
        "c. Find the greatest common divisor(GCD) of two numbers using recursion."
      ]
    },
    {
      "cell_type": "markdown",
      "metadata": {
        "id": "TNXNSjMF2td-"
      },
      "source": [
        "sol: euclidean algorithm\n",
        "    gcd(a,b) = a/b => qoefficient= x and remainder = y\n",
        "    then again b/y until y==0\n",
        "    Therefore, gcd(a,b) return gcd(b, a mod b)"
      ]
    },
    {
      "cell_type": "code",
      "execution_count": null,
      "metadata": {
        "colab": {
          "base_uri": "https://localhost:8080/"
        },
        "id": "CYg438po4Tp9",
        "outputId": "db994b41-32cf-47ac-e908-4d07fbd24edf"
      },
      "outputs": [
        {
          "data": {
            "text/plain": [
              "4"
            ]
          },
          "execution_count": 35,
          "metadata": {},
          "output_type": "execute_result"
        }
      ],
      "source": [
        "def gcd(a,b):\n",
        "  assert int(a) == a and int(b)==b, 'The number must be posive integers'\n",
        "  if a<0:\n",
        "    a=-a\n",
        "  if b<0:\n",
        "    b=-b\n",
        "  if b==0:\n",
        "    return a\n",
        "  else:\n",
        "    return gcd(b, a%b)\n",
        "\n",
        "gcd(-12,-8)\n"
      ]
    },
    {
      "cell_type": "markdown",
      "metadata": {
        "id": "mWo7To8F4ULb"
      },
      "source": [
        "d. How to convert a number from decimal to binary using recursion?"
      ]
    },
    {
      "cell_type": "markdown",
      "metadata": {
        "id": "x6s5uzG57tHe"
      },
      "source": [
        "sol: f(n) = n mod 2 + 10 * f(n/2)"
      ]
    },
    {
      "cell_type": "code",
      "execution_count": null,
      "metadata": {
        "colab": {
          "base_uri": "https://localhost:8080/"
        },
        "id": "OypmKzC57ptz",
        "outputId": "58ddc7e9-836b-4db9-f326-de9f88557ec8"
      },
      "outputs": [
        {
          "data": {
            "text/plain": [
              "1100101"
            ]
          },
          "execution_count": 53,
          "metadata": {},
          "output_type": "execute_result"
        }
      ],
      "source": [
        "def dectobin(n):\n",
        "  assert int(n) == n, 'the number must be integer'\n",
        "  if n/2 == 0:\n",
        "    return 0\n",
        "  else:\n",
        "    return n%2 + 10 * dectobin(int(n/2))\n",
        "\n",
        "dectobin(101)"
      ]
    },
    {
      "cell_type": "markdown",
      "metadata": {
        "id": "VC8sHvtZ7qTp"
      },
      "source": [
        "##### Additional problems"
      ]
    },
    {
      "cell_type": "code",
      "execution_count": null,
      "metadata": {
        "colab": {
          "base_uri": "https://localhost:8080/"
        },
        "id": "ohp1jRM6M0RX",
        "outputId": "55fbf27a-6519-4010-ec19-bcc8b4cfc2ca"
      },
      "outputs": [
        {
          "name": "stdout",
          "output_type": "stream",
          "text": [
            "Power Solution\n",
            "1\n",
            "4\n",
            "16\n",
            "-----------------------------------------------------------------------------------\n",
            "Factorial Solution\n",
            "1\n",
            "2\n",
            "24\n",
            "5040\n",
            "-----------------------------------------------------------------------------------\n",
            "productOfArray Solution\n",
            "6\n",
            "60\n",
            "-----------------------------------------------------------------------------------\n",
            "recursiveRange Solution\n",
            "21\n",
            "-----------------------------------------------------------------------------------\n",
            "fib Solution\n",
            "3\n",
            "55\n",
            "317811\n",
            "9227465\n",
            "-----------------------------------------------------------------------------------\n",
            "reverse Solution\n",
            "nohtyp\n",
            "srellimppa\n",
            "-----------------------------------------------------------------------------------\n",
            "isPalindrome Solution\n",
            "False\n",
            "False\n",
            "True\n",
            "True\n",
            "False\n",
            "-----------------------------------------------------------------------------------\n",
            "someRecursive Solution\n",
            "True\n",
            "True\n",
            "False\n",
            "-----------------------------------------------------------------------------------\n",
            "flatten Solution\n",
            "[1, 2, 3, 4, 5]\n",
            "[1, 2, 3, 4, 5]\n",
            "[1, 2, 3]\n",
            "[1, 2, 3]\n",
            "-----------------------------------------------------------------------------------\n",
            "capitalizeFirst Solution\n",
            "['Car', 'Taco', 'Banana']\n",
            "-----------------------------------------------------------------------------------\n",
            "nestedEvenSum Solution\n",
            "6\n",
            "10\n",
            "-----------------------------------------------------------------------------------\n",
            "capitalizeWords Solution\n",
            "['I', 'AM', 'LEARNING', 'RECURSION']\n",
            "-----------------------------------------------------------------------------------\n",
            "stringifyNumbers Solution\n",
            "{'num': '1', 'test': [], 'data': {'val': '4', 'info': {'isRight': True, 'random': '66'}}}\n",
            "-----------------------------------------------------------------------------------\n",
            "collectStrings Solution\n",
            "['foo', 'bar', 'baz']\n",
            "-----------------------------------------------------------------------------------\n"
          ]
        }
      ],
      "source": [
        "print('Power Solution')\n",
        "\n",
        "\n",
        "def power(base, exponent):\n",
        "    if exponent == 0:\n",
        "        return 1\n",
        "    return base * power(base, exponent-1)\n",
        "\n",
        "print(power(2,0)) # 1\n",
        "print(power(2,2)) # 4\n",
        "print(power(2,4)) # 16\n",
        "\n",
        "print(\"-----------------------------------------------------------------------------------\")\n",
        "print('Factorial Solution')\n",
        "\n",
        "def factorial(num):\n",
        "    if num <= 1:\n",
        "        return 1\n",
        "    return num * factorial(num-1)\n",
        "\n",
        "\n",
        "print(factorial(1)) # 1\n",
        "print(factorial(2)) # 2\n",
        "print(factorial(4)) # 24\n",
        "print(factorial(7)) # 5040\n",
        "print(\"-----------------------------------------------------------------------------------\")\n",
        "print('productOfArray Solution')\n",
        "\n",
        "def productOfArray(arr):\n",
        "    if len(arr) == 0:\n",
        "        return 1\n",
        "    return arr[0] * productOfArray(arr[1:])\n",
        "\n",
        "print(productOfArray([1,2,3])) #6\n",
        "print(productOfArray([1,2,3,10])) #60\n",
        "print(\"-----------------------------------------------------------------------------------\")\n",
        "print('recursiveRange Solution')\n",
        "\n",
        "def recursiveRange(num):\n",
        "    if num <= 0:\n",
        "        return 0\n",
        "    return num + recursiveRange(num - 1)\n",
        "\n",
        "\n",
        "print(recursiveRange(6))\n",
        "print(\"-----------------------------------------------------------------------------------\")\n",
        "print('fib Solution')\n",
        "\n",
        "def fib(num):\n",
        "    if (num < 2):\n",
        "        return num\n",
        "    return fib(num - 1) + fib(num - 2)\n",
        "\n",
        "\n",
        "\n",
        "print(fib(4)) # 3\n",
        "print(fib(10)) # 55\n",
        "print(fib(28)) # 317811\n",
        "print(fib(35)) # 9227465\n",
        "print(\"-----------------------------------------------------------------------------------\")\n",
        "print('reverse Solution')\n",
        "\n",
        "\n",
        "def reverse(strng):\n",
        "    if len(strng) <= 1:\n",
        "      return strng\n",
        "    return strng[len(strng)-1] + reverse(strng[0:len(strng)-1])\n",
        "\n",
        "\n",
        "print(reverse('python')) # 'nohtyp'\n",
        "print(reverse('appmillers')) # 'srellimppa'\n",
        "print(\"-----------------------------------------------------------------------------------\")\n",
        "print('isPalindrome Solution')\n",
        "\n",
        "\n",
        "def isPalindrome(strng):\n",
        "    if len(strng) == 0:\n",
        "        return True\n",
        "    if strng[0] != strng[len(strng)-1]:\n",
        "        return False\n",
        "    return isPalindrome(strng[1:-1])\n",
        "\n",
        "print(isPalindrome('awesome')) # false\n",
        "print(isPalindrome('foobar')) # false\n",
        "print(isPalindrome('tacocat')) # true\n",
        "print(isPalindrome('amanaplanacanalpanama')) # true\n",
        "print(isPalindrome('amanaplanacanalpandemonium')) # false\n",
        "print(\"-----------------------------------------------------------------------------------\")\n",
        "print('someRecursive Solution')\n",
        "\n",
        "def someRecursive(arr, cb):\n",
        "    if len(arr) == 0:\n",
        "        return False\n",
        "    if not(cb(arr[0])):\n",
        "        return someRecursive(arr[1:], cb)\n",
        "    return True\n",
        "\n",
        "def isOdd(num):\n",
        "    if num%2==0:\n",
        "        return False\n",
        "    else:\n",
        "        return True\n",
        "\n",
        "\n",
        "print(someRecursive([1,2,3,4], isOdd)) # true\n",
        "print(someRecursive([4,6,8,9], isOdd)) # true\n",
        "print(someRecursive([4,6,8], isOdd)) # false\n",
        "print(\"-----------------------------------------------------------------------------------\")\n",
        "print('flatten Solution')\n",
        "def flatten(arr):\n",
        "    resultArr = []\n",
        "    for custItem in arr:\n",
        "        if type(custItem) is list:\n",
        "            resultArr.extend(flatten(custItem))\n",
        "        else:\n",
        "            resultArr.append(custItem)\n",
        "    return resultArr\n",
        "\n",
        "\n",
        "\n",
        "print(flatten([1, 2, 3, [4, 5]])) # [1, 2, 3, 4, 5]\n",
        "print(flatten([1, [2, [3, 4], [[5]]]])) # [1, 2, 3, 4, 5]\n",
        "print(flatten([[1], [2], [3]])) # [1, 2, 3]\n",
        "print(flatten([[[[1], [[[2]]], [[[[[[[3]]]]]]]]]])) # [1, 2, 3]\n",
        "print(\"-----------------------------------------------------------------------------------\")\n",
        "print('capitalizeFirst Solution')\n",
        "\n",
        "def capitalizeFirst(arr):\n",
        "    result = []\n",
        "    if len(arr) == 0:\n",
        "        return result\n",
        "    result.append(arr[0][0].upper() + arr[0][1:])\n",
        "    return result + capitalizeFirst(arr[1:])\n",
        "\n",
        "\n",
        "\n",
        "\n",
        "print(capitalizeFirst(['car', 'taco', 'banana'])) # ['Car','Taco','Banana']\n",
        "print(\"-----------------------------------------------------------------------------------\")\n",
        "print('nestedEvenSum Solution')\n",
        "\n",
        "def nestedEvenSum(obj, sum=0):\n",
        "    for key in obj:\n",
        "        if type(obj[key]) is dict:\n",
        "            sum += nestedEvenSum(obj[key])\n",
        "        elif type(obj[key]) is int and obj[key]%2==0:\n",
        "            sum+=obj[key]\n",
        "    return sum\n",
        "\n",
        "\n",
        "\n",
        "obj1 = {\n",
        "  \"outer\": 2,\n",
        "  \"obj\": {\n",
        "    \"inner\": 2,\n",
        "    \"otherObj\": {\n",
        "      \"superInner\": 2,\n",
        "      \"notANumber\": True,\n",
        "      \"alsoNotANumber\": \"yup\"\n",
        "    }\n",
        "  }\n",
        "}\n",
        "\n",
        "obj2 = {\n",
        "  \"a\": 2,\n",
        "  \"b\": {\"b\": 2, \"bb\": {\"b\": 3, \"bb\": {\"b\": 2}}},\n",
        "  \"c\": {\"c\": {\"c\": 2}, \"cc\": 'ball', \"ccc\": 5},\n",
        "  \"d\": 1,\n",
        "  \"e\": {\"e\": {\"e\": 2}, \"ee\": 'car'}\n",
        "}\n",
        "\n",
        "print(nestedEvenSum(obj1)) # 6\n",
        "print(nestedEvenSum(obj2)) # 10\n",
        "print(\"-----------------------------------------------------------------------------------\")\n",
        "print('capitalizeWords Solution')\n",
        "\n",
        "def capitalizeWords(arr):\n",
        "    result = []\n",
        "    if len(arr) == 0:\n",
        "        return result\n",
        "    result.append(arr[0].upper())\n",
        "    return result + capitalizeWords(arr[1:])\n",
        "\n",
        "\n",
        "\n",
        "words = ['i', 'am', 'learning', 'recursion']\n",
        "print(capitalizeWords(words)) # ['I', 'AM', 'LEARNING', 'RECURSION']\n",
        "print(\"-----------------------------------------------------------------------------------\")\n",
        "print('stringifyNumbers Solution')\n",
        "\n",
        "def stringifyNumbers(obj):\n",
        "    newObj = obj\n",
        "    for key in newObj:\n",
        "        if type(newObj[key]) is int:\n",
        "            newObj[key] = str(newObj[key])\n",
        "        if type(newObj[key]) is dict:\n",
        "            newObj[key] = stringifyNumbers(newObj[key])\n",
        "    return newObj\n",
        "\n",
        "\n",
        "\n",
        "obj = {\n",
        "  \"num\": 1,\n",
        "  \"test\": [],\n",
        "  \"data\": {\n",
        "    \"val\": 4,\n",
        "    \"info\": {\n",
        "      \"isRight\": True,\n",
        "      \"random\": 66\n",
        "    }\n",
        "  }\n",
        "}\n",
        "\n",
        "print(stringifyNumbers(obj))\n",
        "\n",
        "{'num': '1',\n",
        " 'test': [],\n",
        " 'data': {'val': '4',\n",
        "          'info': {'isRight': True, 'random': '66'}\n",
        "          }\n",
        "}\n",
        "print(\"-----------------------------------------------------------------------------------\")\n",
        "print('collectStrings Solution')\n",
        "\n",
        "def collectStrings(obj):\n",
        "    resultArr = []\n",
        "    for key in obj:\n",
        "        if type(obj[key]) is str:\n",
        "            resultArr.append(obj[key])\n",
        "        if type(obj[key]) is dict:\n",
        "            resultArr = resultArr + collectStrings(obj[key])\n",
        "    return resultArr\n",
        "\n",
        "\n",
        "\n",
        "obj = {\n",
        "  \"stuff\": 'foo',\n",
        "  \"data\": {\n",
        "    \"val\": {\n",
        "      \"thing\": {\n",
        "        \"info\": 'bar',\n",
        "        \"moreInfo\": {\n",
        "          \"evenMoreInfo\": {\n",
        "            \"weMadeIt\": 'baz'\n",
        "          }\n",
        "        }\n",
        "      }\n",
        "    }\n",
        "  }\n",
        "}\n",
        "\n",
        "print(collectStrings(obj)) # ['foo', 'bar', 'baz'])\n",
        "print(\"-----------------------------------------------------------------------------------\")"
      ]
    },
    {
      "cell_type": "markdown",
      "metadata": {
        "id": "3MGYr7H5z8wr"
      },
      "source": [
        "#2. Time complexities and big O notation\n",
        "Language or metric define the efiiciency of the algorithm.\n",
        "\n",
        "Run time Notations: Best case, average case and worst case\n",
        "\n",
        "Types of time complexity:\n",
        "\n",
        "1.   Big O - less than or equal to the worst case\n",
        "2.   Big Omega - at least more than the best case\n",
        "3.   Big Theta - Bouns within the best and worst cases\n",
        "\n",
        "Types of the complexity:\n",
        "\n",
        "\n",
        "*   Constant time - O(1) [Ex : searching particular element in an array (arr[0])]  \n",
        "*   Linear time - O(n) [Ex: traversing the whole array]\n",
        "*   Logarithmic time - O(log N) [Ex : merge sort, binary search, heap sort]\n",
        "*   Quadratic time - O(N^2) [Ex : Nested loop iterations]\n",
        "*   Exponential - O(2^n) time complexity grows with the addition to the input [Ex: Fibonacci series using recursion]  \n",
        "\n",
        "Orders:\n",
        "\n",
        "O(1) < O(logN) < O(N) < O(NlogN) < O(N^2) < O(2^n) < O(N!)\n",
        "\n",
        "\n",
        "\n"
      ]
    },
    {
      "cell_type": "code",
      "execution_count": null,
      "metadata": {
        "colab": {
          "base_uri": "https://localhost:8080/"
        },
        "id": "RwFZ_h8_JbB8",
        "outputId": "b56b7a65-2b84-485a-af23-3795ac6d3fb2"
      },
      "outputs": [
        {
          "output_type": "stream",
          "name": "stdout",
          "text": [
            "7\n",
            "None\n",
            "7\n"
          ]
        }
      ],
      "source": [
        "# print big number in the array\n",
        "\n",
        "# Iterative method\n",
        "def arr(array):\n",
        "  big = array[0]                      #--------------------------o(1)\n",
        "  for i in range(0, len(array)):      #--------------------------o(n)\n",
        "    if array[i] > big:                #--------------------------o(1)\n",
        "      big = array[i]                  #--------------------------o(1)\n",
        "  print(big)                          #--------------------------o(1)\n",
        "\n",
        "# Recursive Method:\n",
        "def arn(array, n):\n",
        "  if n==1:\n",
        "    return array[0]\n",
        "  return max(array[n-1], arn(array,n-1))\n",
        "\n",
        "a = [1,2,3,5,7,4]                     #--------------------------o(1)\n",
        "print(arr(a))                         #--------------------------o(1)\n",
        "print(arn(a,len(a)))\n",
        "\n"
      ]
    },
    {
      "cell_type": "markdown",
      "metadata": {
        "id": "Nxfoah6t6Gi7"
      },
      "source": [
        "#####Interview Questions"
      ]
    },
    {
      "cell_type": "code",
      "execution_count": null,
      "metadata": {
        "id": "HdRRuHrj54PP",
        "colab": {
          "base_uri": "https://localhost:8080/"
        },
        "outputId": "c483b334-d317-4c36-b40a-dca586c46d27"
      },
      "outputs": [
        {
          "output_type": "stream",
          "name": "stdout",
          "text": [
            "Sum = 10, Product = 24\n",
            "[5, 4, 3, 2, 1]\n",
            "6\n",
            "0:, 0\n",
            "1:, 1\n",
            "2:, 1\n",
            "3:, 2\n",
            "1\n",
            "1\n",
            "2\n",
            "2\n",
            "4\n",
            "4\n",
            "8\n",
            "8\n",
            "16\n",
            "16\n",
            "32\n"
          ]
        },
        {
          "output_type": "execute_result",
          "data": {
            "text/plain": [
              "32"
            ]
          },
          "metadata": {},
          "execution_count": 42
        }
      ],
      "source": [
        "#Question1                                                        #O(2n)\n",
        "def foo(array):\n",
        "    sum = 0                                                       #--------------------------o(1)\n",
        "    product = 1                                                   #--------------------------o(1)\n",
        "    for i in array:                                               #--------------------------o(n)\n",
        "        sum += i                                                        #--------------------------o(1)\n",
        "    for i in array:                                               #--------------------------o(n)\n",
        "        product *= i                                              #--------------------------o(1)\n",
        "    print(\"Sum = \"+str(sum)+\", Product = \"+str(product))          #--------------------------o(1)\n",
        "\n",
        "ar1 = [1,2,3,4]\n",
        "foo(ar1)\n",
        "\n",
        "#Question2                                           #O(n^2)\n",
        "\n",
        "def printPairs(array):\n",
        "    for i in array:                                 #--------------------------O(n^2)}--| ------------O(n^2+n)=O(n^2)\n",
        "        for j in array:                             #--------------------------o(n-1)}----|\n",
        "            print(str(i)+\",\"+str(j))                #--------------------------o(1)\n",
        "\n",
        "\n",
        "#Question3                                          #O(n^2)\n",
        "def printUnorderedPairs(array):\n",
        "    for i in range(0,len(array)):                   #--------------------------o(n^2)-----|--------------o(n^2+n) =O(n^2)\n",
        "        for j in range(i+1,len(array)):             #--------------------------o(n)-------|------------------------------------[solved using 1.Counting the iterations and 2.Average work]\n",
        "            print(array[i] + \",\" + array[j])        #--------------------------o(1)\n",
        "\n",
        "\n",
        "\n",
        "\n",
        "\n",
        "#Question4                                                        #O(26) = o(ab)\n",
        "def printUnorderedPairs(arrayA, arrayB):\n",
        "    for i in range(len(arrayA)):                                  #--------------------------o(5*4)----|------O(5*4 + 4)\n",
        "        for j in range(len(arrayB)):                              #--------------------------o(4)------|\n",
        "            if arrayA[i] < arrayB[j]:                             #--------------------------o(1)\n",
        "                print(str(arrayA[i]) + \",\" + str(arrayB[j]))      #--------------------------o(1)\n",
        "\n",
        "arrayA = [1,2,3,4,5]\n",
        "arrayB = [2,6,7,8]\n",
        "\n",
        "\n",
        "\n",
        "#Question5\n",
        "def printUnorderedPairs(arrayA, arrayB):                          #o(ab)\n",
        "    for i in range(len(arrayA)):                                  #--------------------------o(a)\n",
        "        for j in range(len(arrayB)):                              #--------------------------o(b)\n",
        "            for k in range(0,100000):                             #--------------------------o(1)[As still the 100000 is the constant number]\n",
        "                print(str(arrayA[i]) + \",\" + str(arrayB[j]))      #--------------------------o(1)\n",
        "\n",
        "# printUnorderedPairss(arrayA,arrayB)\n",
        "\n",
        "\n",
        "#Question6\n",
        "def reverse(array):                                               #O(N)\n",
        "    for i in range(0,int(len(array)/2)):                          #--------------------------o(N/2)-->O(N)\n",
        "        other = len(array)-i-1                                    #--------------------------o(1)\n",
        "        temp = array[i]                                           #--------------------------o(1)\n",
        "        array[i] = array[other]                                   #--------------------------o(1)\n",
        "        array[other] = temp                                       #--------------------------o(1)\n",
        "    print(array)                                                  #--------------------------o(1)\n",
        "\n",
        "reverse(arrayA)\n",
        "\n",
        "#Question8                                  #O(N)\n",
        "\n",
        "def factorial(n):                                       #o(M)\n",
        "    if n < 0:                               #---------|\n",
        "        return -1                           #---------|\n",
        "    elif n == 0:                            #---------|--------------O(1)\n",
        "        return 1                            #---------|\n",
        "    else:                                   #---------|\n",
        "        return n * factorial(n-1)           #--------------------------o(O(M-1))\n",
        "\n",
        "print(factorial(3))\n",
        "                                                                                             # O(M) = O(1) +O(M-1)........\n",
        "                                                                                             # O(M) = O(1)*N + O(1)\n",
        "\n",
        "\n",
        "#Question9                                      # time complexity is equal to 2^1 + 2^2 + ........+ 2^n = 2^n+1 -2^1  =~ O(2^n)\n",
        "def allFib(n):                                  #\n",
        "    for i in range(n):                          #--------------------------o(n)\n",
        "        print(str(i)+\":, \" + str(fib(i)))\n",
        "\n",
        "def fib(n):                                     # multipe branch called recursively then tie complexity = Branch^Depth  #O(2^n)\n",
        "    if n <= 0:                                  # For this problem the time complexity is the changing because the change in the iteration of previous function\n",
        "        return 0                                # For f(1) - 2^1......f(n) - 2^n\n",
        "    elif n == 1:\n",
        "        return 1\n",
        "    return fib(n-1) + fib(n-2)\n",
        "\n",
        "\n",
        "allFib(4)\n",
        "\n",
        "#Question10                   #O(LogN)\n",
        "def powersOf2(n):                                           # The function calling itself with a half of it\n",
        "    # print(\"n:\"+str(n))                                    # As we learnt the time complexity is of logarithmic time\n",
        "    if n < 1:\n",
        "        return 0\n",
        "    elif n == 1:\n",
        "        print(1)\n",
        "        return 1\n",
        "    else:\n",
        "        prev = powersOf2(int(n/2))\n",
        "        # print(\"prev:\"+str(prev))\n",
        "        print(prev)\n",
        "        curr = prev*2\n",
        "        print(curr)\n",
        "        return curr\n",
        "\n",
        "powersOf2(50)"
      ]
    },
    {
      "cell_type": "markdown",
      "metadata": {
        "id": "_GV3abV3x9Vc"
      },
      "source": [
        "#3. Arrays"
      ]
    },
    {
      "cell_type": "markdown",
      "source": [
        "##### 1D Array"
      ],
      "metadata": {
        "id": "JU0Kifq2HgE0"
      }
    },
    {
      "cell_type": "code",
      "execution_count": null,
      "metadata": {
        "colab": {
          "base_uri": "https://localhost:8080/"
        },
        "id": "pqGFK0ERdD_p",
        "outputId": "b693a7f2-f6d2-4bfe-ea0a-76b60debf8d1"
      },
      "outputs": [
        {
          "output_type": "stream",
          "name": "stdout",
          "text": [
            "create an array and traverse\n",
            "array('d', [1.2, 1.45, 122.6, 33.0])\n",
            "array('i', [1, 2, 3, 4, 5])\n",
            "-------------------------------------\n",
            "traverse\n",
            "1\n",
            "2\n",
            "3\n",
            "4\n",
            "5\n",
            "-------------------------------------\n",
            "Accessing through index\n",
            "122.6\n",
            "-------------------------------------\n",
            "Append through append method()\n",
            "array('i', [1, 2, 3, 4, 5, 7])\n",
            "-------------------------------------\n",
            "Inserting element in an array\n",
            "array('i', [1, 2, 5, 3, 4, 5, 7])\n",
            "-------------------------------------\n",
            "Extend using extend method() in array\n",
            "array('i', [1, 2, 5, 3, 4, 5, 7, 11, 23, 45])\n",
            "-------------------------------------\n",
            "Add elements from python lists\n",
            "array('d', [1.2, 1.45, 122.6, 33.0, 88.0, 9.0, 19.0])\n",
            "-------------------------------------\n",
            "Remove element using remove() method by value\n",
            "array('d', [1.2, 1.45, 122.6, 33.0, 88.0, 19.0])\n",
            "-------------------------------------\n",
            "Remove last array element using pop() method\n",
            "array('i', [1, 2, 5, 3, 4, 5, 7, 11, 23])\n",
            "-------------------------------------\n",
            "Accessing through index\n",
            "-------------------------------------\n",
            "array('i', [1, 2, 5, 3, 4, 5, 7, 23])\n",
            "array('i', [1, 2, 5, 3, 4, 5, 7])\n",
            "array('i', [1, 2, 5, 3, 4, 7])\n"
          ]
        }
      ],
      "source": [
        "# 1D array\n",
        "\n",
        "from array import *\n",
        "\n",
        "# 1. create an array and traverse\n",
        "print('create an array and traverse')\n",
        "arr1=array('i', [1,2,3,4,5])\n",
        "arr2 = array('d',[1.2,1.45,122.6,33])\n",
        "print(arr2)\n",
        "print(arr1)\n",
        "print('-------------------------------------')\n",
        "\n",
        "\n",
        "# 2. Traverse\n",
        "print('traverse')\n",
        "def fun(array):\n",
        "  for i in range(len(array)):\n",
        "    print(array[i])\n",
        "\n",
        "fun(arr1)\n",
        "print('-------------------------------------')\n",
        "\n",
        "\n",
        "# 3. Accessing through index\n",
        "print('Accessing through index')\n",
        "print(arr2[2])\n",
        "print('-------------------------------------')\n",
        "\n",
        "\n",
        "# 4. Append through append method()\n",
        "print('Append through append method()')\n",
        "arr1.append(7)\n",
        "print(arr1)\n",
        "print('-------------------------------------')\n",
        "\n",
        "\n",
        "# 5. Inserting element in an array\n",
        "print('Inserting element in an array')\n",
        "arr1.insert(2,5)\n",
        "print(arr1)\n",
        "print('-------------------------------------')\n",
        "\n",
        "\n",
        "# 6. Extend using extend method() in array\n",
        "print('Extend using extend method() in array')\n",
        "arr3 = array('i', [11,23,45])\n",
        "arr1.extend(arr3)\n",
        "print(arr1)\n",
        "print('-------------------------------------')\n",
        "\n",
        "\n",
        "# 7. Add elements from python lists\n",
        "print('Add elements from python lists')\n",
        "templist = [88,9,19]\n",
        "arr2.fromlist(templist)\n",
        "print(arr2)\n",
        "print('-------------------------------------')\n",
        "\n",
        "\n",
        "# 8. Remove element using remove() method by value\n",
        "print('Remove element using remove() method by value')\n",
        "arr2.remove(9)\n",
        "print(arr2)\n",
        "print('-------------------------------------')\n",
        "\n",
        "\n",
        "# 9. Remove last array element using pop() method\n",
        "print('Remove last array element using pop() method')\n",
        "arr1.pop()\n",
        "print(arr1)\n",
        "print('-------------------------------------')\n",
        "\n",
        "\n",
        "# 10.\n",
        "print('Accessing through index')\n",
        "print('-------------------------------------')\n",
        "\n",
        "\n",
        "def funs(array, index):                       #accessing array element\n",
        "  if index>=len(array):\n",
        "     return \"Enter valid index number\"\n",
        "  else:\n",
        "    return array[index]\n",
        "def find(array, value):                       #searching the array\n",
        "  for i in range(len(array)):\n",
        "    if i == value:\n",
        "      return array[i]\n",
        "  return \"The element not found.\"\n",
        "\n",
        "def dele(array, n):                            #Delete element in an array\n",
        "  for i in range(len(array)):\n",
        "    if i== n:\n",
        "      array.remove(array[i])\n",
        "  print(array)\n",
        "  array.pop() # pop()\n",
        "  print(array)\n",
        "  del array[5] # del method\n",
        "  print(array)\n",
        "\n",
        "\n",
        "\n",
        "funs(arr2,4)\n",
        "find(arr1,5)\n",
        "dele(arr1,7)"
      ]
    },
    {
      "cell_type": "markdown",
      "source": [
        "##### 2D Array"
      ],
      "metadata": {
        "id": "cMiVHlyYHa-B"
      }
    },
    {
      "cell_type": "code",
      "execution_count": null,
      "metadata": {
        "colab": {
          "base_uri": "https://localhost:8080/"
        },
        "id": "OTKRp5uuA3jA",
        "outputId": "923296a8-8350-4cf0-9f59-891f3e5e0641"
      },
      "outputs": [
        {
          "name": "stdout",
          "output_type": "stream",
          "text": [
            "creating a 2D array\n",
            "--------------------------------\n",
            "[[ 11  23  34  45]\n",
            " [ 90  89  78  67]\n",
            " [ 55  11  99  82]\n",
            " [ 40  92  74 100]]\n",
            "--------------------------------\n",
            "Adding new row or column\n",
            "Row Added\n",
            "[[ 11  23  34  45]\n",
            " [ 90  89  78  67]\n",
            " [ 54  32  21  87]\n",
            " [ 55  11  99  82]\n",
            " [ 40  92  74 100]]\n",
            "[[ 11  23  34  45]\n",
            " [ 12  23  34  45]\n",
            " [ 90  89  78  67]\n",
            " [ 55  11  99  82]\n",
            " [ 40  92  74 100]]\n",
            "Column Added\n",
            "[[ 71  11  23  34  45]\n",
            " [ 92  90  89  78  67]\n",
            " [ 13  54  32  21  87]\n",
            " [ 65  55  11  99  82]\n",
            " [ 96  40  92  74 100]]\n",
            "using append method()\n",
            "[[ 11  23  34  45]\n",
            " [ 90  89  78  67]\n",
            " [ 55  11  99  82]\n",
            " [ 40  92  74 100]\n",
            " [  1   0   8   6]]\n",
            "-------------------------------\n",
            "Accessing elements in a 2D array\n",
            "11\n",
            "-------------------------------\n",
            "Travesal of 2D array\n",
            "11\n",
            "23\n",
            "34\n",
            "45\n",
            "90\n",
            "89\n",
            "78\n",
            "67\n",
            "55\n",
            "11\n",
            "99\n",
            "82\n",
            "40\n",
            "92\n",
            "74\n",
            "100\n",
            "-------------------------------\n",
            "Searching An element in 2D array\n",
            "The value is found at 2 0\n",
            "-------------------------------\n",
            "Deletion of the element from the array(either row deletion or column deletion)\n",
            "[[ 90  89  78  67]\n",
            " [ 55  11  99  82]\n",
            " [ 40  92  74 100]]\n",
            "[[ 23  34  45]\n",
            " [ 89  78  67]\n",
            " [ 11  99  82]\n",
            " [ 92  74 100]]\n",
            "-------------------------------\n"
          ]
        }
      ],
      "source": [
        "from numpy.lib.shape_base import column_stack\n",
        "## 2D ARRAY\n",
        "\n",
        "# 1. Create a 2D array\n",
        "print('creating a 2D array')\n",
        "print('--------------------------------')\n",
        "\n",
        "import numpy as np\n",
        "\n",
        "the2Darray = np.array([[11,23,34,45], [90,89,78,67], [55,11,99,82], [40,92,74,100]])\n",
        "print(the2Darray)\n",
        "print('--------------------------------')\n",
        "\n",
        "# 2. Add new row or Column\n",
        "print('Adding new row or column')\n",
        "print('Row Added')\n",
        "rowaddarray = np.insert(the2Darray,2,[[54,32,21,87]], axis =0)\n",
        "Arr_add = np.insert(the2Darray,1, [[12,23,34,45]],axis = 0)\n",
        "print(rowaddarray)\n",
        "print(Arr_add)\n",
        "\n",
        "print('Column Added')\n",
        "Columnarray = np.insert(rowaddarray,0,[[71,92,13,65,96]],axis=1)\n",
        "print(Columnarray)\n",
        "\n",
        "\n",
        "print('using append method()')\n",
        "Columnsarray = np.append(the2Darray,[[1,0,8,6]],axis =0)\n",
        "print(Columnsarray)\n",
        "print('-------------------------------')\n",
        "\n",
        "print('Accessing elements in a 2D array')\n",
        "def AccessEle(array, Rindex, Cindex):\n",
        "  if Rindex >= len(array) or Cindex>= len(array[0]):         #-----------O(1)\n",
        "    return 'Invaid inputs'                                   #-----------O(1)\n",
        "  return array[Rindex][Cindex]                               #-----------O(1)\n",
        "\n",
        "print(AccessEle(the2Darray, 2,1))\n",
        "\n",
        "print('-------------------------------')\n",
        "\n",
        "print('Travesal of 2D array')\n",
        "def traverse(array):\n",
        "  for i in range(len(array)):\n",
        "    for j in range(len(array[0])):\n",
        "      print(array[i][j])\n",
        "\n",
        "traverse(the2Darray)\n",
        "print('-------------------------------')\n",
        "\n",
        "\n",
        "print('Searching An element in 2D array')\n",
        "def searchEle(array, n):\n",
        "  for i in range(len(array)):\n",
        "    for j in range(len(array[0])):\n",
        "      if array[i][j] == n:\n",
        "        return 'The value is found at ' + str(i) + \" \"+str(j)\n",
        "  return 'The elemnent does not exist in the array'\n",
        "\n",
        "print(searchEle(the2Darray,55))\n",
        "\n",
        "print('-------------------------------')\n",
        "\n",
        "\n",
        "print('Deletion of the element from the array(either row deletion or column deletion)')\n",
        "# Row deletion\n",
        "NewAFDel = np.delete(the2Darray, 0, axis =0)\n",
        "print(NewAFDel)\n",
        "\n",
        "# Column deletion\n",
        "NewAl = np.delete(the2Darray, 0, axis =1)\n",
        "print(NewAl)\n",
        "print('-------------------------------')\n",
        "\n",
        "\n",
        "\n",
        "\n",
        "\n"
      ]
    },
    {
      "cell_type": "markdown",
      "metadata": {
        "id": "SSHsGBQMkGZn"
      },
      "source": [
        "##### Time and space complexities of 2D array."
      ]
    },
    {
      "cell_type": "markdown",
      "metadata": {
        "id": "h8qhlz0UhQFM"
      },
      "source": [
        "Operation| Time Complexity | Space Complexity\n",
        "--|:--|:--|\n",
        "Creating an empty array|O(1)|O(mn)\n",
        "Inserting a column/ row in an array| O(mn)/O(1)| O(1)\n",
        "Traversing a given array| O(mn)|O(1)\n",
        "Accessing a given array| O(1)|O(1)\n",
        "Searching a given value| O(mn)| O(1)\n",
        "Deleting a given value| O(mn)/O(1)| O(1)"
      ]
    },
    {
      "cell_type": "markdown",
      "metadata": {
        "id": "TBt0TkMVXYCR"
      },
      "source": [
        "# 4. Python Lists\n",
        "The list is one among the built-in data types and in python(i.e others are tuples, sets and dictioneries).\n",
        "The list is used to store elements in order. The main difference between list and array is they can store different datatypes in a single list but the array cannot."
      ]
    },
    {
      "cell_type": "code",
      "execution_count": null,
      "metadata": {
        "colab": {
          "base_uri": "https://localhost:8080/"
        },
        "id": "HOQogB-PYQsR",
        "outputId": "a3a80ab2-c5c9-44f9-f81b-d9a7f6f668f3"
      },
      "outputs": [
        {
          "name": "stdout",
          "output_type": "stream",
          "text": [
            "[1, 2, 3, 4]\n",
            "['Tarun', 'is', 'going', 'for', 'Texas']\n",
            "[1, 3.7, 'heelo']\n",
            "[1, 0.44, 55, ['losst']]\n",
            "[]\n",
            "Operations in the lists\n",
            "-------------------------\n",
            "Accessing the list\n",
            "Texas\n",
            "using in operator\n",
            "True\n",
            "usnig negative index values\n",
            "going\n",
            "--------------------\n",
            "Traverse the list\n",
            "Tarun\n",
            "is\n",
            "going\n",
            "for\n",
            "Texas\n",
            "[1, 2, 3, 4]\n",
            "[1, 2, 5, 4]\n",
            "[1, 2, 5, 9]\n",
            "-------------------------\n",
            "Operation and functions in list\n",
            "Concat using the + operator\n",
            "[1, 2, 3, 4, 'h', 's', 'f']\n",
            "print multiple using the * operator\n",
            "[1, 2, 3, 1, 2, 3]\n",
            "using len() for count \n",
            "6 count of the list k\n",
            "Using the max() method for get highest value in the list\n",
            "3\n",
            "Using the min() method for get lowest value in the list\n",
            "1\n",
            "Using the sum() method for adding all items in the list\n",
            "12\n",
            "Find Mean\n",
            "2.0\n"
          ]
        }
      ],
      "source": [
        "# examples of list\n",
        "\n",
        "integers = [1,2,3,4]                        #list with intergers\n",
        "print(integers)\n",
        "stringlist = ['Tarun', 'is', 'going','for','Texas']                 # list of strings\n",
        "print(stringlist)\n",
        "mixedlist = [1,3.7, 'heelo']                 # list of mixed datatypes\n",
        "print(mixedlist)\n",
        "nestedlist = [1,.44,55,['losst']]            # list inside a list\n",
        "print(nestedlist)\n",
        "empty= []                                    # an empty list\n",
        "print(empty)\n",
        "\n",
        "\n",
        "###Operations in the lists\n",
        "print('Operations in the lists')\n",
        "print('-------------------------')\n",
        "# Accessing the list\n",
        "print('Accessing the list')\n",
        "examplelist = ['Tarun', 'is', 'going','for','Texas']\n",
        "print(examplelist[4])\n",
        "\n",
        "#other means for checking or accessing the elements in list is\n",
        "#using in operator\n",
        "print('using in operator')\n",
        "examplelist = ['Tarun', 'is', 'going','for','Texas']\n",
        "print('for' in examplelist)\n",
        "#usnig negative index values\n",
        "print('usnig negative index values')\n",
        "print(examplelist[-3])\n",
        "print('--------------------')\n",
        "#traverse through the list\n",
        "print('Traverse the list')\n",
        "for i in examplelist:\n",
        "  print(i)\n",
        "\n",
        "# travrsing and adding the list\n",
        "lists = [1,1,3,4]\n",
        "for i in range(len(lists)):\n",
        "  if i>0:\n",
        "    lists[i] += lists[i-1]\n",
        "    print(lists)\n",
        "# Statements passed in empty list cannot print as the empty list cannot be traversed\n",
        "empty =[]\n",
        "for i in empty:\n",
        "  print('List is empty list')\n",
        "\n",
        "print('-------------------------')\n"
      ]
    },
    {
      "cell_type": "markdown",
      "metadata": {
        "id": "cHJ23LoBgak9"
      },
      "source": [
        "The list is a mutable datastructure. so we can update with assignment operators or insert new elements into the list."
      ]
    },
    {
      "cell_type": "markdown",
      "source": [
        "##### Insertion"
      ],
      "metadata": {
        "id": "cx0hsS0zHtfa"
      }
    },
    {
      "cell_type": "markdown",
      "metadata": {
        "id": "zp1gwVMthaCl"
      },
      "source": [
        "The insertion can be done in 4 ways.\n",
        "\n",
        "\n",
        "1.  Insert at the begining of list\n",
        "2.  Insert in the middle of the list\n",
        "3.  Insert at the end of the list\n",
        "4.  Insert the list to another list\n",
        "\n",
        "Can be done using the list methods and they are:\n",
        "\n",
        "\n",
        "*   Insert(Index to insert, value to insert)\n",
        "*   Append(value to insert at the end)\n",
        "*   Extend(list to add)\n",
        "\n",
        "\n",
        "\n"
      ]
    },
    {
      "cell_type": "code",
      "execution_count": null,
      "metadata": {
        "colab": {
          "base_uri": "https://localhost:8080/"
        },
        "id": "sV_wvQhJgrE1",
        "outputId": "a5ea5a15-f953-4332-9e89-652944b5834a"
      },
      "outputs": [
        {
          "name": "stdout",
          "output_type": "stream",
          "text": [
            "[1, 2, 3, 12, 4, 99, 6]\n",
            "[1, 2, 3, 12, 88, 4, 99, 6]\n",
            "[1, 2, 3, 12, 88, 4, 99, 6, 0]\n",
            "[122, 455, 667, 'Lokesh kanakaraj', 1, 2, 3, 12, 88, 4, 99, 6, 0]\n"
          ]
        }
      ],
      "source": [
        "#Update or Insert the list\n",
        "Listitems = [1,2,3,4,4,5,6]\n",
        "Listitems[3] = 12\n",
        "Listitems[5] = 99\n",
        "print(Listitems)\n",
        "\n",
        "# using the insert()   -------------O(n) space-O(1)\n",
        "Listitems.insert(4,88)\n",
        "print(Listitems)\n",
        "\n",
        "# unig the append() ----------------O(1)\n",
        "Listitems.append(0)\n",
        "print(Listitems)\n",
        "\n",
        "# using the extend()---------------depends on the no. of elemenst in the previous list O(n) and space-O(n)\n",
        "List = [122,455,667,\"Lokesh kanakaraj\"]\n",
        "List.extend(Listitems)\n",
        "print(List)\n",
        "\n"
      ]
    },
    {
      "cell_type": "markdown",
      "metadata": {
        "id": "2Lt4E_fRshmA"
      },
      "source": [
        "##### Deletion and slicing in Lists"
      ]
    },
    {
      "cell_type": "markdown",
      "metadata": {
        "id": "oItq_a4-yxf-"
      },
      "source": [
        "* List acn be deleted using:\n",
        "\n",
        "\n",
        "1.   pop() - unless you pass the index the last element is popped from the list and if you pass the element then that indexed element is popped. It is used to know the deleted element. Return popped element.\n",
        "\n",
        "2.   delete() - use keyword 'del'. Does ot return the deleted element. Uses the index.\n",
        "3.   remove() - is useful when you know the element itself. Do not need of the index. Provide the value amd delete it\n",
        "\n"
      ]
    },
    {
      "cell_type": "code",
      "execution_count": null,
      "metadata": {
        "colab": {
          "base_uri": "https://localhost:8080/"
        },
        "id": "_-bADQnqsl0-",
        "outputId": "044caf81-a99e-4996-e8cf-a3b7c0cace17"
      },
      "outputs": [
        {
          "name": "stdout",
          "output_type": "stream",
          "text": [
            "['a', 'b', 'c', 'd', 'e', 'f']\n",
            "[3, 'avdh', 3.78]\n",
            "['b', 'd', 'f']\n",
            "['q', 'r', 'b', 'c', 'd', 'e', 'f']\n",
            "['q', 'r', 'b', 'c', 'd', 'e']\n",
            "['q', 'r', 'b', 'd', 'e']\n",
            "['q', 'd', 'e']\n",
            "['d', 'e']\n"
          ]
        }
      ],
      "source": [
        "List = ['a','b','c','d','e','f']\n",
        "my = list((3,'avdh',3.78))\n",
        "print(List)\n",
        "print(my)\n",
        "print(List[1:8:2])\n",
        "List[0:1] = 'q','r'\n",
        "print(List)\n",
        "\n",
        "#using the pop()---------------O(1/n)\n",
        "List.pop()#unless you pass the index the last element is popped from the list and if you pass the element then that indexed element is popped\n",
        "print(List)\n",
        "\n",
        "del List[3]\n",
        "print(List)\n",
        "\n",
        "#usimg the slice alomg with the del operation---------------O(n)\n",
        "\n",
        "del List[1:3]\n",
        "print(List)\n",
        "\n",
        "\n",
        "# usimg the remove()---------------O(n)\n",
        "List.remove('q')\n",
        "print(List)\n",
        "\n",
        "# space comp;exity for all the elements is O(1)"
      ]
    },
    {
      "cell_type": "markdown",
      "metadata": {
        "id": "num0nVHb2LjY"
      },
      "source": [
        "##### Searching element in list\n",
        "\n",
        "\n",
        "\n",
        "1.   IN operator\n",
        "2.   Linear search\n",
        "\n"
      ]
    },
    {
      "cell_type": "code",
      "execution_count": null,
      "metadata": {
        "colab": {
          "base_uri": "https://localhost:8080/"
        },
        "id": "2KPHIVQp2Z8h",
        "outputId": "3e4e4e51-654e-4d77-bc98-5235367f1770"
      },
      "outputs": [
        {
          "name": "stdout",
          "output_type": "stream",
          "text": [
            "The value not in the list\n",
            "5\n"
          ]
        }
      ],
      "source": [
        "Thelist = [1,2,3,4,5,6,7,8,9]\n",
        "\n",
        "#IN-operator\n",
        "if 10 in Thelist:\n",
        "  print(Thelist.index(7))#------------O(n) check elements one by one\n",
        "else:\n",
        "  print('The value not in the list')\n",
        "\n",
        "\n",
        "# Linear Search       ---------------O(n)\n",
        "def search(list, value):\n",
        "  for i in list:\n",
        "    if list[i] == value:\n",
        "      return list.index(value)\n",
        "  return 'The element not found!'\n",
        "\n",
        "print(search(Thelist,6))\n",
        "\n"
      ]
    },
    {
      "cell_type": "markdown",
      "metadata": {
        "id": "jMre3BjdsDtD"
      },
      "source": [
        "#####Operations and functions in List\n",
        "\n",
        "\n",
        "*   Concat operator (+, join)\n",
        "*   Multiple operator (*)\n",
        "*   len() method\n",
        "*   max() method\n",
        "*   min() method\n",
        "*   sum() method\n",
        "\n"
      ]
    },
    {
      "cell_type": "code",
      "execution_count": null,
      "metadata": {
        "colab": {
          "base_uri": "https://localhost:8080/"
        },
        "id": "vXS_22mGtMSf",
        "outputId": "c408ff8e-5ba4-4cf1-892c-fedbfba73377"
      },
      "outputs": [
        {
          "output_type": "stream",
          "name": "stdout",
          "text": [
            "Operation and functions in list\n",
            "Concat using the + operator\n",
            "[1, 2, 3, 4, 'h', 's', 'f']\n",
            "print multiple using the * operator\n",
            "[1, 2, 3, 1, 2, 3]\n",
            "using len() for count \n",
            "6 count of the list k\n",
            "Using the max() method for get highest value in the list\n",
            "3\n",
            "Using the min() method for get lowest value in the list\n",
            "1\n",
            "Using the sum() method for adding all items in the list\n",
            "12\n",
            "Find Mean\n",
            "2.0\n"
          ]
        }
      ],
      "source": [
        "print(\"Operation and functions in list\")\n",
        "\n",
        "#concatination in the list using list operations and functions\n",
        "print(\"Concat using the + operator\")\n",
        "k = [1,2,3,4]\n",
        "r= ['h','s','f']\n",
        "kr = k + r\n",
        "print(kr)\n",
        "\n",
        "print(\"print multiple using the * operator\")\n",
        "k = [1,2,3]\n",
        "k = k*2\n",
        "print(k)\n",
        "\n",
        "print(\"using len() for count \")\n",
        "print(len(k),\"count of the list k\")\n",
        "\n",
        "print(\"Using the max() method for get highest value in the list\")\n",
        "print(max(k))\n",
        "\n",
        "print(\"Using the min() method for get lowest value in the list\")\n",
        "print(min(k))\n",
        "\n",
        "print(\"Using the sum() method for adding all items in the list\")\n",
        "print(sum(k))\n",
        "\n",
        "print(\"Find Mean\")\n",
        "print(sum(k)/len(k))"
      ]
    },
    {
      "cell_type": "markdown",
      "source": [
        "##### Pitfalls in list and ways to avoid them:\n",
        "\n",
        "If we use the below 1 mentioned code then the list returns none that is the modification in the list is now allowed.\n",
        "\n",
        "Read the documentation of the python list [here](https://docs.python.org/)\n",
        "\n"
      ],
      "metadata": {
        "id": "IUnmLFSZptui"
      }
    },
    {
      "cell_type": "code",
      "source": [
        "m =[1,4,3,1,5]\n",
        "k = m\n",
        "a =m[:]\n",
        "m = m.sort() # Result is None\n",
        "print(m)\n",
        "print(a)\n",
        "print(k)"
      ],
      "metadata": {
        "colab": {
          "base_uri": "https://localhost:8080/"
        },
        "id": "zEmSaGtOpzSD",
        "outputId": "ea1bc09a-188d-4592-97a4-4f46d26b36ad"
      },
      "execution_count": null,
      "outputs": [
        {
          "output_type": "stream",
          "name": "stdout",
          "text": [
            "None\n",
            "[1, 4, 3, 1, 5]\n",
            "[1, 1, 3, 4, 5]\n"
          ]
        }
      ]
    },
    {
      "cell_type": "markdown",
      "source": [
        "#####ARRAY vs PYTHON LISTS\n",
        "\n",
        "Similarities\n",
        "\n",
        "*   Both data structures are mutable.\n",
        "*   Both can be indexed and iterated through.\n",
        "*   They both can be sliced.\n",
        "\n",
        "Differences\n",
        "*   Arrays are used for the arithmetic operations so using them are more flexible than the lists.\n",
        "*   Arrays are used for the one specific data types and cannot use other in them like lists.\n",
        "\n"
      ],
      "metadata": {
        "id": "NvxHn85vBr_2"
      }
    },
    {
      "cell_type": "code",
      "source": [
        "# Arthimetic operatios on the ARRAY and LISTS\n",
        "import numpy as np\n",
        "\n",
        "Array = np.array([1,2,3,4,5,6])\n",
        "List  = [1,2,3,4,5]\n",
        "print(Array)\n",
        "print(List)\n",
        "\n",
        "# Arthimetic operation on the array gives the successful result\n",
        "print('Arthimetic operation on the array gives the successful result')\n",
        "print(Array/2)\n",
        "\n",
        "# Arthimetic operation of list gives the error\n",
        "print(\"Gives the error on the operation on lists\")\n",
        "print(List/2)"
      ],
      "metadata": {
        "colab": {
          "base_uri": "https://localhost:8080/",
          "height": 287
        },
        "id": "8uaVoBsODlKa",
        "outputId": "738660f8-aaa2-4f9a-9b16-3c569702958c"
      },
      "execution_count": null,
      "outputs": [
        {
          "output_type": "stream",
          "name": "stdout",
          "text": [
            "[1 2 3 4 5 6]\n",
            "[1, 2, 3, 4, 5]\n",
            "Arthimetic operation on the array gives the successful result\n",
            "[0.5 1.  1.5 2.  2.5 3. ]\n",
            "Gives the error on the operation on lists\n"
          ]
        },
        {
          "output_type": "error",
          "ename": "TypeError",
          "evalue": "ignored",
          "traceback": [
            "\u001b[0;31m---------------------------------------------------------------------------\u001b[0m",
            "\u001b[0;31mTypeError\u001b[0m                                 Traceback (most recent call last)",
            "\u001b[0;32m<ipython-input-23-575bf3d6d06e>\u001b[0m in \u001b[0;36m<module>\u001b[0;34m\u001b[0m\n\u001b[1;32m     13\u001b[0m \u001b[0;31m# Arthimetic operation of list gives the error\u001b[0m\u001b[0;34m\u001b[0m\u001b[0;34m\u001b[0m\u001b[0;34m\u001b[0m\u001b[0m\n\u001b[1;32m     14\u001b[0m \u001b[0mprint\u001b[0m\u001b[0;34m(\u001b[0m\u001b[0;34m\"Gives the error on the operation on lists\"\u001b[0m\u001b[0;34m)\u001b[0m\u001b[0;34m\u001b[0m\u001b[0;34m\u001b[0m\u001b[0m\n\u001b[0;32m---> 15\u001b[0;31m \u001b[0mprint\u001b[0m\u001b[0;34m(\u001b[0m\u001b[0mList\u001b[0m\u001b[0;34m/\u001b[0m\u001b[0;36m2\u001b[0m\u001b[0;34m)\u001b[0m\u001b[0;34m\u001b[0m\u001b[0;34m\u001b[0m\u001b[0m\n\u001b[0m",
            "\u001b[0;31mTypeError\u001b[0m: unsupported operand type(s) for /: 'list' and 'int'"
          ]
        }
      ]
    },
    {
      "cell_type": "code",
      "source": [
        "#Array produce the set of same datatype elements\n",
        "TArray = np.array([1,2,3,'T'])#adata types are changed to the string even we declare them as the integers\n",
        "print(TArray)\n",
        "\n",
        "#List takes any type of data types as arguments\n",
        "RList = [1,2,3,'R']\n",
        "print(RList)"
      ],
      "metadata": {
        "colab": {
          "base_uri": "https://localhost:8080/"
        },
        "id": "AnnIugcwGZD4",
        "outputId": "bc694fe2-ec8d-449f-87ee-54786b78f2f7"
      },
      "execution_count": null,
      "outputs": [
        {
          "output_type": "stream",
          "name": "stdout",
          "text": [
            "['1' '2' '3' 'T']\n",
            "[1, 2, 3, 'R']\n"
          ]
        }
      ]
    },
    {
      "cell_type": "markdown",
      "source": [
        "Operation| Time Comolexity | Space Complexity\n",
        "--|:--|:--|\n",
        "Creating a list |O(1)|O(n)\n",
        "Inserting a value in list| O(1)/O(n)| O(1)\n",
        "Traversing a given list| O(n)|O(1)\n",
        "Accessing a given cell| O(1)|O(1)\n",
        "Searching a given value| O(n)| O(1)\n",
        "Deleting a given value| O(1)/O(n)| O(1)\n"
      ],
      "metadata": {
        "id": "lfHtW1wKVHlA"
      }
    },
    {
      "cell_type": "markdown",
      "source": [
        "Here is an example implementation of calculating the averge temperature and number of days above the average temperature."
      ],
      "metadata": {
        "id": "bsLZlVhm0UNU"
      }
    },
    {
      "cell_type": "code",
      "source": [
        "def fun():\n",
        "  lists = []\n",
        "  inp1 = int(input(\"How many day's temperature? \"))\n",
        "  for i in range(1,inp1+1):\n",
        "    inp2 = int(input(\"Enter \"+str(i)+\" days' temperature \"))\n",
        "    lists.append(inp2)\n",
        "  avg = round(sum(lists)/inp1,2)\n",
        "  count = 0\n",
        "  for i in lists:\n",
        "    if i>avg:\n",
        "      count+=1\n",
        "  print('\\nAverage ='+str(avg),\"\\n\"+str(count)+' day(s) above average')\n",
        "fun()\n",
        ""
      ],
      "metadata": {
        "colab": {
          "base_uri": "https://localhost:8080/"
        },
        "id": "RHhOHEz20dSg",
        "outputId": "20302a84-3217-440a-fc82-fe6cda45bb36"
      },
      "execution_count": null,
      "outputs": [
        {
          "output_type": "stream",
          "name": "stdout",
          "text": [
            "How many day's temperature? 1\n",
            "Enter 1 days' temperature 5\n",
            "\n",
            "Average =5.0 \n",
            "0 day(s) above average\n"
          ]
        }
      ]
    },
    {
      "cell_type": "markdown",
      "source": [
        "Calculate the missing element from the list"
      ],
      "metadata": {
        "id": "y4y5iJiwCKpU"
      }
    },
    {
      "cell_type": "code",
      "source": [
        "lists = [1,2,3,4,5,6,7,8,9,10,11,12,13,14,15,16,17,18,19,20,21,22,23,24,25,26,27,28,29,30,31,32,33,34,35,36,37,38,39,40,41,42,43,44,45,46,47,48,49,51,52,53,54,55,56,57,58,59,60,61,62,63,64,65,66,67,68,69,70,71,72,73,74,75,76,77,78,79,80,81,82,83,84,85,86,87,88,89,90,91,92,93,94,95,96,97,98,99,100]\n",
        "def fun(lists,n):\n",
        "  sum1 = 100*101/2\n",
        "  sum2 = sum(lists)\n",
        "  print(sum1-sum2)\n",
        "fun(lists,100)\n"
      ],
      "metadata": {
        "colab": {
          "base_uri": "https://localhost:8080/"
        },
        "id": "UKcLg-UlCJH2",
        "outputId": "91907860-7b19-4165-d61a-a5d6f64d7f25"
      },
      "execution_count": null,
      "outputs": [
        {
          "output_type": "stream",
          "name": "stdout",
          "text": [
            "50.0\n"
          ]
        }
      ]
    },
    {
      "cell_type": "markdown",
      "source": [
        "#5. Dictionaries"
      ],
      "metadata": {
        "id": "rmivas7WFq2q"
      }
    },
    {
      "cell_type": "markdown",
      "source": [
        "The dictionary is the coleection of unordered, changeble and indexed.\n",
        "\n",
        "It represented using the 'Key' and 'Value'.\n"
      ],
      "metadata": {
        "id": "4GBfLDT-4GLq"
      }
    },
    {
      "cell_type": "markdown",
      "source": [
        "#####Creating A dictionary"
      ],
      "metadata": {
        "id": "MrDoBOG4693I"
      }
    },
    {
      "cell_type": "code",
      "source": [
        "dictionary = {\"rishi\": 35,\"Soma\": 25, \"subbu\" : 45}   # cannot use the dupicate keys\n",
        "print(dictionary)\n",
        "\n",
        "# use dict method\n",
        "my_dict = dict()\n",
        "print(my_dict)\n",
        "\n",
        "# Access\n",
        "dictionary[\"Soma\"] # using the key values\n"
      ],
      "metadata": {
        "colab": {
          "base_uri": "https://localhost:8080/"
        },
        "id": "6Uf8-Hqi7CdZ",
        "outputId": "d7323f0c-acc9-410e-ee5d-c530de5ae74f"
      },
      "execution_count": null,
      "outputs": [
        {
          "output_type": "stream",
          "name": "stdout",
          "text": [
            "{'rishi': 35, 'Soma': 25, 'subbu': 45}\n",
            "{}\n"
          ]
        },
        {
          "output_type": "execute_result",
          "data": {
            "text/plain": [
              "25"
            ]
          },
          "metadata": {},
          "execution_count": 7
        }
      ]
    },
    {
      "cell_type": "markdown",
      "source": [
        "  The key is taken as input to generte the index with the hash value by hash function and returns the ouput as the key value pair in a meomroy index.\n",
        "\n",
        "\n",
        "For example we have the dictionary as\n",
        "\n",
        "my_dictionary = {\"Rishi\": 35, \"Soma\" : 25, \"Subbu\" : 45, \"Kasha\",: 55}\n",
        "\n",
        "now lets see how they are stored in the memory,\n",
        "For first storing the initial key\n",
        "\n",
        "Rishi-> hashfun() --- hash value(2171728)----array index = 3\n",
        "\n",
        "Soma-> hashfun() --- hash value (2171781)----array index = 1\n",
        "\n",
        "Subbu-> hashfun() --- hash value(2181928)----array index = 2\n",
        "\n",
        "Kasha-> hashfun() --- hash value(1781928)----array index = 0\n",
        "\n",
        "Index| Memory Space\n",
        "--|:--|\n",
        "0 |Kasha 55\n",
        "1| Soma 25\n",
        "2| Subbu 45\n",
        "3| Rishi 35\n",
        "\n",
        "Sometimes the value directs to the index that already occupied then the key-value pair is stored as the Linked list to the other key-value pair."
      ],
      "metadata": {
        "id": "TxAGHe6geyrx"
      }
    },
    {
      "cell_type": "markdown",
      "source": [
        "##### Update and Insert Elements"
      ],
      "metadata": {
        "id": "cH2NAp4VIaZs"
      }
    },
    {
      "cell_type": "code",
      "source": [
        "#Update or Insert an element in a Dictionary\n",
        "\n",
        "#update\n",
        "DIct = {'employee': 'Michel', 'ID': 7, \"Department\": \"Science Engineer\"}\n",
        "print(DIct)\n",
        "DIct[\"Department\"] = \"Associate Engineer\"\n",
        "print(DIct)\n",
        "# Time complexity : O(1)\n",
        "# Space Compexity : O(1)\n",
        "\n",
        "\n",
        "#ADD ELEMENT ( check where it exist to update but the Emp iD is not in \"DIct\" so it  ADD as another Key value pair)\n",
        "DIct[\"Emp ID\"] = 1234\n",
        "print(DIct)\n",
        "# Time complexity : O(1)\n",
        "# Space Complexity : amortized O(1)\n",
        "# Gernerally it is O(1) but changes to o(n) when the underlying DS needs to grow orshrink. It happens indfrequently so named as amoritzed"
      ],
      "metadata": {
        "colab": {
          "base_uri": "https://localhost:8080/"
        },
        "id": "Ys_wkbOTjCrJ",
        "outputId": "2481ce1c-f467-4d1c-9d5d-0f9908a0bb34"
      },
      "execution_count": null,
      "outputs": [
        {
          "output_type": "stream",
          "name": "stdout",
          "text": [
            "{'employee': 'Michel', 'ID': 7, 'Department': 'Science Engineer'}\n",
            "{'employee': 'Michel', 'ID': 7, 'Department': 'Associate Engineer'}\n",
            "{'employee': 'Michel', 'ID': 7, 'Department': 'Associate Engineer', 'Emp ID': 1234}\n"
          ]
        }
      ]
    },
    {
      "cell_type": "markdown",
      "source": [
        "#####Traverse through the dictionary"
      ],
      "metadata": {
        "id": "SifdNjyGykzM"
      }
    },
    {
      "cell_type": "code",
      "source": [
        "DIct = {'employee': 'Michel', 'ID': 7, \"Department\": \"Science Engineer\",\"Emp ID\": 1234}\n",
        "\n",
        "def traverse(dicts):      #time Complexity : O(n) as per for loop # Space Complexity : O(1)\n",
        "  for key in dicts:\n",
        "    print(key, dicts[key])\n",
        "\n",
        "traverse(DIct)\n"
      ],
      "metadata": {
        "colab": {
          "base_uri": "https://localhost:8080/"
        },
        "id": "kJZAiIpMyoae",
        "outputId": "f11d3c9c-8852-422d-e8d8-045d6cbab710"
      },
      "execution_count": null,
      "outputs": [
        {
          "output_type": "stream",
          "name": "stdout",
          "text": [
            "employee Michel\n",
            "ID 7\n",
            "Department Science Engineer\n",
            "Emp ID 1234\n"
          ]
        }
      ]
    },
    {
      "cell_type": "markdown",
      "source": [
        "#####Search inside the dictionary"
      ],
      "metadata": {
        "id": "1J38Asdcz6cu"
      }
    },
    {
      "cell_type": "code",
      "source": [
        "\n",
        "# Linear Search\n",
        "DIct = {'employee': 'Michel', 'ID': 7, \"Department\": \"Science Engineer\",\"Emp ID\": 1234, \"slary\": 25000}\n",
        "\n",
        "def searchfun(dicts, value): # time Complexity : O(n) # Space complexity : O(1)\n",
        "  for key in dicts:\n",
        "    if dicts[key] == value:\n",
        "      return key, value\n",
        "  return \"No such value found for keys\"\n",
        "\n",
        "print(searchfun(DIct, 0))\n",
        "print(searchfun(DIct, 1234))"
      ],
      "metadata": {
        "colab": {
          "base_uri": "https://localhost:8080/"
        },
        "id": "JCzL90psz92d",
        "outputId": "4fa81eac-4d7a-4e3c-98cf-8bc139441ac2"
      },
      "execution_count": null,
      "outputs": [
        {
          "output_type": "stream",
          "name": "stdout",
          "text": [
            "No such value found for keys\n",
            "('Emp ID', 1234)\n"
          ]
        }
      ]
    },
    {
      "cell_type": "markdown",
      "source": [
        "#####Delete or Remove element for dictionary\n",
        "\n",
        "Time complexity : O(1)\n",
        "\n",
        "Worst Time complexity :  Amortized O(n)\n",
        "\n",
        "Space Complexity : O(1)"
      ],
      "metadata": {
        "id": "eW73WtbV1oba"
      }
    },
    {
      "cell_type": "code",
      "source": [
        "# POP() method\n",
        "print(DIct.pop('ID'))  # returns the value of the respective key\n",
        "print(DIct)\n",
        "\n",
        "# popitem() method\n",
        "# Used to remove and return an arbitary item from the dictionary\n",
        "#Doesn't take an parameter, returns the key and value pair\n",
        "print(DIct.popitem()) # deletes any item from the dictionary randomly\n",
        "print(DIct)\n",
        "\n",
        "\n",
        "# using the \"del\"  any particular ite, from the dictionary\n",
        "del DIct['employee']\n",
        "# if we want to delete entire dictionary using \"del\" then we no need to wriet any keyword specifically after deleting we can't print the dictionary it gives an error\n",
        "print(DIct)\n",
        "\n",
        "\n",
        "\n",
        "\n",
        "# Clear() Method\n",
        "# Delete all the elements from the dictioanry.\n",
        "DIct.clear()\n",
        "\n",
        "print(DIct)"
      ],
      "metadata": {
        "colab": {
          "base_uri": "https://localhost:8080/"
        },
        "id": "eTHzFy_d14O9",
        "outputId": "bbf66acf-4559-419f-ac3c-5021acf9ae76"
      },
      "execution_count": null,
      "outputs": [
        {
          "output_type": "stream",
          "name": "stdout",
          "text": [
            "7\n",
            "{'employee': 'Michel', 'Department': 'Science Engineer', 'Emp ID': 1234, 'slary': 25000}\n",
            "('slary', 25000)\n",
            "{'employee': 'Michel', 'Department': 'Science Engineer', 'Emp ID': 1234}\n",
            "{'Department': 'Science Engineer', 'Emp ID': 1234}\n",
            "{}\n"
          ]
        }
      ]
    },
    {
      "cell_type": "markdown",
      "source": [
        "#####Dictionary Methods\n",
        "\n",
        "* Clear() - dict.clear() -Doesn't take any parameter or return any value\n",
        "* Copy() - dict.copy() - creates a new dictioanry and fill the values with values of dict and return the shell copy of dict\n",
        "*  fromkeys() - dictioanry.fromkeys(sequence[], value) - creates a new dictionary and store the sequence list  as keys and values in the respective sequences, sequences are mandatory where as the values are not.  \n",
        "\n",
        "* get() - dictionary,get(key, value) - used to retrive the value of the respective key from the dictionary\n",
        "\n",
        "* items() - dictionary.items() - used for getting the key value pairs as tuples in a list\n",
        "\n",
        "* keys() - dictionary.keys() - returns the list of keys\n",
        "\n",
        "* values() - dictionary.values() - returns the list of values in key value pair\n",
        "\n",
        "popitem() - dictionary.popitem() - deletes any key values pair form the list\n",
        "\n"
      ],
      "metadata": {
        "id": "dRzj4cN76fCf"
      }
    },
    {
      "cell_type": "code",
      "source": [
        "dicts = dict()\n",
        "dicts[\"Hello\"] = \"Good Morning\"\n",
        "dicts['Rishikesh'] = \"is The speaker\"\n",
        "dicts[\"Are\"] = \"you awake?\"\n",
        "print(dicts)\n",
        "\n",
        "\n",
        "#copy method()\n",
        "cts = dicts.copy()\n",
        "print(cts)\n",
        "\n",
        "#clear method()\n",
        "dicts.clear()\n",
        "print(dicts)\n",
        "\n",
        "#fromkeys method(sequence(keys)[], Value)\n",
        "new = {}.fromkeys([1,2,3,4], \"kudos\")\n",
        "print(new)\n",
        "\n",
        "\n",
        "# Get method(key, value)\n",
        "cts.get(\"Rishikesh\", 3) # return the value of key if key exists in the dictioanry else return the value if specified any!\n",
        "\n",
        "# Items method()\n",
        "print(cts.items()) # return the list tuples of key value pairs\n",
        "\n",
        "# Keys method()\n",
        "print(cts.keys()) # return the Keys in list\n",
        "\n",
        "# Value method()\n",
        "print(cts.values())\n",
        "\n",
        "# popitem method ()\n",
        "cts.popitem() # delete any key value pair from the dictionary\n",
        "print(cts)\n",
        "\n",
        "# Setdefault method()\n",
        "cts.setdefault(\"First\",\"Kirrak\") # Value and key will be added to dictionary\n",
        "print(cts)\n",
        "print(cts.setdefault(\"Hello\", 23)) # returns the correct value from the list is key exists\n",
        "print(cts)\n",
        "#using setdefault() if value doesn't specified then return the return the \"none\"\n",
        "\n",
        "# pop method(key, value(optioanl))\n",
        "print(cts.pop(\"i\", 31))\n",
        "print(cts.pop(\"Hello\"))\n",
        "# deletes the value key pair if key exists else return the value if specified or \"None\" by default\n",
        "\n",
        "# update method(other dictionary)\n",
        "cts.update(new)\n",
        "print(cts)"
      ],
      "metadata": {
        "colab": {
          "base_uri": "https://localhost:8080/"
        },
        "id": "HAiczPeW6tF7",
        "outputId": "fffbe669-266f-482f-864e-9b78fa27cf3f"
      },
      "execution_count": null,
      "outputs": [
        {
          "output_type": "stream",
          "name": "stdout",
          "text": [
            "{'Hello': 'Good Morning', 'Rishikesh': 'is The speaker', 'Are': 'you awake?'}\n",
            "{'Hello': 'Good Morning', 'Rishikesh': 'is The speaker', 'Are': 'you awake?'}\n",
            "{}\n",
            "{1: 'kudos', 2: 'kudos', 3: 'kudos', 4: 'kudos'}\n",
            "dict_items([('Hello', 'Good Morning'), ('Rishikesh', 'is The speaker'), ('Are', 'you awake?')])\n",
            "dict_keys(['Hello', 'Rishikesh', 'Are'])\n",
            "dict_values(['Good Morning', 'is The speaker', 'you awake?'])\n",
            "{'Hello': 'Good Morning', 'Rishikesh': 'is The speaker'}\n",
            "{'Hello': 'Good Morning', 'Rishikesh': 'is The speaker', 'First': 'Kirrak'}\n",
            "Good Morning\n",
            "{'Hello': 'Good Morning', 'Rishikesh': 'is The speaker', 'First': 'Kirrak'}\n",
            "31\n",
            "Good Morning\n",
            "{'Rishikesh': 'is The speaker', 'First': 'Kirrak', 1: 'kudos', 2: 'kudos', 3: 'kudos', 4: 'kudos'}\n"
          ]
        }
      ]
    },
    {
      "cell_type": "markdown",
      "source": [
        "#####Dictinary operations and Built in functions\n",
        "\n",
        "* in operator - (key 'in' dictonary) - check the key is in dict or not. If yes returns \"true\" else \"False\". Also if we want values we can use \".values()\" method\n",
        "\n",
        "* for operator - (for \"keys\" in dictionary) traverse through all the elements.\n",
        "\n",
        "* all () - all(dictionary) -\n",
        "\n",
        "Cases| Return Value\n",
        "--|:--|\n",
        "All the values are ture| TRUE\n",
        "All the values are false| FALSE\n",
        "One value is the true others are false| FALSE\n",
        "One value is false others are true| FALSE\n",
        "Empty Iterable| TRUE\n",
        "\n",
        "\n",
        "* any() - any(dictionary) -\n",
        "\n",
        "Cases| Return Value\n",
        "--|:--|\n",
        "All the values are ture| TRUE\n",
        "All the values are false| FALSE\n",
        "One value is the true others are false| TRUE\n",
        "One value is false others are true| TRUE\n",
        "Empty Iterable| FALSE\n",
        "\n",
        "* len() - len(dictioanry) - number of items in sequence\n",
        "\n",
        "* sorted() - sorted(dictionary) - sort the dictionary with the keys(if string then return the ascii order) and return the list of sorted keys"
      ],
      "metadata": {
        "id": "C3Fr__76Gdup"
      }
    },
    {
      "cell_type": "code",
      "source": [
        "dicts = {\"Name\": \"Rishikesh D\",\"Salary\": 76000, \"ROll NO\": \"19bcs035\",\"Branch\": \"CSE\"}\n",
        "\n",
        "# in operator\n",
        "print(\"Saary\" in dicts)\n",
        "print(\"Name\" in dicts)\n",
        "print(76000 in dicts.values())  #} time complexity - O(n)\n",
        "\n",
        "# for operator\n",
        "for keys in dicts:\n",
        "  print(keys, dicts[keys]) # time complexity - O(n)\n",
        "\n",
        "# all()\n",
        "mylist = {0:\"True\", 1:\"False\",2:\"False\", 3:\"False\"}\n",
        "print(all(mylist))\n",
        "\n",
        "Us = {0:False,1:False,2:False}\n",
        "print(all(Us))\n",
        "\n",
        "kill = {1:\"True\", 2:\"True\",3:\"True\",4:\"True\"}\n",
        "print(all(kill))\n",
        "\n",
        "isl = {0:True,1: True, 2: False, 3: True}\n",
        "print(all(isl))\n",
        "\n",
        "ur = {}\n",
        "print(all(ur))\n",
        "\n",
        "# any ()\n",
        "\n",
        "print(any(ur))\n",
        "print(any(mylist))\n",
        "\n",
        "# len()\n",
        "print(len(dicts))\n",
        "\n",
        "# sorted()\n",
        "print(sorted(dicts, key = len))\n"
      ],
      "metadata": {
        "id": "EchR1ML7GlsI",
        "colab": {
          "base_uri": "https://localhost:8080/"
        },
        "outputId": "6a879f20-5a77-4036-81c7-33b0980fd4ce"
      },
      "execution_count": null,
      "outputs": [
        {
          "output_type": "stream",
          "name": "stdout",
          "text": [
            "False\n",
            "True\n",
            "True\n",
            "Name Rishikesh D\n",
            "Salary 76000\n",
            "ROll NO 19bcs035\n",
            "Branch CSE\n",
            "False\n",
            "False\n",
            "True\n",
            "False\n",
            "True\n",
            "False\n",
            "True\n",
            "4\n",
            "['Name', 'Salary', 'Branch', 'ROll NO']\n"
          ]
        }
      ]
    },
    {
      "cell_type": "markdown",
      "source": [
        "##### Dictionary vs Lists\n",
        "\n",
        "Dictionary| Lists\n",
        "--|:--|\n",
        "Unordered| Ordered\n",
        "Access via keys| Access via index\n",
        "Collection of key value pairs| Collection of elements\n",
        "Preferred when you have unique key values | Preferred when you have the ordered data\n",
        "No duplicate members| Allow the duplicate"
      ],
      "metadata": {
        "id": "V6HYCpbOdiSi"
      }
    },
    {
      "cell_type": "markdown",
      "source": [
        "##### Dictionaries Time and Space Complexity\n",
        "\n",
        "Operation| Time Complexity | Space Complexity\n",
        "--|:--|:--|\n",
        "Creating a dictionary|O(len(dictionary)|O(n)\n",
        "Inserting a value in a dictionary| O(1)/O(n)| O(1)\n",
        "Traversing a given dictionary| O(n)|O(1)\n",
        "Accessing a given cell| O(1)|O(1)\n",
        "Searching a given value| O(n)| O(1)\n",
        "Deleting a given value| O(1)| O(1)"
      ],
      "metadata": {
        "id": "I76DoOXFip36"
      }
    },
    {
      "cell_type": "markdown",
      "source": [
        "#6. Tuples\n",
        "\n",
        "Tuples are immutable sequence of python objects that can be comparable and hashable"
      ],
      "metadata": {
        "id": "JYx0fdcJvZh_"
      }
    },
    {
      "cell_type": "markdown",
      "source": [
        "##### Tuple creation\n",
        "\n",
        "Time complexity  - O(1) and Space Complexity - O(n)"
      ],
      "metadata": {
        "id": "SpP8uippzQwE"
      }
    },
    {
      "cell_type": "code",
      "source": [
        "tup = (\"a\",\"e\",\"i\",\"o\",\"u\")\n",
        "print(tup)\n",
        "\n",
        "t = (\"r\") #(\"r\",)\n",
        "print(t)\n",
        "\n",
        "r = tuple('122334') # allows the dupicates\n",
        "print(r)\n",
        "\n",
        "#"
      ],
      "metadata": {
        "colab": {
          "base_uri": "https://localhost:8080/"
        },
        "id": "f7eBCsJKvZlk",
        "outputId": "4b88acb7-5267-42e8-a0b3-4bb347701b98"
      },
      "execution_count": null,
      "outputs": [
        {
          "output_type": "stream",
          "name": "stdout",
          "text": [
            "('a', 'e', 'i', 'o', 'u')\n",
            "r\n",
            "('1', '2', '2', '3', '3', '4')\n"
          ]
        }
      ]
    },
    {
      "cell_type": "markdown",
      "source": [
        "##### Tuples in Memory/ Accessing an element of tuple\n",
        "\n",
        "They are stored in an ordered way in an contiguous manner which also increases the performance of tuple while accessing the elements.\n",
        "\n",
        "Main difference between the list and tuples is Tuples are immutable as we cannot change the elemnts once declared."
      ],
      "metadata": {
        "id": "JEeQeGGj0dZs"
      }
    },
    {
      "cell_type": "code",
      "source": [
        "tuples = (\"a\",\"e\",\"i\",\"o\",\"u\")\n",
        "# Access the elements\n",
        "\n",
        "#using the indices\n",
        "print(tuples[2])\n",
        "print(tuples[-1])\n",
        "\n",
        "# using the slice operator\"[:]\"\n",
        "print(tuples[::-1])\n",
        "# as change from list is we cannot modify the elements just like list\n",
        "for i in tuples:\n",
        "  print(i)             # Time Complexity  - O(n) and Space Compexity - O(1)\n",
        "\n",
        "# Traverse a tuple\n",
        "print(\"-------------------------\")\n",
        "for i in range(len(tuples)):\n",
        "  print(tuples[i])"
      ],
      "metadata": {
        "colab": {
          "base_uri": "https://localhost:8080/"
        },
        "id": "TTNCg5nD2FWO",
        "outputId": "d3ecb91a-f619-4860-86f9-304792ff06f0"
      },
      "execution_count": null,
      "outputs": [
        {
          "output_type": "stream",
          "name": "stdout",
          "text": [
            "i\n",
            "u\n",
            "('u', 'o', 'i', 'e', 'a')\n",
            "a\n",
            "e\n",
            "i\n",
            "o\n",
            "u\n",
            "-------------------------\n",
            "a\n",
            "e\n",
            "i\n",
            "o\n",
            "u\n"
          ]
        }
      ]
    },
    {
      "cell_type": "markdown",
      "source": [
        "##### Searching element in tuple\n"
      ],
      "metadata": {
        "id": "UGEscUARJS15"
      }
    },
    {
      "cell_type": "code",
      "source": [
        "tu = ('5',2,4,'r','t','6',32,'r')\n",
        "print(\"Using 'in' operator\")\n",
        "print('4' in tu) # TIme complexity is O(n)\n",
        "\n",
        "\n",
        "print(\"Using index method\")     # time complexity is O(1)\n",
        "print(tu.index(2))\n",
        "\n",
        "print(\"Using the linear search\")\n",
        "def fun(s, target):\n",
        "  for i in range(len(s)):      # Time complexity is O(n)\n",
        "    if s[i] == target:\n",
        "      print(f\"THE INDEX IS {i}\")\n",
        "      return s.index(s[i])\n",
        "  return f\"Index not found!\"\n",
        "fun(tu, 'r')"
      ],
      "metadata": {
        "id": "FGa62wBRNJQk",
        "colab": {
          "base_uri": "https://localhost:8080/"
        },
        "outputId": "e62be73d-a56b-4921-8fc1-1f11670d1c50"
      },
      "execution_count": null,
      "outputs": [
        {
          "output_type": "stream",
          "name": "stdout",
          "text": [
            "Using 'in' operator\n",
            "False\n",
            "Using index method\n",
            "1\n",
            "Using the linear search\n",
            "THE INDEX IS 3\n",
            "2\n"
          ]
        }
      ]
    },
    {
      "cell_type": "markdown",
      "source": [
        "##### Operations in tuple"
      ],
      "metadata": {
        "id": "rj4s3s06f6k7"
      }
    },
    {
      "cell_type": "code",
      "source": [
        "# Using \"+\" operator concat two tuples\n",
        "tup = ('Hi','Good','Morning.')\n",
        "le = ('Have','a','great','Monday!')\n",
        "print(tup+le)\n",
        "\n",
        "# using the \"*\" operator\n",
        "# \"*\" is used for the printing the same tuple or list multiple times\n",
        "print(tup*4)\n",
        "\n",
        "# using \"in\" operator for searching the element\n",
        "print('a'in tup+le)\n",
        "\n",
        "# using the \"count\" for get the counts of an element\n",
        "print(le.count('a'))\n",
        "\n",
        "# using the \"index\" for returning the index of the specific element\n",
        "print(tup.index('Hi'))\n",
        "# using the \"len\" for having the length of the tuple\n",
        "print(len(tup+le*3))\n",
        "#using the \"max\" and \"min\" method\n",
        "print(max(tup+le))\n",
        "print(min(tup))\n",
        "#it check the ascii values\n",
        "\n",
        "# Using the tuple method\n",
        "print(tuple('17189u717'))"
      ],
      "metadata": {
        "colab": {
          "base_uri": "https://localhost:8080/"
        },
        "id": "qVQwlgaagV47",
        "outputId": "81581f08-72e9-4fd4-fa80-8c8736a42c02"
      },
      "execution_count": null,
      "outputs": [
        {
          "output_type": "stream",
          "name": "stdout",
          "text": [
            "('Hi', 'Good', 'Morning.', 'Have', 'a', 'great', 'Monday!')\n",
            "('Hi', 'Good', 'Morning.', 'Hi', 'Good', 'Morning.', 'Hi', 'Good', 'Morning.', 'Hi', 'Good', 'Morning.')\n",
            "True\n",
            "1\n",
            "0\n",
            "15\n",
            "great\n",
            "Good\n",
            "('1', '7', '1', '8', '9', 'u', '7', '1', '7')\n"
          ]
        }
      ]
    },
    {
      "cell_type": "markdown",
      "source": [
        "##### List vs Tuple\n",
        "\n",
        "* List are mutable, i.e., we can change the lists elements(add, delete, sort, reverse,etc)\n",
        "Bu the tuples are immutable , we cannot change the elements in the tuples. So we cannot perform the operations such as insertion, change, delete on single elements.\n",
        "\n",
        "* Tuples use the following functions same as the lists\n",
        "    * len(), max(), min(), sum(), any(), all(), sorted()\n",
        "* Methods that are Not used in tuples are\n",
        "    * append(), insert(), remove(), pop(), clear(), sort(), reverse()\n",
        "* Tuples can be stored in lists and Lists cambe stored in tuples.\n",
        "* Tuples and lists can be Nested\n",
        "\n",
        "Tuples | Lists|\n",
        "----|: ----|\n",
        "Immutable | Mutable\n",
        "Cannot be modified | Can be modified\n",
        "'( )' are used to represent | '[ ]' are used to represent\n",
        "Is generaalu used for homogenous datatypes (similar) | Is generally used for Non homogeneous datatypes(Different)\n",
        "More faster iterable than lists (Static nature) | Slower as compared to tuples(Dynamic Nature)\n",
        "\n",
        "* As tuple has immutable elements used for the key in dictionary\n",
        "* If you have data that doesn't change, tuples are most suggested to use for the data protection."
      ],
      "metadata": {
        "id": "y8b_Da3JuOnq"
      }
    },
    {
      "cell_type": "markdown",
      "source": [
        "##### Tuples time and space complexities\n",
        "Operation | Time Complexity | Space Complexity\n",
        "---|: ---|: ---|\n",
        "Creating a tuple| O(1) | O(n)\n",
        "Traverse a given tuple|O(n) | O(1)\n",
        "Accessing a given element| O(1)| O(1)\n",
        "Searching a given element| O(n) | O(1)\n",
        "\n",
        "\n",
        ""
      ],
      "metadata": {
        "id": "zbMYWeOhpKmG"
      }
    },
    {
      "cell_type": "markdown",
      "source": [
        "#Linked List\n",
        "\n",
        "linked list are sequential collection where they are unordered i.e., stored at different locations. These are made up of nodes which are independent and contains data of that node and reference for the next node i.e., link. The first node is called head and last node called as tail.\n",
        "\n",
        "Ex : Train has engine and all the other cars(nodes) and they have linked between them to connect(links). In this the head engine is head and last car is called tail.\n",
        "\n",
        "* Each node is independent.\n",
        "* If we want to visit node them need to traverse from start till that node.\n",
        "* Nodes: (Data and links)\n",
        "* Nodes are not conginuous\n"
      ],
      "metadata": {
        "id": "jMPEpTGmslu8"
      }
    },
    {
      "cell_type": "code",
      "source": [
        "# Linked list look like this\n",
        "print(f\"\"\"\n",
        "\n",
        "        ----------       -------       -------       -------       --------\n",
        "Head--> |Head|010|  ---> |5|121|  ---> |6|242|  ---> |7|484|  ---> |8|Null| <----\n",
        "        ----------       -------       -------       -------       --------     |\n",
        "                           010           121           242           484        |\n",
        "                                                                            ----------\n",
        "                                                                            |Tail|484|\n",
        "                                                                            ----------\n",
        "\"\"\")"
      ],
      "metadata": {
        "id": "AwjqgSVOsop3",
        "colab": {
          "base_uri": "https://localhost:8080/"
        },
        "outputId": "3eb04d4d-f8ad-443b-b393-da32f8b46df7"
      },
      "execution_count": null,
      "outputs": [
        {
          "output_type": "stream",
          "name": "stdout",
          "text": [
            "\n",
            "\n",
            "        ----------       -------       -------       -------       --------\n",
            "Head--> |Head|010|  ---> |5|121|  ---> |6|242|  ---> |7|484|  ---> |8|Null| <----\n",
            "        ----------       -------       -------       -------       --------     |\n",
            "                           010           121           242           484        |\n",
            "                                                                            ----------\n",
            "                                                                            |Tail|484|\n",
            "                                                                            ----------\n",
            "\n"
          ]
        }
      ]
    },
    {
      "cell_type": "markdown",
      "source": [
        "#####Properties\n",
        "\n",
        "* Head does not have the reference. It is used because to indicate the starting point of linked list.\n",
        "* Elements of linked list are independent objects.\n",
        "* As compared to arrays the linked lists are quite simple to do opertions over them, reduces its time complexities(memory locations are dynamic).\n",
        "* The linked list size is variable so can be done dynamically.\n",
        "* Ramdomly accessing elements are difficult, as arrays are easier than linked lists due to traversal of whole linked lists to get that element."
      ],
      "metadata": {
        "id": "FBAZ1RzGnyXy"
      }
    },
    {
      "cell_type": "markdown",
      "source": [
        "##### Types of linked lists\n",
        "\n",
        "* Single Linked Lists:\n",
        "\n",
        "    A single linked list is node has reference to only next node but not previou one and also the linked list is doen't form a circle, i.e., the last node will link will be null. A node contain two things they are data and link to next node."
      ],
      "metadata": {
        "id": "ALhC5ZY074vi"
      }
    },
    {
      "cell_type": "code",
      "source": [
        "print(f\"\"\"\n",
        "\n",
        "        ----------       -------       -------       -------\n",
        "Head--> |Head|001|  ---> |1|111|  ---> |2|112|  ---> |3|Null|  <---\n",
        "        ----------       -------       -------       -------      |\n",
        "                                                              ----------\n",
        "                                                              |Tail|112|\n",
        "                                                              ----------\n",
        "\"\"\")"
      ],
      "metadata": {
        "colab": {
          "base_uri": "https://localhost:8080/"
        },
        "id": "ObWZnwjP17k3",
        "outputId": "71b89ed3-e10c-445b-b0a6-60397cdcaaea"
      },
      "execution_count": null,
      "outputs": [
        {
          "output_type": "stream",
          "name": "stdout",
          "text": [
            "\n",
            "\n",
            "        ----------       -------       -------       -------\n",
            "Head--> |Head|001|  ---> |1|111|  ---> |2|112|  ---> |3|Null|  <---\n",
            "        ----------       -------       -------       -------      |\n",
            "                                                              ----------\n",
            "                                                              |Tail|112|\n",
            "                                                              ----------\n",
            "\n"
          ]
        }
      ]
    },
    {
      "cell_type": "markdown",
      "source": [
        "* Circular singly linked lists:\n",
        "\n",
        "    Same as single linked list but difference is that the last node refer/link to the first node and form the circle. As an example, in a multiplayer Ludo game the turns starts from the first player and comes need to come to the first player again as because to continue the game until someone wins, so return to first player again after the turn of the last player, circular linked list can be used for the implementation."
      ],
      "metadata": {
        "id": "TaZCOiKG17JB"
      }
    },
    {
      "cell_type": "code",
      "source": [
        "print(f\"\"\"\n",
        "                       Last Link to the first node and from a cicle\n",
        "                          ----------------------------------\n",
        "                          ↓                                ↑\n",
        "        ----------       -------       -------       -------\n",
        "Head--> |Head|001|  ---> |1|111|  ---> |2|112|  ---> |3|001|  <---\n",
        "        ----------       -------       -------       -------      ↑\n",
        "                           001           111           112        |\n",
        "                                                              ----------\n",
        "                                                              |Tail|112|\n",
        "                                                              ----------\n",
        "\"\"\")"
      ],
      "metadata": {
        "colab": {
          "base_uri": "https://localhost:8080/"
        },
        "id": "BxdThETx2Hre",
        "outputId": "836aee4d-679e-48b5-f3c3-88d5b754563c"
      },
      "execution_count": null,
      "outputs": [
        {
          "output_type": "stream",
          "name": "stdout",
          "text": [
            "\n",
            "                       Last Link to the first node and from a cicle\n",
            "                          ----------------------------------\n",
            "                          |                                |\n",
            "        ----------       -------       -------       -------\n",
            "Head--> |Head|001|  ---> |1|111|  ---> |2|112|  ---> |3|001|  <---\n",
            "        ----------       -------       -------       -------      |\n",
            "                           001           111           112        |\n",
            "                                                              ----------\n",
            "                                                              |Tail|112|\n",
            "                                                              ----------\n",
            "\n"
          ]
        }
      ]
    },
    {
      "cell_type": "markdown",
      "source": [
        "* Doubly linked list:\n",
        "\n",
        "    In here the node has the two links and one data, where the first link points ti the previous node and second link points to the next node and data in the middle.\n",
        "    As an example we want music application to listen the next song and the previous songs we have to refer the previous address of the music link as well as can move to next node by linking the next song."
      ],
      "metadata": {
        "id": "_SGE8Me12JS8"
      }
    },
    {
      "cell_type": "code",
      "source": [
        "print(f\"\"\"\n",
        "                       Each node has the double references\n",
        "\n",
        "                        ------------      -----------      ------------\n",
        "        ----------      |          |      |         |      |          |\n",
        "Head--> |Head|001|  --->|Null|1|111|  --->|001|2|112|  --->|111|3|Null|  <---\n",
        "        ----------      |          |<---  |         |<---  |          |     ↑\n",
        "                        ------------      -----------      ------------     |\n",
        "                             001              111              112          |\n",
        "                                                                        ----------\n",
        "                                                                        |Tail|112|\n",
        "                                                                        ----------\n",
        "\"\"\")"
      ],
      "metadata": {
        "colab": {
          "base_uri": "https://localhost:8080/"
        },
        "id": "-27-m7aw2PGh",
        "outputId": "3d9dc582-9e4b-44a4-a671-67786332dc8c"
      },
      "execution_count": null,
      "outputs": [
        {
          "output_type": "stream",
          "name": "stdout",
          "text": [
            "\n",
            "                       Each node has the double references\n",
            "\n",
            "                        ------------      -----------      ------------\n",
            "        ----------      |          |      |         |      |          |\n",
            "Head--> |Head|001|  --->|Null|1|111|  --->|001|2|112|  --->|111|3|Null|  <---\n",
            "        ----------      |          |<---  |         |<---  |          |     ↑\n",
            "                        ------------      -----------      ------------     |\n",
            "                             001              111              112          |\n",
            "                                                                        ----------\n",
            "                                                                        |Tail|112|\n",
            "                                                                        ----------\n",
            "\n"
          ]
        }
      ]
    },
    {
      "cell_type": "markdown",
      "source": [
        "* Circular double linked list\n",
        "\n",
        "    This type of linked list contain both the characters of the forming a circle as well as having the double links.\n",
        "    As an example, we can see that in laptop if multiple tabs are open then we access them by using the \"alt+shift+Tab\" in Windows and \"cmd+shift+Tab\" in Mac. So we can travel front and back and comes to first tab after the last tab."
      ],
      "metadata": {
        "id": "hEFiu-7w2Pnv"
      }
    },
    {
      "cell_type": "code",
      "source": [
        "print(f\"\"\"\n",
        "                       double refernce + circle = circular double linked list\n",
        "                              -------------------------------------\n",
        "                              ↓                                   ↑\n",
        "        ----------      -----------      -----------      -----------\n",
        "        |        |      |         |      |         |      |         |\n",
        "Head--> |Head|001|  --->|112|1|111|  --->|001|2|112|  --->|111|3|001|  <---\n",
        "        |        | <--- |         | <--- |         | <--- |         |      ↑\n",
        "        ----------      -----------      -----------      -----------      |\n",
        "                           001               111              112          |\n",
        "                                                                        ----------\n",
        "                                                                        |Tail|112|\n",
        "                                                                        ----------\n",
        "\"\"\")"
      ],
      "metadata": {
        "colab": {
          "base_uri": "https://localhost:8080/"
        },
        "id": "FlAIn_Zv2j58",
        "outputId": "43b48d82-504a-43cd-bbfb-70bee1c64072"
      },
      "execution_count": null,
      "outputs": [
        {
          "output_type": "stream",
          "name": "stdout",
          "text": [
            "\n",
            "                       double refernce + circle = circular double linked list\n",
            "                              -------------------------------------\n",
            "                              ↓                                   ↑\n",
            "        ----------      -----------      -----------      -----------\n",
            "        |        |      |         |      |         |      |         |\n",
            "Head--> |Head|001|  --->|112|1|111|  --->|001|2|112|  --->|111|3|001|  <---\n",
            "        |        | <--- |         | <--- |         | <--- |         |      ↑\n",
            "        ----------      -----------      -----------      -----------      |\n",
            "                           001               111              112          | \n",
            "                                                                        ----------\n",
            "                                                                        |Tail|112|\n",
            "                                                                        ----------\n",
            "\n"
          ]
        }
      ]
    },
    {
      "cell_type": "code",
      "source": [
        "import time\n",
        "print(time.ctime())"
      ],
      "metadata": {
        "colab": {
          "base_uri": "https://localhost:8080/"
        },
        "id": "XuFSEa6g32Wh",
        "outputId": "04894b3a-9b6d-4c1c-e268-3bfe40d1b417"
      },
      "execution_count": null,
      "outputs": [
        {
          "output_type": "stream",
          "name": "stdout",
          "text": [
            "Tue Feb 28 07:14:57 2023\n"
          ]
        }
      ]
    },
    {
      "cell_type": "markdown",
      "source": [
        "##### Linked list in memory\n",
        "In memory the linked list are stores data in cells and there cell are not continuous as of arrays/lists, they are arraged at different locations, they are connected with the help of the links that contain the address of the next node. Also we need not to specify the size it allocates at run time but not in case of the arrays.\n",
        "As we don't know locations of the elements, if we want to access them we need to traverse through the linked list. As in case of arrays which stores in contiguous manner we can access them by the indeces."
      ],
      "metadata": {
        "id": "HnQwELj_A4I3"
      }
    },
    {
      "cell_type": "markdown",
      "source": [
        "##### Single Linked List--Creation\n",
        "\n",
        "* Create Head and Tail, Initialize them ith Null.\n",
        "* Create the Node and assign a value to it and reference to Null\n",
        "* Link the head and tail to the nodes."
      ],
      "metadata": {
        "id": "DDx-7PFrCbB2"
      }
    },
    {
      "cell_type": "code",
      "source": [
        "class Node:\n",
        "  def __init__(self,data=None):   #----------O(1)\n",
        "    self.data  = data\n",
        "    self.link = None\n",
        "\n",
        "\n",
        "class SingleLinkedList:\n",
        "  def __init__(self):\n",
        "    self.head = None        #---------O(1)\n",
        "    self.tail= None         #---------O(1)\n",
        "\n",
        "obj = SingleLinkedList()\n",
        "node1 = Node(1)\n",
        "node2 = Node(2)\n",
        "\n",
        "obj.head = node1\n",
        "obj.head.next  = node2      #--------------O(1)\n",
        "obj.tail = node2\n",
        "\n",
        "#Time complexity  = O(1)\n",
        "# Space complexity  = O(1) as we create only one node up there"
      ],
      "metadata": {
        "id": "_b7HQjyTEU4L"
      },
      "execution_count": null,
      "outputs": []
    },
    {
      "cell_type": "markdown",
      "source": [
        "###### Insertion of Linked List in memory\n",
        "* At the begining of the linked list\n",
        "* After a node in the middle of the linked list\n",
        "* At the end of the linked list"
      ],
      "metadata": {
        "id": "Ii4EvHa8Istt"
      }
    },
    {
      "cell_type": "markdown",
      "source": [
        "**Basic Condition**\n",
        "* node has value\n",
        "* node has location\n",
        "* create a node\n",
        "* Assign value"
      ],
      "metadata": {
        "id": "_AUy4qcZM3UU"
      }
    },
    {
      "cell_type": "markdown",
      "source": [
        "**First conditon**\n",
        "\n",
        "check whether the head points to Null that means the node is empty. The directly add the node by\n",
        "\n",
        "* head = node\n",
        "* tail = node"
      ],
      "metadata": {
        "id": "LTywz4zPLAcb"
      }
    },
    {
      "cell_type": "markdown",
      "source": [
        "**Insert at the beginning**\n",
        "\n",
        "If loction is first and head points to a list node then add the element at the beginning.\n",
        "\n",
        "* node.next = head\n",
        "* head = node"
      ],
      "metadata": {
        "id": "vZueVhrsNTqL"
      }
    },
    {
      "cell_type": "markdown",
      "source": [
        "**Insert at the end of the list**\n",
        "\n",
        "if location is last then traverse the entire list and add at the end.\n",
        "\n",
        "* node.next = null\n",
        "* last.next = node\n",
        "* tail = node"
      ],
      "metadata": {
        "id": "BXXY1inRODQP"
      }
    },
    {
      "cell_type": "markdown",
      "source": [
        "**Insert in the middle**\n",
        "\n",
        "If location is none of the above then needed to insert in the middle of the list\n",
        "if locaion is found in the middle while traversing\n",
        "then\n",
        "\n",
        "* current.next = node\n",
        "* node.next = nextnode\n"
      ],
      "metadata": {
        "id": "pg1mSa8wO05m"
      }
    },
    {
      "cell_type": "code",
      "source": [
        "class Node:\n",
        "    def __init__(self, value = None):\n",
        "        self.value = value\n",
        "        self.link = None\n",
        "class ListLinked:\n",
        "    def __init__(self):\n",
        "        self.head = None\n",
        "        self.tail = None\n",
        "    def __iter__(self):\n",
        "        temp = self.head\n",
        "        while temp:\n",
        "            yield temp\n",
        "            temp = temp.link\n",
        "    def insert(self, value, location):\n",
        "        newnode = Node(value)\n",
        "        if self.head == None:                   # If list is empty\n",
        "            self.head = newnode\n",
        "            self.tail = newnode\n",
        "        else:\n",
        "            if location ==0:                    # Insertion at the start\n",
        "                newnode.link = self.head\n",
        "                self.head = newnode\n",
        "            elif location == -1:                 # Insertion at the end\n",
        "                newnode.link = None\n",
        "                self.tail.link = newnode\n",
        "                self.tail = newnode\n",
        "            else:                                 #Insertion in the midddle\n",
        "                tempNode = self.head\n",
        "                index = 0\n",
        "                while index==location:\n",
        "                    tempNode = tempNode.link\n",
        "                    index+=1\n",
        "                nextnode = tempNode.link\n",
        "                tempNode.link = newnode\n",
        "                newnode.link = nextnode\n",
        "                if tempNode == self.tail:\n",
        "                    self.tail = newnode\n",
        "ll = ListLinked()\n",
        "n = int(input(\"Enter the range : \"))\n",
        "for i in range(n):\n",
        "    o = int(input())\n",
        "    r = int(input())\n",
        "    ll.insert(o,r)\n",
        "print([k.value for k in ll])\n"
      ],
      "metadata": {
        "id": "Wu-034oAJDtT",
        "colab": {
          "base_uri": "https://localhost:8080/"
        },
        "outputId": "75a6a2c0-b961-462b-baa0-1bf5e9c156a1"
      },
      "execution_count": null,
      "outputs": [
        {
          "output_type": "stream",
          "name": "stdout",
          "text": [
            "Enter the range : 5\n",
            "3\n",
            "1\n",
            "2\n",
            "0\n",
            "5\n",
            "0\n",
            "6\n",
            "-1\n",
            "7\n",
            "3\n",
            "[5, 7, 6, 2, 3]\n"
          ]
        }
      ]
    },
    {
      "cell_type": "markdown",
      "source": [
        "###### Traversal of Linked list\n",
        "\n",
        "In Linked List you want to retrive an item them you need to traverse through all of them."
      ],
      "metadata": {
        "id": "ikyuLQUf_pmP"
      }
    },
    {
      "cell_type": "code",
      "source": [
        "# Taking above class and adding another function trversal to it\n",
        "class Node:\n",
        "  def __init__(self, value=None):\n",
        "    self.value  = value\n",
        "    self.next  = None\n",
        "class LList:\n",
        "  def __init__(self):\n",
        "    self.head  = None\n",
        "    self.tail = None\n",
        "  def __iter__(self):\n",
        "    temp = self.head\n",
        "    while temp is not None:\n",
        "      yield temp\n",
        "      temp = temp.next\n",
        "  def insert(self, value, location):\n",
        "    te = Node(value)\n",
        "    if self.head == None:\n",
        "      self.head = te\n",
        "      self.tail = te\n",
        "    else:\n",
        "      if location == 0:\n",
        "        te.next = self.head\n",
        "        self.head  = te\n",
        "      elif location == -1:\n",
        "        te.next = None\n",
        "        self.tail.next = te\n",
        "        self.tail = te\n",
        "      else:\n",
        "        nodetmp = self.head\n",
        "        pointer = 0\n",
        "        while pointer == location:\n",
        "          nodetmp = nodetmp.next\n",
        "          pointer+=1\n",
        "        nextnode  = nodetmp.next\n",
        "        nodetmp.next = te\n",
        "        te.next = nextnode\n",
        "        if nodetmp==self.tail:\n",
        "          self.tail = te\n",
        "  def traversing(self):      # -----------TIME complexity O(n) and SPACE compplexity O(1)\n",
        "    if self.head is None:\n",
        "      return \"The linked list is empty\"\n",
        "    else:\n",
        "      temp = self.head\n",
        "      while temp:\n",
        "        print(temp.value)\n",
        "        temp = temp.next\n",
        "\n",
        "\n",
        "ll = LList()\n",
        "ll.insert(2,0)\n",
        "ll.insert(3,1)\n",
        "ll.insert(1,2)\n",
        "ll.insert(0,-1)\n",
        "ll.insert(7,0)\n",
        "print([k.value for k in ll])\n",
        "ll.traversing()"
      ],
      "metadata": {
        "colab": {
          "base_uri": "https://localhost:8080/"
        },
        "id": "uKQ3KVvP_5WU",
        "outputId": "0bf33f7a-23b7-43c7-ba8e-69e791c3d368"
      },
      "execution_count": null,
      "outputs": [
        {
          "output_type": "stream",
          "name": "stdout",
          "text": [
            "[7, 2, 1, 3, 0]\n",
            "7\n",
            "2\n",
            "1\n",
            "3\n",
            "0\n"
          ]
        }
      ]
    },
    {
      "cell_type": "markdown",
      "source": [
        "###### Searching Element in Single Linked List"
      ],
      "metadata": {
        "id": "p-e1KWwIs9Hc"
      }
    },
    {
      "cell_type": "code",
      "source": [
        "# Taking above class and adding another function trversal to it\n",
        "class Node:\n",
        "  def __init__(self, value=None):\n",
        "    self.value  = value\n",
        "    self.next  = None\n",
        "class LList:\n",
        "  def __init__(self):\n",
        "    self.head  = None\n",
        "    self.tail = None\n",
        "  def __iter__(self):\n",
        "    temp = self.head\n",
        "    while temp is not None:\n",
        "      yield temp\n",
        "      temp = temp.next\n",
        "  def insert(self, value, location):\n",
        "    te = Node(value)\n",
        "    if self.head == None:\n",
        "      self.head = te\n",
        "      self.tail = te\n",
        "    else:\n",
        "      if location == 0:\n",
        "        te.next = self.head\n",
        "        self.head  = te\n",
        "      elif location == -1:\n",
        "        te.next = None\n",
        "        self.tail.next = te\n",
        "        self.tail = te\n",
        "      else:\n",
        "        nodetmp = self.head\n",
        "        pointer = 0\n",
        "        while pointer == location:\n",
        "          nodetmp = nodetmp.next\n",
        "          pointer+=1\n",
        "        nextnode  = nodetmp.next\n",
        "        nodetmp.next = te\n",
        "        te.next = nextnode\n",
        "        if nodetmp==self.tail:\n",
        "          self.tail = te\n",
        "  def traversing(self):\n",
        "    if self.head is None:\n",
        "      return \"The linked list is empty\"\n",
        "    else:\n",
        "      temp = self.head\n",
        "      while temp:\n",
        "        print(temp.value)\n",
        "        temp = temp.next\n",
        "  def search(self, k):                # -----------TIME complexity O(n) and SPACE compplexity O(1)\n",
        "    if self.head is None:\n",
        "      return \"The linked list is empty\"\n",
        "    else:\n",
        "      temp = self.head\n",
        "      index = 0\n",
        "      while temp:\n",
        "        if temp.value == k:\n",
        "          return temp.value, index\n",
        "        index+=1\n",
        "        temp = temp.next\n",
        "      return \"Value not found\"\n",
        "ll = LList()\n",
        "ll.insert(2,0)\n",
        "ll.insert(3,1)\n",
        "ll.insert(1,2)\n",
        "ll.insert(0,-1)\n",
        "ll.insert(7,0)\n",
        "print([k.value for k in ll])\n",
        "ll.traversing()\n",
        "ll.search(0)"
      ],
      "metadata": {
        "colab": {
          "base_uri": "https://localhost:8080/"
        },
        "id": "helLH5IPtDoK",
        "outputId": "ea9208aa-71a6-49d1-c743-39b848ac1207"
      },
      "execution_count": null,
      "outputs": [
        {
          "output_type": "stream",
          "name": "stdout",
          "text": [
            "[7, 2, 1, 3, 0]\n",
            "7\n",
            "2\n",
            "1\n",
            "3\n",
            "0\n"
          ]
        },
        {
          "output_type": "execute_result",
          "data": {
            "text/plain": [
              "(0, 4)"
            ]
          },
          "metadata": {},
          "execution_count": 47
        }
      ]
    },
    {
      "cell_type": "markdown",
      "source": [
        "######Deleting value in Linked List"
      ],
      "metadata": {
        "id": "SPBp1fckwTGD"
      }
    },
    {
      "cell_type": "markdown",
      "source": [
        "* Delete Node from start\n",
        "* Deleting Node in middle of linked List\n",
        "* Deleting Node at the end of list"
      ],
      "metadata": {
        "id": "0lzlrOtwZaAi"
      }
    },
    {
      "cell_type": "code",
      "source": [
        "# Taking above class and adding another function trversal to it\n",
        "class Node:\n",
        "  def __init__(self, value=None):\n",
        "    self.value  = value\n",
        "    self.next  = None\n",
        "class LList:\n",
        "  def __init__(self):\n",
        "    self.head  = None\n",
        "    self.tail = None\n",
        "  def __iter__(self):\n",
        "    temp = self.head\n",
        "    while temp is not None:\n",
        "      yield temp\n",
        "      temp = temp.next\n",
        "  def insert(self, value, location):\n",
        "    te = Node(value)\n",
        "    if self.head == None:\n",
        "      self.head = te\n",
        "      self.tail = te\n",
        "    else:\n",
        "      if location == 0:\n",
        "        te.next = self.head\n",
        "        self.head  = te\n",
        "      elif location == -1:\n",
        "        te.next = None\n",
        "        self.tail.next = te\n",
        "        self.tail = te\n",
        "      else:\n",
        "        nodetmp = self.head\n",
        "        pointer = 0\n",
        "        while pointer == location:\n",
        "          nodetmp = nodetmp.next\n",
        "          pointer+=1\n",
        "        nextnode  = nodetmp.next\n",
        "        nodetmp.next = te\n",
        "        te.next = nextnode\n",
        "        if nodetmp==self.tail:\n",
        "          self.tail = te\n",
        "  def traversing(self):\n",
        "    if self.head is None:\n",
        "      return \"The linked list is empty\"\n",
        "    else:\n",
        "      temp = self.head\n",
        "      while temp:\n",
        "        print(temp.value)\n",
        "        temp = temp.next\n",
        "  def search(self, k):\n",
        "    if self.head is None:\n",
        "      return \"The linked list is empty\"\n",
        "    else:\n",
        "      temp = self.head\n",
        "      index = 0\n",
        "      while temp:\n",
        "        if temp.value == k:\n",
        "          return temp.value, index\n",
        "        index+=1\n",
        "        temp = temp.next\n",
        "      return \"Value not found\"\n",
        "  def deletion(self,pos):\n",
        "    if pos == 0:                        # Deletion at begining      # -----------TIME complexity O(1) and SPACE compplexity O(1)\n",
        "      if self.head == self.tail:                  # If list has only one elements\n",
        "        self.head = self.tail = None\n",
        "      else:                                       # If list has multiple elements\n",
        "        self.head = self.head.next\n",
        "    elif pos == -1:                     # Deletion at the end       # -----------TIME complexity O(1) and SPACE compplexity O(1)\n",
        "      if self.head == self.tail:\n",
        "        self.head = self.tail = None\n",
        "      else:                                                         # -----------TIME complexity O(1) and SPACE compplexity O(1)\n",
        "        node  = self.head\n",
        "        while node:\n",
        "          if node.next == self.tail:\n",
        "            break\n",
        "          node = node.next\n",
        "        node.next = None\n",
        "        self.tail = node\n",
        "    else:                               # Deletion at the given position and in between the start and end\n",
        "      temp = self.head                                            # -----------TIME complexity O(n) and SPACE compplexity O(1)\n",
        "      index = 0\n",
        "      while index<pos-1:\n",
        "        temp  = temp.next\n",
        "        index +=1\n",
        "      tempr  = temp.next\n",
        "      temp.next = tempr.next\n",
        "  def all(self):\n",
        "    if self.head == self.tail:\n",
        "      return \"Linked list is empty\"\n",
        "    else:\n",
        "      self.head =None\n",
        "      self.tail = None\n",
        "\n",
        "ll = LList()\n",
        "ll.insert(2,0)\n",
        "ll.insert(3,1)\n",
        "ll.insert(1,2)\n",
        "ll.insert(0,-1)\n",
        "ll.insert(7,0)\n",
        "print([k.value for k in ll])\n",
        "ll.traversing()\n",
        "ll.search(0)\n",
        "ll.deletion(0)\n",
        "ll.deletion(2)\n",
        "ll.deletion(-1)\n",
        "print([k.value for k in ll])\n",
        "ll.all()                            # -----------TIME complexity O(1) and SPACE compplexity O(1)\n",
        "print([k.value for k in ll])"
      ],
      "metadata": {
        "id": "v4yxItNzwbM9",
        "colab": {
          "base_uri": "https://localhost:8080/"
        },
        "outputId": "35057348-5cb3-41b5-e932-b4958c5cb829"
      },
      "execution_count": null,
      "outputs": [
        {
          "output_type": "stream",
          "name": "stdout",
          "text": [
            "[7, 2, 1, 3, 0]\n",
            "7\n",
            "2\n",
            "1\n",
            "3\n",
            "0\n",
            "[2, 1]\n",
            "[]\n"
          ]
        }
      ]
    },
    {
      "cell_type": "markdown",
      "source": [
        "###### Time and space Complexities for Single Linked List"
      ],
      "metadata": {
        "id": "EXBNB7C0Dn1E"
      }
    },
    {
      "cell_type": "markdown",
      "source": [
        "Operation | Time Complexity | Space Complexity\n",
        "----|: ----|: ----|\n",
        "Creation | O(1)|O(1)\n",
        "Insertion | O(n)|O(1)\n",
        "Deletion | O(n)|O(1)\n",
        "Searching|O(n)|O(1)\n",
        "Traversing |O(n)|O(1)\n",
        "Deletion of total list|O(1)|O(1)"
      ],
      "metadata": {
        "id": "j0EHsThMDvV_"
      }
    },
    {
      "cell_type": "markdown",
      "source": [
        "###### Time Complexities of LinkedList vs  List"
      ],
      "metadata": {
        "id": "NMTH40_a33wJ"
      }
    },
    {
      "cell_type": "markdown",
      "source": [
        "Operation | Python List/Array | Single Linked list\n",
        "---|: ---|: ---|\n",
        "Creation of List|O(n)|O(1)\n",
        "Insertion of node at first position in L| O(1)|O(1)\n",
        "Insertion at the last position|O(1)|O(1)\n",
        "Insertion in the middle|O(1)|O(n)\n",
        "Searching of unsorted data|O(n)|O(n)\n",
        "Searching of sorted data|O(nlogn)|O(n)\n",
        "Traversing|O(n)|O(n)\n",
        "Deletion at first position|O(1)|O(1)\n",
        "Deletion at last position|O(1)|O(n)/O(1)\n",
        "Deletion in the middle|O(1)|O(n)\n",
        "Deletion of total list|O(1)|O(n)/O(1)\n",
        "Access nth element|O(1)|O(n)"
      ],
      "metadata": {
        "id": "Ta-5JMsnxWOG"
      }
    },
    {
      "cell_type": "markdown",
      "source": [
        "##### Circular Linked List\n",
        "* The cirluar linked list refer last node to the first node.\n"
      ],
      "metadata": {
        "id": "h6iWR6cXFE1g"
      }
    },
    {
      "cell_type": "markdown",
      "source": [
        "###### Creation of CLL\n",
        "* Define Head and tail\n",
        "* Enter value for list node\n",
        "* Creation Node with Value\n",
        "* Refer the same node  in the refernce\n",
        "* Refer Head and Tail to the list node"
      ],
      "metadata": {
        "id": "vCdYR_GkFu41"
      }
    },
    {
      "cell_type": "code",
      "source": [
        "class Node:\n",
        "  def __init__(self, value = None):\n",
        "    self.value = value\n",
        "    self.next = None\n",
        "class CLL:\n",
        "  def __init__(self):\n",
        "    self.head  = None\n",
        "    self.tail = None\n",
        "  def __iter__(self):\n",
        "    temp = self.head\n",
        "    while temp:\n",
        "      yield temp\n",
        "      if temp.next == self.head:\n",
        "        break\n",
        "      node  = node.next\n",
        "  def createdCLL(self, value):          #-------O(1) time complexity and space complexity is O(1)\n",
        "    node  = Node(value)\n",
        "    node.next = node\n",
        "    self.head = node\n",
        "    self.tail = node\n",
        "\n",
        "cll = CLL()\n",
        "cll.createdCLL(5)\n",
        "print([l.value for l in cll])"
      ],
      "metadata": {
        "colab": {
          "base_uri": "https://localhost:8080/"
        },
        "id": "ioz9-g0_FuJe",
        "outputId": "ce583ea1-64fc-441a-84ed-3cccdfc40683"
      },
      "execution_count": null,
      "outputs": [
        {
          "output_type": "stream",
          "name": "stdout",
          "text": [
            "[5]\n"
          ]
        }
      ]
    },
    {
      "cell_type": "markdown",
      "source": [
        "###### Insertion of CLL\n",
        "\n",
        "* Insertion of node at the begining of LL\n",
        "* Insertion of node at the specified location of LL\n",
        "* Insert at the end of the LL\n",
        "\n",
        "\n"
      ],
      "metadata": {
        "id": "d9cKaolXOw8x"
      }
    },
    {
      "cell_type": "code",
      "source": [
        "class Node:\n",
        "  def __init__(self, value = None):\n",
        "    self.value = value\n",
        "    self.next = None\n",
        "class CLL:\n",
        "  def __init__(self):\n",
        "    self.head  = None\n",
        "    self.tail = None\n",
        "  def __iter__(self):\n",
        "    temp = self.head\n",
        "    while temp:\n",
        "      yield temp\n",
        "      temp  = temp.next\n",
        "      if temp.next == self.tail.next:\n",
        "        break\n",
        "\n",
        "\n",
        "  def createdCLL(self, value):\n",
        "    node  = Node(value)\n",
        "    node.next = node\n",
        "    self.head = node\n",
        "    self.tail = node\n",
        "  def insertion_CLL(self, value, position):\n",
        "    if self.head is None:                         #-------O(1) time complexity and space complexity is O(1)\n",
        "      return \"The list is empty\"\n",
        "    else:\n",
        "      Newnode = Node(value)\n",
        "      if position==0:                             #-------O(1) time complexity and space complexity is O(1)\n",
        "        Newnode.next  = self.head\n",
        "        self.head  = Newnode\n",
        "        self.tail.next = Newnode\n",
        "      elif position == -1:                        #-------O(1) time complexity and space complexity is O(1)\n",
        "        Newnode.next = self.tail.next\n",
        "        self.tail.next = Newnode\n",
        "        self.tail = Newnode\n",
        "      else:                                       #-------O(n) time complexity and space complexity is O(1)\n",
        "        index=0\n",
        "        temp = self.head\n",
        "        while index < position -1:\n",
        "          temp = temp.next\n",
        "          index+=1\n",
        "        nxt = temp.next\n",
        "        temp.next = Newnode\n",
        "        Newnode.next = nxt\n",
        "        return \"The Node inserted successfully\"\n",
        "\n",
        "\n",
        "\n",
        "cll = CLL()\n",
        "cll.createdCLL(2)\n",
        "cll.insertion_CLL(4,0)\n",
        "cll.insertion_CLL(5,1)\n",
        "cll.insertion_CLL(1,1)\n",
        "cll.insertion_CLL(6,2)\n",
        "cll.insertion_CLL(0,1)\n",
        "print([ll.value for ll in cll])\n",
        "cll.traversalCLL()"
      ],
      "metadata": {
        "colab": {
          "base_uri": "https://localhost:8080/"
        },
        "id": "LIircmgHS4rc",
        "outputId": "8a32e56e-eaa9-4760-b423-3c83ec693a1d"
      },
      "execution_count": null,
      "outputs": [
        {
          "output_type": "stream",
          "name": "stdout",
          "text": [
            "[4, 0, 1, 6, 5]\n"
          ]
        }
      ]
    },
    {
      "cell_type": "markdown",
      "source": [
        "###### Traversal of CLL"
      ],
      "metadata": {
        "id": "3kj9siJqa6o7"
      }
    },
    {
      "cell_type": "code",
      "source": [
        "class Node:\n",
        "  def __init__(self, value = None):\n",
        "    self.value = value\n",
        "    self.next = None\n",
        "class CLL:\n",
        "  def __init__(self):\n",
        "    self.head  = None\n",
        "    self.tail = None\n",
        "  def __iter__(self):\n",
        "    temp = self.head\n",
        "    while temp:\n",
        "      yield temp\n",
        "      temp  = temp.next\n",
        "      if temp.next == self.tail.next:\n",
        "        break\n",
        "\n",
        "\n",
        "  def createdCLL(self, value):\n",
        "    node  = Node(value)\n",
        "    node.next = node\n",
        "    self.head = node\n",
        "    self.tail = node\n",
        "  def insertion_CLL(self, value, position):\n",
        "    Newnode = Node(value)\n",
        "    if self.head is None and self.tail is None:\n",
        "      i = input(\"Enter Yes/No? \")\n",
        "      if i == 'Yes':\n",
        "        Newnode.next = Newnode\n",
        "        self.head = Newnode\n",
        "        self.tail = Newnode\n",
        "      else:\n",
        "        return \"The list is empty\"\n",
        "    else:\n",
        "      if position==0:\n",
        "        Newnode.next  = self.head\n",
        "        self.head  = Newnode\n",
        "        self.tail.next = Newnode\n",
        "      elif position == -1:\n",
        "        Newnode.next = self.tail.next\n",
        "        self.tail.next = Newnode\n",
        "        self.tail = Newnode\n",
        "      else:\n",
        "        index=0\n",
        "        temp = self.head\n",
        "        while index < position -1:\n",
        "          temp = temp.next\n",
        "          index+=1\n",
        "        nxt = temp.next\n",
        "        temp.next = Newnode\n",
        "        Newnode.next = nxt\n",
        "        return \"The Node inserted successfully\"\n",
        "  def traversalCLL(self):\n",
        "    if self.head == None:                   # --------------Time Complexity : O(1) and Space Complexity : O(1)\n",
        "      return \"The list doesn't exist\"\n",
        "    else:\n",
        "      temp = self.head\n",
        "      while temp:                         #---------------Time complexity: O(n) and Space complexity : O(1)\n",
        "        print(temp.value)\n",
        "        temp = temp.next\n",
        "        if temp == self.tail.next:\n",
        "          break\n",
        "\n",
        "\n",
        "cll = CLL()\n",
        "cll.insertion_CLL(2,0)\n",
        "cll.insertion_CLL(9,0)\n",
        "cll.insertion_CLL(1,1)\n",
        "cll.insertion_CLL(0,-1)\n",
        "cll.traversalCLL()\n",
        "cll.sreach_CLL()"
      ],
      "metadata": {
        "colab": {
          "base_uri": "https://localhost:8080/"
        },
        "id": "vitm-Bbsa_ok",
        "outputId": "c0f0a75f-076d-4cd2-957a-0aff2758057f"
      },
      "execution_count": null,
      "outputs": [
        {
          "name": "stdout",
          "output_type": "stream",
          "text": [
            "Enter Value/Location Value\n",
            "Enter Yes/No? Yes\n",
            "9\n",
            "1\n",
            "2\n",
            "0\n",
            "Enter the value want to search in CLL: 2\n"
          ]
        }
      ]
    },
    {
      "cell_type": "markdown",
      "source": [
        "###### Searching of CLL"
      ],
      "metadata": {
        "id": "G-Znj69hBrsl"
      }
    },
    {
      "cell_type": "code",
      "source": [
        "class Node:\n",
        "  def __init__(self, value = None):\n",
        "    self.value = value\n",
        "    self.next = None\n",
        "class CLL:\n",
        "  def __init__(self):\n",
        "    self.head  = None\n",
        "    self.tail = None\n",
        "  def __iter__(self):\n",
        "    temp = self.head\n",
        "    while temp:\n",
        "      yield temp\n",
        "      temp  = temp.next\n",
        "      if temp.next == self.tail.next:\n",
        "        break\n",
        "\n",
        "\n",
        "  def createdCLL(self, value):\n",
        "    node  = Node(value)\n",
        "    node.next = node\n",
        "    self.head = node\n",
        "    self.tail = node\n",
        "  def insertion_CLL(self, value, position):\n",
        "    Newnode = Node(value)\n",
        "    if self.head is None and self.tail is None:\n",
        "      i = input(\"You are inserting the node at empty Circular Linked list, do you really want to insert - Yes/No? \")\n",
        "      if i == 'Yes':\n",
        "        Newnode.next = Newnode\n",
        "        self.head = Newnode\n",
        "        self.tail = Newnode\n",
        "      else:\n",
        "        return \"The list is empty\"\n",
        "    else:\n",
        "      if position==0:\n",
        "        Newnode.next  = self.head\n",
        "        self.head  = Newnode\n",
        "        self.tail.next = Newnode\n",
        "      elif position == -1:\n",
        "        Newnode.next = self.tail.next\n",
        "        self.tail.next = Newnode\n",
        "        self.tail = Newnode\n",
        "      else:\n",
        "        index=0\n",
        "        temp = self.head\n",
        "        while index < position -1:\n",
        "          temp = temp.next\n",
        "          index+=1\n",
        "        nxt = temp.next\n",
        "        temp.next = Newnode\n",
        "        Newnode.next = nxt\n",
        "        return \"The Node inserted successfully\"\n",
        "  def traversalCLL(self):\n",
        "    if self.head == None:\n",
        "      return \"The list doesn't exist\"\n",
        "    else:\n",
        "      temp = self.head\n",
        "      while temp:\n",
        "        print(temp.value)\n",
        "        temp = temp.next\n",
        "        if temp == self.tail.next:\n",
        "          break\n",
        "  def sreach_CLL(self):                                 #---------------Time complexity: O(n) and space complexity : O(1)\n",
        "    i = input(\"Enter Value/Location : \")\n",
        "    if self.head == None:\n",
        "        return \"The CLL is empty\"\n",
        "    if i == 'Value':\n",
        "      v = int(input(\"Enter the value want to search in CLL: \"))\n",
        "      temp = self.head\n",
        "      index = 0\n",
        "      while temp:\n",
        "        if temp.value == v:\n",
        "          return (v,index)\n",
        "        index+=1\n",
        "        temp = temp.next\n",
        "        if temp == self.tail.next:\n",
        "          return \"The value doesnot exist\"\n",
        "    elif i == 'Location':\n",
        "      loc = int(input(\"Enter the location of CLL: \"))\n",
        "      temp = self.head\n",
        "      index = 0\n",
        "      while temp:\n",
        "        if index == loc:\n",
        "          return (temp.value,loc)\n",
        "        index+=1\n",
        "        temp = temp.next\n",
        "        if temp == self.tail.next:\n",
        "          return \"The location doesnot exist\"\n",
        "\n",
        "cll = CLL()\n",
        "cll.insertion_CLL(2,0)\n",
        "cll.insertion_CLL(9,0)\n",
        "cll.insertion_CLL(1,1)\n",
        "cll.insertion_CLL(0,-1)\n",
        "cll.traversalCLL()\n",
        "i = int(input(\"How many times do you want to repeat the search procedure: \"))\n",
        "for i in range(0,i):\n",
        "  print(cll.sreach_CLL())"
      ],
      "metadata": {
        "colab": {
          "base_uri": "https://localhost:8080/"
        },
        "id": "tAidw5kzBqwl",
        "outputId": "e21e97f4-8312-4853-9cf1-cbb4f5201c6d"
      },
      "execution_count": null,
      "outputs": [
        {
          "output_type": "stream",
          "name": "stdout",
          "text": [
            "You are inserting the node at empty Circular Linked list, do you really want to insert - Yes/No? Yes\n",
            "9\n",
            "1\n",
            "2\n",
            "0\n",
            "How many times do you want to repeat the search procedure: 2\n",
            "Enter Value/Location : Location\n",
            "Enter the location of CLL: 7\n",
            "The location doesnot exist\n",
            "Enter Value/Location : Value\n",
            "Enter the value want to search in CLL: 3\n",
            "The value doesnot exist\n"
          ]
        }
      ]
    },
    {
      "cell_type": "markdown",
      "source": [
        "######Deletion of node in CLL"
      ],
      "metadata": {
        "id": "Mkp5TEVqB7MZ"
      }
    },
    {
      "cell_type": "markdown",
      "source": [
        "Case - 1 : Deletion of Node at the start of linked list\n",
        "\n",
        "Case - 2 : Deletion of Node at the end of the linked list\n",
        "\n",
        "Case - 3 : Deletion of Node in the middle of the linked list"
      ],
      "metadata": {
        "id": "uOBnMPdDMM3r"
      }
    },
    {
      "cell_type": "code",
      "source": [
        "class Node:\n",
        "  def __init__(self, value = None):\n",
        "    self.value = value\n",
        "    self.next = None\n",
        "class CLL:\n",
        "  def __init__(self):\n",
        "    self.head  = None\n",
        "    self.tail = None\n",
        "  def __iter__(self):\n",
        "    temp = self.head\n",
        "    while temp:\n",
        "      yield temp\n",
        "      temp  = temp.next\n",
        "      if temp.next == self.tail.next:\n",
        "        break\n",
        "\n",
        "\n",
        "  def createdCLL(self, value):\n",
        "    node  = Node(value)\n",
        "    node.next = node\n",
        "    self.head = node\n",
        "    self.tail = node\n",
        "  # INSERTION of NODE\n",
        "  def insertion_CLL(self, value, position):\n",
        "    Newnode = Node(value)\n",
        "    if self.head is None and self.tail is None:\n",
        "      i = input(\"You are inserting the node at empty Circular Linked list, do you really want to insert - Yes/No? \")\n",
        "      if i == 'Yes':\n",
        "        Newnode.next = Newnode\n",
        "        self.head = Newnode\n",
        "        self.tail = Newnode\n",
        "      else:\n",
        "        return \"The list is empty\"\n",
        "    else:\n",
        "      if position==0:\n",
        "        Newnode.next  = self.head\n",
        "        self.head  = Newnode\n",
        "        self.tail.next = Newnode\n",
        "      elif position == -1:\n",
        "        Newnode.next = self.tail.next\n",
        "        self.tail.next = Newnode\n",
        "        self.tail = Newnode\n",
        "      else:\n",
        "        index=0\n",
        "        temp = self.head\n",
        "        while index < position -1:\n",
        "          temp = temp.next\n",
        "          index+=1\n",
        "        nxt = temp.next\n",
        "        temp.next = Newnode\n",
        "        Newnode.next = nxt\n",
        "        return \"The Node inserted successfully\"\n",
        "  # TRAVERSAL of LIST\n",
        "  def traversalCLL(self):\n",
        "    if self.head == None:\n",
        "      return \"The list doesn't exist\"\n",
        "    else:\n",
        "      temp = self.head\n",
        "      while temp:\n",
        "        print(temp.value)\n",
        "        temp = temp.next\n",
        "        if temp == self.tail.next:\n",
        "          break\n",
        "  # SEARCH of NODE\n",
        "  def sreach_CLL(self):\n",
        "    i = input(\"Enter Value/Location : \")\n",
        "    if self.head == None:\n",
        "        return \"The CLL is empty\"\n",
        "    if i == 'Value':\n",
        "      v = int(input(\"Enter the value want to search in CLL: \"))\n",
        "      temp = self.head\n",
        "      index = 0\n",
        "      while temp:\n",
        "        if temp.value == v:\n",
        "          return (v,index)\n",
        "        index+=1\n",
        "        temp = temp.next\n",
        "        if temp == self.tail.next:\n",
        "          return \"The value doesnot exist\"\n",
        "    elif i == 'Location':\n",
        "      loc = int(input(\"Enter the location of CLL: \"))\n",
        "      temp = self.head\n",
        "      index = 0\n",
        "      while temp:\n",
        "        if index == loc:\n",
        "          return (temp.value,loc)\n",
        "        index+=1\n",
        "        temp = temp.next\n",
        "        if temp == self.tail.next:\n",
        "          return \"The location doesnot exist\"\n",
        "  # Deletion of Node\n",
        "  def deletion(self, loc):\n",
        "    if self.head == None:                             #---------------Time complexity: O(1) and space complexity : O(1)\n",
        "      return \"The list is empty\"\n",
        "    elif self.head == self.tail and loc in (0,-1):    #---------------Time complexity: O(1) and space complexity : O(1)\n",
        "      self.head.next = None\n",
        "      self.head = None\n",
        "      self.tail = None\n",
        "    else:\n",
        "#Case - 1 : Deletion of Node at the start of linked list\n",
        "      if loc ==0:                                     #---------------Time complexity: O(1) and space complexity : O(1)\n",
        "        self.head = self.head.next\n",
        "        self.tail.next = self.head\n",
        "#Case - 2 : Deletion of Node at the end of the linked list\n",
        "      elif loc ==-1:                                  #---------------Time complexity: O(n) and space complexity : O(1)\n",
        "        tempNode = self.head\n",
        "        while tempNode:\n",
        "          if tempNode.next == self.tail:\n",
        "            break\n",
        "          tempNode = tempNode.next\n",
        "        tempNode.next = self.head\n",
        "        self.tail = tempNode\n",
        "#Case - 3 : Deletion of Node in the middle of the linked list\n",
        "      else:                                          #---------------Time complexity: O(n) and space complexity : O(1)\n",
        "        index=0\n",
        "        tempNode = self.head\n",
        "        while index<loc-1:\n",
        "          index +=1\n",
        "          tempNode = tempNode.next\n",
        "          if tempNode == self.tail.next:\n",
        "            return \"The locaion is out of index\"\n",
        "        prevNode = tempNode.next\n",
        "        tempNode.next = prevNode.next\n",
        "cll = CLL()\n",
        "cll.insertion_CLL(2,0)\n",
        "cll.insertion_CLL(9,0)\n",
        "cll.insertion_CLL(1,1)\n",
        "cll.insertion_CLL(0,-1)\n",
        "cll.traversalCLL()\n",
        "cll.deletion(1)\n",
        "cll.traversalCLL()"
      ],
      "metadata": {
        "colab": {
          "base_uri": "https://localhost:8080/"
        },
        "id": "VUrO2I92CEAo",
        "outputId": "3fc6225b-7366-4a4a-f854-1934ddbd80df"
      },
      "execution_count": null,
      "outputs": [
        {
          "output_type": "stream",
          "name": "stdout",
          "text": [
            "You are inserting the node at empty Circular Linked list, do you really want to insert - Yes/No? Yes\n",
            "9\n",
            "1\n",
            "2\n",
            "0\n",
            "9\n",
            "2\n",
            "0\n"
          ]
        }
      ]
    },
    {
      "cell_type": "markdown",
      "source": [
        "###### Delete entire Linked list"
      ],
      "metadata": {
        "id": "dztDyXLJGb2h"
      }
    },
    {
      "cell_type": "code",
      "source": [
        "class Node:\n",
        "  def __init__(self, value = None):\n",
        "    self.value = value\n",
        "    self.next = None\n",
        "class CLL:\n",
        "  def __init__(self):\n",
        "    self.head  = None\n",
        "    self.tail = None\n",
        "  def __iter__(self):\n",
        "    temp = self.head\n",
        "    while temp:\n",
        "      yield temp\n",
        "      temp  = temp.next\n",
        "      if temp.next == self.tail.next:\n",
        "        break\n",
        "\n",
        "\n",
        "  def createdCLL(self, value):\n",
        "    node  = Node(value)\n",
        "    node.next = node\n",
        "    self.head = node\n",
        "    self.tail = node\n",
        "  # INSERTION of NODE\n",
        "  def insertion_CLL(self, value, position):\n",
        "    Newnode = Node(value)\n",
        "    if self.head is None and self.tail is None:\n",
        "      i = input(\"You are inserting the node at empty Circular Linked list, do you really want to insert - Yes/No? \")\n",
        "      if i == 'Yes':\n",
        "        Newnode.next = Newnode\n",
        "        self.head = Newnode\n",
        "        self.tail = Newnode\n",
        "      else:\n",
        "        return \"The list is empty\"\n",
        "    else:\n",
        "      if position==0:\n",
        "        Newnode.next  = self.head\n",
        "        self.head  = Newnode\n",
        "        self.tail.next = Newnode\n",
        "      elif position == -1:\n",
        "        Newnode.next = self.tail.next\n",
        "        self.tail.next = Newnode\n",
        "        self.tail = Newnode\n",
        "      else:\n",
        "        index=0\n",
        "        temp = self.head\n",
        "        while index < position -1:\n",
        "          temp = temp.next\n",
        "          index+=1\n",
        "        nxt = temp.next\n",
        "        temp.next = Newnode\n",
        "        Newnode.next = nxt\n",
        "        return \"The Node inserted successfully\"\n",
        "  # TRAVERSAL of LIST\n",
        "  def traversalCLL(self):\n",
        "    if self.head == None:\n",
        "      return \"The list doesn't exist\"\n",
        "    else:\n",
        "      temp = self.head\n",
        "      while temp:\n",
        "        print(temp.value)\n",
        "        temp = temp.next\n",
        "        if temp == self.tail.next:\n",
        "          break\n",
        "  # SEARCH of NODE\n",
        "  def sreach_CLL(self):\n",
        "    i = input(\"Enter Value/Location : \")\n",
        "    if self.head == None:\n",
        "        return \"The CLL is empty\"\n",
        "    if i == 'Value':\n",
        "      v = int(input(\"Enter the value want to search in CLL: \"))\n",
        "      temp = self.head\n",
        "      index = 0\n",
        "      while temp:\n",
        "        if temp.value == v:\n",
        "          return (v,index)\n",
        "        index+=1\n",
        "        temp = temp.next\n",
        "        if temp == self.tail.next:\n",
        "          return \"The value doesnot exist\"\n",
        "    elif i == 'Location':\n",
        "      loc = int(input(\"Enter the location of CLL: \"))\n",
        "      temp = self.head\n",
        "      index = 0\n",
        "      while temp:\n",
        "        if index == loc:\n",
        "          return (temp.value,loc)\n",
        "        index+=1\n",
        "        temp = temp.next\n",
        "        if temp == self.tail.next:\n",
        "          return \"The location doesnot exist\"\n",
        "  # Deletion of Node\n",
        "  def deletion(self, loc):\n",
        "    if self.head == None:\n",
        "      return \"The list is empty\"\n",
        "    elif self.head == self.tail and loc in (0,-1):\n",
        "      self.head.next = None\n",
        "      self.head = None\n",
        "      self.tail = None\n",
        "    else:\n",
        "#Case - 1 : Deletion of Node at the start of linked list\n",
        "      if loc ==0:\n",
        "        self.head = self.head.next\n",
        "        self.tail.next = self.head\n",
        "#Case - 2 : Deletion of Node at the end of the linked list\n",
        "      elif loc ==-1:\n",
        "        tempNode = self.head\n",
        "        while tempNode:\n",
        "          if tempNode.next == self.tail:\n",
        "            break\n",
        "          tempNode = tempNode.next\n",
        "        tempNode.next = self.head\n",
        "        self.tail = tempNode\n",
        "#Case - 3 : Deletion of Node in the middle of the linked list\n",
        "      else:\n",
        "        index=0\n",
        "        tempNode = self.head\n",
        "        while index<loc-1:\n",
        "          index +=1\n",
        "          tempNode = tempNode.next\n",
        "          if tempNode == self.tail.next:\n",
        "            return \"The locaion is out of index\"\n",
        "        prevNode = tempNode.next\n",
        "        tempNode.next = prevNode.next\n",
        "  def delete_all(self):                           # Time complexity - O(1) and Space Complexity - O(1)\n",
        "    if self.head == None:\n",
        "      return \"List doesn't exist\"\n",
        "    else:\n",
        "      self.head = None\n",
        "      self.tail.next = None\n",
        "      self.tail = None\n",
        "      return \"The list is completely deleted\"\n",
        "cll = CLL()\n",
        "cll.insertion_CLL(2,0)\n",
        "cll.insertion_CLL(9,0)\n",
        "cll.insertion_CLL(1,1)\n",
        "cll.insertion_CLL(0,-1)\n",
        "cll.traversalCLL()\n",
        "cll.deletion(1)\n",
        "print([k.value for k in cll])\n",
        "cll.delete_all()\n"
      ],
      "metadata": {
        "colab": {
          "base_uri": "https://localhost:8080/",
          "height": 160
        },
        "id": "8wL961ZnyeUV",
        "outputId": "b3ad51b3-382f-4854-8d96-d5f8d04c93c1"
      },
      "execution_count": null,
      "outputs": [
        {
          "output_type": "stream",
          "name": "stdout",
          "text": [
            "You are inserting the node at empty Circular Linked list, do you really want to insert - Yes/No? Yes\n",
            "9\n",
            "1\n",
            "2\n",
            "0\n",
            "[9, 2]\n"
          ]
        },
        {
          "output_type": "execute_result",
          "data": {
            "text/plain": [
              "'The list is completely deleted'"
            ],
            "application/vnd.google.colaboratory.intrinsic+json": {
              "type": "string"
            }
          },
          "metadata": {},
          "execution_count": 4
        }
      ]
    },
    {
      "cell_type": "markdown",
      "source": [
        "###### Time and Space Complexities of CSLL"
      ],
      "metadata": {
        "id": "mm5KT6d22E-1"
      }
    },
    {
      "cell_type": "markdown",
      "source": [
        "Operation | Time Complexity | Space Complexity\n",
        "----|: ----|:-----|\n",
        "Creation|O(1)|O(1)\n",
        "Insertion at Start/middle/End of csll| O(1)/O(n)/O(n)| O(1)\n",
        "Traversal | O(n)|O(1)\n",
        "Searching | O(n)|O(1)\n",
        "Deletion at Start/middle/End of csll| O(1)/O(n)/O(n)|O(1)\n",
        "Deletion of csll| O(1)|O(1)\n",
        "\n",
        "\n"
      ],
      "metadata": {
        "id": "5qwIhkRf2Mc5"
      }
    },
    {
      "cell_type": "markdown",
      "source": [
        "##### Doubly Linked List\n",
        "\n",
        "The list has double refernce.\n",
        "* The first is to previous node\n",
        "* The second is to next node"
      ],
      "metadata": {
        "id": "MF9WYRTa2B5V"
      }
    },
    {
      "cell_type": "markdown",
      "source": [
        "###### Creation of DLL"
      ],
      "metadata": {
        "id": "2fs_-hX38M4P"
      }
    },
    {
      "cell_type": "code",
      "source": [
        "class Node:\n",
        "  def __init__(self, value):\n",
        "    self.prev = None\n",
        "    self.value = value\n",
        "    self.next = None\n",
        "class DLL:\n",
        "  def __init__(self):\n",
        "    self.head = None\n",
        "    self.tail = None\n",
        "  def __iter__(self):\n",
        "    temp = self.head\n",
        "    while temp:\n",
        "      yield temp\n",
        "      temp = temp.next\n",
        "  # Node creation in doubly linked list\n",
        "  def create_DLL(self,value):           # Time complexity - O(1) amd Space Complextiy - O(1)\n",
        "    node  = Node(value)\n",
        "    node.prev = None\n",
        "    node.next = None\n",
        "    self.head = node\n",
        "    self.tail = node\n",
        "    return \"The Doubly node created sucessfully\"\n",
        "dll = DLL()\n",
        "dll.create_DLL(3)\n",
        "print([k.value for k in dll])\n",
        "print(list(n) for n in dll) #__str()__ method is called."
      ],
      "metadata": {
        "id": "C0d2ND332AiO",
        "colab": {
          "base_uri": "https://localhost:8080/"
        },
        "outputId": "47b65aa0-322f-41be-b42e-279c8fa6f59a"
      },
      "execution_count": null,
      "outputs": [
        {
          "output_type": "stream",
          "name": "stdout",
          "text": [
            "[3]\n",
            "<generator object <genexpr> at 0x7f1fa9c21ba0>\n"
          ]
        }
      ]
    },
    {
      "cell_type": "markdown",
      "source": [
        "###### Insertion of elements in DLL\n",
        "\n",
        "* Insertion at the begining of the doubly linked list\n",
        "* Insertion at the specified index of the DLL\n",
        "* Insertion of the end of the DLL"
      ],
      "metadata": {
        "id": "sXK9F9nH8GC4"
      }
    },
    {
      "cell_type": "code",
      "source": [
        "class Node:\n",
        "  def __init__(self,value= None):\n",
        "    self.prev = None\n",
        "    self.value = value\n",
        "    self.next = None\n",
        "class DLL:\n",
        "  def __init__(self):\n",
        "    self.head = None\n",
        "    self.tail = None\n",
        "  def __iter__(self):\n",
        "    temp = self.head\n",
        "    while temp:\n",
        "      yield temp\n",
        "      temp = temp.next\n",
        "  def create_DLL(self, val):\n",
        "    node = Node(val)\n",
        "    self.head = node\n",
        "    self.head.prev = None\n",
        "    self.head.next = None\n",
        "    self.tail = node\n",
        "  #Insertion of node in Doubly linked list\n",
        "  def insertion_DLL(self, valu, loci):      # ------Time complexity : O(n) and space complexity : O(1)\n",
        "    node = Node(valu)                       #O(1)\n",
        "    if self.head == None:\n",
        "      return \" The list is empty\"\n",
        "    else:\n",
        "      if loci == 0:                         #O(1)\n",
        "        node.prev = None\n",
        "        node.next = self.head\n",
        "        self.head.prev = node\n",
        "        self.head = node\n",
        "      elif loci == -1:                      #O(1)\n",
        "        node.next = None\n",
        "        node.prev = self.tail\n",
        "        self.tail.next = node\n",
        "        self.tail = node\n",
        "      else:                                 #O(n)\n",
        "        index = 0\n",
        "        temp = self.head\n",
        "        while index < loci-1:\n",
        "          temp = temp.next\n",
        "          index+=1\n",
        "        node.next = temp.next\n",
        "        node.prev = temp\n",
        "        node.next.prev = node\n",
        "        temp.next = node\n",
        "\n",
        "\n",
        "dll = DLL()\n",
        "dll.create_DLL(3)\n",
        "print([k.value for k in dll])\n",
        "dll.insertion_DLL(5,0)\n",
        "dll.insertion_DLL(7,-1)\n",
        "dll.insertion_DLL(1,2)\n",
        "print([k.value for k in dll])"
      ],
      "metadata": {
        "id": "LzUGjEbm8Jr7",
        "colab": {
          "base_uri": "https://localhost:8080/"
        },
        "outputId": "c6535cbb-7317-4753-e037-17867b394ab8"
      },
      "execution_count": null,
      "outputs": [
        {
          "output_type": "stream",
          "name": "stdout",
          "text": [
            "[3]\n",
            "[5, 3, 1, 7]\n"
          ]
        }
      ]
    },
    {
      "cell_type": "markdown",
      "source": [
        "###### Traversal in DLL"
      ],
      "metadata": {
        "id": "MEveXjOUO544"
      }
    },
    {
      "cell_type": "code",
      "source": [
        "class Node:\n",
        "  def __init__(self,value= None):\n",
        "    self.prev = None\n",
        "    self.value = value\n",
        "    self.next = None\n",
        "class DLL:\n",
        "  def __init__(self):\n",
        "    self.head = None\n",
        "    self.tail = None\n",
        "  def __iter__(self):\n",
        "    temp = self.head\n",
        "    while temp:\n",
        "      yield temp\n",
        "      temp = temp.next\n",
        "  def create_DLL(self, val):\n",
        "    node = Node(val)\n",
        "    self.head = node\n",
        "    self.head.prev = None\n",
        "    self.head.next = None\n",
        "    self.tail = node\n",
        "  def insertion_DLL(self, valu, loci):\n",
        "    node = Node(valu)\n",
        "    if self.head == None:\n",
        "      return \" The list is empty\"\n",
        "    else:\n",
        "      if loci == 0:\n",
        "        node.prev = None\n",
        "        node.next = self.head\n",
        "        self.head.prev = node\n",
        "        self.head = node\n",
        "      elif loci == -1:\n",
        "        node.next = None\n",
        "        node.prev = self.tail\n",
        "        self.tail.next = node\n",
        "        self.tail = node\n",
        "      else:\n",
        "        index = 0\n",
        "        temp = self.head\n",
        "        while index < loci-1:\n",
        "          temp = temp.next\n",
        "          index+=1\n",
        "        node.next = temp.next\n",
        "        node.prev = temp\n",
        "        node.next.prev = node\n",
        "        temp.next = node\n",
        "\n",
        "  # Traversal of Doubly linkedlist\n",
        "  def Traversal_DLL(self):                        #-----------Time Complexity : O(n) and space complexity : O(1)\n",
        "    if self.head == None:                         #O(1)\n",
        "      return \"The linked list empty and cannot be traversed\"\n",
        "    else:\n",
        "      n = self.head\n",
        "      while n:                                    # O(n)\n",
        "        print(n.value)\n",
        "        n = n.next\n",
        "      return \"The linked list is traversed fully\"\n",
        "\n",
        "dll = DLL()\n",
        "dll.create_DLL(3)\n",
        "print([k.value for k in dll])\n",
        "dll.insertion_DLL(5,0)\n",
        "dll.insertion_DLL(7,-1)\n",
        "dll.insertion_DLL(1,2)\n",
        "print([k.value for k in dll])\n",
        "dll.Traversal_DLL()"
      ],
      "metadata": {
        "id": "6ywBOnkKlchv",
        "colab": {
          "base_uri": "https://localhost:8080/",
          "height": 145
        },
        "outputId": "e8f9f6a9-8315-4c62-a826-ef6901cd982c"
      },
      "execution_count": null,
      "outputs": [
        {
          "output_type": "stream",
          "name": "stdout",
          "text": [
            "[3]\n",
            "[5, 3, 1, 7]\n",
            "5\n",
            "3\n",
            "1\n",
            "7\n"
          ]
        },
        {
          "output_type": "execute_result",
          "data": {
            "text/plain": [
              "'The linked list is traversed fully'"
            ],
            "application/vnd.google.colaboratory.intrinsic+json": {
              "type": "string"
            }
          },
          "metadata": {},
          "execution_count": 2
        }
      ]
    },
    {
      "cell_type": "markdown",
      "source": [
        "###### Reverse Traversal in DLL"
      ],
      "metadata": {
        "id": "vRbkHLa0oUwD"
      }
    },
    {
      "cell_type": "code",
      "source": [
        "class Node:\n",
        "  def __init__(self,value= None):\n",
        "    self.prev = None\n",
        "    self.value = value\n",
        "    self.next = None\n",
        "class DLL:\n",
        "  def __init__(self):\n",
        "    self.head = None\n",
        "    self.tail = None\n",
        "  def __iter__(self):\n",
        "    temp = self.head\n",
        "    while temp:\n",
        "      yield temp\n",
        "      temp = temp.next\n",
        "  def create_DLL(self, val):\n",
        "    node = Node(val)\n",
        "    self.head = node\n",
        "    self.head.prev = None\n",
        "    self.head.next = None\n",
        "    self.tail = node\n",
        "  def insertion_DLL(self, valu, loci):\n",
        "    node = Node(valu)\n",
        "    if self.head == None:\n",
        "      return \" The list is empty\"\n",
        "    else:\n",
        "      if loci == 0:\n",
        "        node.prev = None\n",
        "        node.next = self.head\n",
        "        self.head.prev = node\n",
        "        self.head = node\n",
        "      elif loci == -1:\n",
        "        node.next = None\n",
        "        node.prev = self.tail\n",
        "        self.tail.next = node\n",
        "        self.tail = node\n",
        "      else:\n",
        "        index = 0\n",
        "        temp = self.head\n",
        "        while index < loci-1:\n",
        "          temp = temp.next\n",
        "          index+=1\n",
        "        node.next = temp.next\n",
        "        node.prev = temp\n",
        "        node.next.prev = node\n",
        "        temp.next = node\n",
        "  def Traversal_DLL(self):\n",
        "    if self.head == None:\n",
        "      return \"The linked list empty and cannot be traversed\"\n",
        "    else:\n",
        "      n = self.head\n",
        "      while n:\n",
        "        print(n.value)\n",
        "        n = n.next\n",
        "      return \"The linked list is traversed fully\"\n",
        "  # Reverse Traversal of Doubly Linked list\n",
        "  def ReverseTraversal_DLL(self):                   #----------Time Complexity : O(n) and Space Complexity : O(1)\n",
        "    if self.head is None:                           #O(1)\n",
        "      return \"The linked list is empty to traverse\"\n",
        "    else:\n",
        "      rev = self.tail\n",
        "      while rev:                                    #O(n)\n",
        "        print(rev.value)\n",
        "        rev = rev.prev\n",
        "      return \"The linked list is traversed in reverse successfully\"\n",
        "\n",
        "dll = DLL()\n",
        "dll.create_DLL(3)\n",
        "print([k.value for k in dll])\n",
        "dll.insertion_DLL(5,0)\n",
        "dll.insertion_DLL(7,-1)\n",
        "dll.insertion_DLL(1,2)\n",
        "print([k.value for k in dll])\n",
        "#dll.Traversal_DLL()\n",
        "dll.ReverseTraversal_DLL()"
      ],
      "metadata": {
        "colab": {
          "base_uri": "https://localhost:8080/",
          "height": 145
        },
        "id": "5HA9tVfzodvj",
        "outputId": "da8bb422-109e-4bb0-e229-71c98d38e7db"
      },
      "execution_count": null,
      "outputs": [
        {
          "output_type": "stream",
          "name": "stdout",
          "text": [
            "[3]\n",
            "[5, 3, 1, 7]\n",
            "7\n",
            "1\n",
            "3\n",
            "5\n"
          ]
        },
        {
          "output_type": "execute_result",
          "data": {
            "text/plain": [
              "'The linked list is traversed in reverse successfully'"
            ],
            "application/vnd.google.colaboratory.intrinsic+json": {
              "type": "string"
            }
          },
          "metadata": {},
          "execution_count": 4
        }
      ]
    },
    {
      "cell_type": "markdown",
      "source": [
        "###### Searching of node in DLL"
      ],
      "metadata": {
        "id": "MSMYJkm3O818"
      }
    },
    {
      "cell_type": "code",
      "source": [
        "class Node:\n",
        "  def __init__(self,value= None):\n",
        "    self.prev = None\n",
        "    self.value = value\n",
        "    self.next = None\n",
        "class DLL:\n",
        "  def __init__(self):\n",
        "    self.head = None\n",
        "    self.tail = None\n",
        "  def __iter__(self):\n",
        "    temp = self.head\n",
        "    while temp:\n",
        "      yield temp\n",
        "      temp = temp.next\n",
        "  def create_DLL(self, val):\n",
        "    node = Node(val)\n",
        "    self.head = node\n",
        "    self.head.prev = None\n",
        "    self.head.next = None\n",
        "    self.tail = node\n",
        "  def insertion_DLL(self, valu, loci):\n",
        "    node = Node(valu)\n",
        "    if self.head == None:\n",
        "      return \" The list is empty\"\n",
        "    else:\n",
        "      if loci == 0:\n",
        "        node.prev = None\n",
        "        node.next = self.head\n",
        "        self.head.prev = node\n",
        "        self.head = node\n",
        "      elif loci == -1:\n",
        "        node.next = None\n",
        "        node.prev = self.tail\n",
        "        self.tail.next = node\n",
        "        self.tail = node\n",
        "      else:\n",
        "        index = 0\n",
        "        temp = self.head\n",
        "        while index < loci-1:\n",
        "          temp = temp.next\n",
        "          index+=1\n",
        "        node.next = temp.next\n",
        "        node.prev = temp\n",
        "        node.next.prev = node\n",
        "        temp.next = node\n",
        "  def Traversal_DLL(self):\n",
        "    if self.head == None:\n",
        "      return \"The linked list empty and cannot be traversed\"\n",
        "    else:\n",
        "      n = self.head\n",
        "      while n:\n",
        "        print(n.value)\n",
        "        n = n.next\n",
        "      return \"The linked list is traversed fully\"\n",
        "  def Search_DLL(self, val):                                    # ---------Time complexity : O(n) and Space Complexity : O(1)\n",
        "    if self.head == None:\n",
        "      return \"The linkedlist is empty and cannot be searched\"\n",
        "    else:\n",
        "      temp = self.head\n",
        "      index = 0\n",
        "      while temp:                                               #O(n)\n",
        "        if temp.value == val:\n",
        "         return (temp.value, index)\n",
        "        temp = temp.next\n",
        "        index +=1\n",
        "      return \"The value is not found in the linked list\"\n",
        "\n",
        "\n",
        "dll = DLL()\n",
        "dll.create_DLL(3)\n",
        "print([k.value for k in dll])\n",
        "dll.insertion_DLL(5,0)\n",
        "dll.insertion_DLL(7,-1)\n",
        "dll.insertion_DLL(1,2)\n",
        "print([k.value for k in dll])\n",
        "dll.Traversal_DLL()\n",
        "dll.Search_DLL(7)"
      ],
      "metadata": {
        "colab": {
          "base_uri": "https://localhost:8080/"
        },
        "id": "l8keB1u1kdgH",
        "outputId": "398ae8b9-dfe6-489a-821b-8d89a61d533b"
      },
      "execution_count": null,
      "outputs": [
        {
          "output_type": "stream",
          "name": "stdout",
          "text": [
            "[3]\n",
            "[5, 3, 1, 7]\n",
            "5\n",
            "3\n",
            "1\n",
            "7\n"
          ]
        },
        {
          "output_type": "execute_result",
          "data": {
            "text/plain": [
              "(7, 3)"
            ]
          },
          "metadata": {},
          "execution_count": 25
        }
      ]
    },
    {
      "cell_type": "markdown",
      "source": [
        "###### Deletion of node in DLL"
      ],
      "metadata": {
        "id": "Wi0bRVK7PAxL"
      }
    },
    {
      "cell_type": "markdown",
      "source": [
        "* Delete Node at the Start\n",
        "* Delete Node at the End\n",
        "* Delete Node at the specified solution"
      ],
      "metadata": {
        "id": "ubmbGp1C2sOG"
      }
    },
    {
      "cell_type": "code",
      "source": [
        "class Node:\n",
        "  def __init__(self,value= None):\n",
        "    self.prev = None\n",
        "    self.value = value\n",
        "    self.next = None\n",
        "class DLL:\n",
        "  def __init__(self):\n",
        "    self.head = None\n",
        "    self.tail = None\n",
        "  def __iter__(self):\n",
        "    temp = self.head\n",
        "    while temp:\n",
        "      yield temp\n",
        "      temp = temp.next\n",
        "  def create_DLL(self, val):\n",
        "    node = Node(val)\n",
        "    self.head = node\n",
        "    self.head.prev = None\n",
        "    self.head.next = None\n",
        "    self.tail = node\n",
        "  def insertion_DLL(self, valu, loci):\n",
        "    node = Node(valu)\n",
        "    if self.head == None:\n",
        "      return \" The list is empty\"\n",
        "    else:\n",
        "      if loci == 0:\n",
        "        node.prev = None\n",
        "        node.next = self.head\n",
        "        self.head.prev = node\n",
        "        self.head = node\n",
        "      elif loci == -1:\n",
        "        node.next = None\n",
        "        node.prev = self.tail\n",
        "        self.tail.next = node\n",
        "        self.tail = node\n",
        "      else:\n",
        "        index = 0\n",
        "        temp = self.head\n",
        "        while index < loci-1:\n",
        "          temp = temp.next\n",
        "          index+=1\n",
        "        node.next = temp.next\n",
        "        node.prev = temp\n",
        "        node.next.prev = node\n",
        "        temp.next = node\n",
        "  def Traversal_DLL(self):\n",
        "    if self.head == None:\n",
        "      return \"The linked list empty and cannot be traversed\"\n",
        "    else:\n",
        "      n = self.head\n",
        "      while n:\n",
        "        print(n.value)\n",
        "        n = n.next\n",
        "      return \"The linked list is traversed fully\"\n",
        "  def Search_DLL(self, val):\n",
        "    if self.head == None:\n",
        "      return \"The linkedlist is empty and cannot be searched\"\n",
        "    else:\n",
        "      temp = self.head\n",
        "      index = 0\n",
        "      while temp:\n",
        "        if temp.value == val:\n",
        "         return (temp.value, index)\n",
        "        temp = temp.next\n",
        "        index +=1\n",
        "      return \"The value is not found in the linked list\"\n",
        "  def Deletion_DLL(self,loci):                          #----------Time Complexity : O(n) and Space Complexity : O(1)\n",
        "    if self.head == None:                               #O(1)\n",
        "      return \"The linked list is empty and can't delete any element\"\n",
        "    elif self.head == self.tail and loci in (0,-1):      #O(1)\n",
        "      self.head = None\n",
        "      self.tail = None\n",
        "    else:\n",
        "      if loci ==0:                                      #O(1)\n",
        "        self.head = self.head.next\n",
        "        self.head.prev = None\n",
        "      elif loci == -1:                                  #O(1)\n",
        "        self.tail = self.tail.prev\n",
        "        self.tail.next = None\n",
        "      else:                                             #O(n)\n",
        "        index=0\n",
        "        temp = self.head\n",
        "        while index<loci-1:\n",
        "          temp = temp.next\n",
        "          index +=1\n",
        "        temp.next = temp.next.next\n",
        "        temp.next.prev = temp\n",
        "        return \"The node deleted successfully\"\n",
        "\n",
        "\n",
        "dll = DLL()\n",
        "dll.create_DLL(3)\n",
        "print([k.value for k in dll])\n",
        "dll.insertion_DLL(5,0)\n",
        "dll.insertion_DLL(7,-1)\n",
        "dll.insertion_DLL(1,2)\n",
        "print([k.value for k in dll])\n",
        "dll.Traversal_DLL()\n",
        "dll.Search_DLL(7)\n",
        "dll.Deletion_DLL(2)\n",
        "print([l.value for l in dll])"
      ],
      "metadata": {
        "colab": {
          "base_uri": "https://localhost:8080/"
        },
        "id": "U61FId_c249y",
        "outputId": "a3c8f9a8-b136-4b46-d0ae-8014a0c6cacb"
      },
      "execution_count": null,
      "outputs": [
        {
          "output_type": "stream",
          "name": "stdout",
          "text": [
            "[3]\n",
            "[5, 3, 1, 7]\n",
            "5\n",
            "3\n",
            "1\n",
            "7\n",
            "[5, 3, 7]\n"
          ]
        }
      ]
    },
    {
      "cell_type": "markdown",
      "source": [
        "###### Delete entire Double Linked list"
      ],
      "metadata": {
        "id": "ycRzK6RXFBJj"
      }
    },
    {
      "cell_type": "code",
      "source": [
        "class Node:\n",
        "  def __init__(self,value= None):\n",
        "    self.prev = None\n",
        "    self.value = value\n",
        "    self.next = None\n",
        "class DLL:\n",
        "  def __init__(self):\n",
        "    self.head = None\n",
        "    self.tail = None\n",
        "  def __iter__(self):\n",
        "    temp = self.head\n",
        "    while temp:\n",
        "      yield temp\n",
        "      temp = temp.next\n",
        "  def create_DLL(self, val):\n",
        "    node = Node(val)\n",
        "    self.head = node\n",
        "    self.head.prev = None\n",
        "    self.head.next = None\n",
        "    self.tail = node\n",
        "  def insertion_DLL(self, valu, loci):\n",
        "    node = Node(valu)\n",
        "    if self.head == None:\n",
        "      return \" The list is empty\"\n",
        "    else:\n",
        "      if loci == 0:\n",
        "        node.prev = None\n",
        "        node.next = self.head\n",
        "        self.head.prev = node\n",
        "        self.head = node\n",
        "      elif loci == -1:\n",
        "        node.next = None\n",
        "        node.prev = self.tail\n",
        "        self.tail.next = node\n",
        "        self.tail = node\n",
        "      else:\n",
        "        index = 0\n",
        "        temp = self.head\n",
        "        while index < loci-1:\n",
        "          temp = temp.next\n",
        "          index+=1\n",
        "        node.next = temp.next\n",
        "        node.prev = temp\n",
        "        node.next.prev = node\n",
        "        temp.next = node\n",
        "  def Traversal_DLL(self):\n",
        "    if self.head == None:\n",
        "      return \"The linked list empty and cannot be traversed\"\n",
        "    else:\n",
        "      n = self.head\n",
        "      while n:\n",
        "        print(n.value)\n",
        "        n = n.next\n",
        "      return \"The linked list is traversed fully\"\n",
        "  def Search_DLL(self, val):\n",
        "    if self.head == None:\n",
        "      return \"The linkedlist is empty and cannot be searched\"\n",
        "    else:\n",
        "      temp = self.head\n",
        "      index = 0\n",
        "      while temp:\n",
        "        if temp.value == val:\n",
        "         return (temp.value, index)\n",
        "        temp = temp.next\n",
        "        index +=1\n",
        "      return \"The value is not found in the linked list\"\n",
        "  def Deletion_DLL(self,loci):\n",
        "    if self.head == None:\n",
        "      return \"The linked list is empty and can't delete any element\"\n",
        "    elif self.head == self.tail and loci in (0,-1):\n",
        "      self.head = None\n",
        "      self.tail = None\n",
        "    else:\n",
        "      if loci ==0:\n",
        "        self.head = self.head.next\n",
        "        self.head.prev = None\n",
        "      elif loci == -1:\n",
        "        self.tail = self.tail.prev\n",
        "        self.tail.next = None\n",
        "      else:\n",
        "        index=0\n",
        "        temp = self.head\n",
        "        while index<loci-1:\n",
        "          temp = temp.next\n",
        "          index +=1\n",
        "        temp.next = temp.next.next\n",
        "        temp.next.prev = temp\n",
        "  def DeleteEntire_DLL(self):                 #----------Time Complexity: O(n) and Space Complexity :O(1)\n",
        "    if self.head == None:\n",
        "      return \"The entire Doubly linked list is empty\"\n",
        "    else:\n",
        "      temp = self.head\n",
        "      while temp:\n",
        "        temp.prev = None\n",
        "        temp = temp.next\n",
        "      self.head = None\n",
        "      self.tail = None\n",
        "      return \"The linked list is deleted successfully\"\n",
        "\n",
        "dll = DLL()\n",
        "dll.create_DLL(3)\n",
        "print([k.value for k in dll])\n",
        "dll.insertion_DLL(5,0)\n",
        "dll.insertion_DLL(7,-1)\n",
        "dll.insertion_DLL(1,2)\n",
        "print([k.value for k in dll])\n",
        "dll.Traversal_DLL()\n",
        "dll.Search_DLL(7)\n",
        "dll.Deletion_DLL(-1)\n",
        "print([l.value for l in dll])\n",
        "dll.DeleteEntire_DLL()\n",
        "#print([l.value for l in dll])"
      ],
      "metadata": {
        "colab": {
          "base_uri": "https://localhost:8080/",
          "height": 157
        },
        "id": "pthWwNbXFHqE",
        "outputId": "43dab892-e7fd-4ce1-9a91-3f2c2f413b9d"
      },
      "execution_count": null,
      "outputs": [
        {
          "output_type": "stream",
          "name": "stdout",
          "text": [
            "[3]\n",
            "[5, 3, 1, 7]\n",
            "5\n",
            "3\n",
            "1\n",
            "7\n",
            "[5, 3, 1]\n"
          ]
        },
        {
          "output_type": "execute_result",
          "data": {
            "text/plain": [
              "'The linked list is deleted successfully'"
            ],
            "application/vnd.google.colaboratory.intrinsic+json": {
              "type": "string"
            }
          },
          "metadata": {},
          "execution_count": 6
        }
      ]
    },
    {
      "cell_type": "markdown",
      "source": [
        "###### Time and Space Complexity of DLL"
      ],
      "metadata": {
        "id": "eSHyPkomPXVj"
      }
    },
    {
      "cell_type": "markdown",
      "source": [
        " Operations | Time Complexity | Space Complexity|\n",
        "----|:----|:----|\n",
        "Creation of DLL | O(1)|O(1)\n",
        "Insertion Of DLL at Start/ End/ Middle | O(1)/O(1)/O(n)| O( 1)\n",
        "Traversal of DLL | O(n) | O(1)\n",
        "Searching of element in DLL | O(n) | O(1)\n",
        "Deletion of DLL at Start/End/ Middle | O(1)/O(1)/O(n) | O(1)\n",
        "Deletion of Entire DLL | O(n) | O(1)"
      ],
      "metadata": {
        "id": "Q428z9VzA5HN"
      }
    },
    {
      "cell_type": "markdown",
      "source": [
        "##### Circular Doubly linked list"
      ],
      "metadata": {
        "id": "1v1G0lj1PbId"
      }
    },
    {
      "cell_type": "markdown",
      "source": [
        "The linked list is formed with the DLL node at end refering to the starting node."
      ],
      "metadata": {
        "id": "mmd1sRnOlx7d"
      }
    },
    {
      "cell_type": "markdown",
      "source": [
        "###### Creation of CDLL"
      ],
      "metadata": {
        "id": "eqAucVRQPhB3"
      }
    },
    {
      "cell_type": "code",
      "source": [
        "class Node:\n",
        "  def __init__(self, value = None):\n",
        "    self.prev = None\n",
        "    self.value = value\n",
        "    self.next = None\n",
        "class CDLL:\n",
        "  def __init__(self):\n",
        "    self.head = None\n",
        "    self.tail = None\n",
        "  def __iter__(self):\n",
        "    temp = self.head\n",
        "    while temp:\n",
        "      yield temp\n",
        "      temp = temp.next\n",
        "      if temp == self.tail.next:\n",
        "        break\n",
        "  # Creation of node\n",
        "  def Create_CDLL(self,value):                #-------Time Complexity : O(1) and Space Complexity : O()\n",
        "    node = Node(value)\n",
        "    self.head = node\n",
        "    self.tail = node\n",
        "    node.prev= node\n",
        "    node.next = node\n",
        "    return \"The creation of CDLL is successfull!\""
      ],
      "metadata": {
        "id": "RyZfPro5l-AJ"
      },
      "execution_count": null,
      "outputs": []
    },
    {
      "cell_type": "code",
      "source": [
        "cdll = CDLL()\n",
        "print(cdll.Create_CDLL(3))\n",
        "print([l.value for l in cdll])"
      ],
      "metadata": {
        "colab": {
          "base_uri": "https://localhost:8080/"
        },
        "id": "K7bfhqc_iSIZ",
        "outputId": "52734da1-5321-4725-95b3-d011b0a936d8"
      },
      "execution_count": null,
      "outputs": [
        {
          "output_type": "stream",
          "name": "stdout",
          "text": [
            "The creation of CDLL is successfull!\n",
            "[3]\n"
          ]
        }
      ]
    },
    {
      "cell_type": "markdown",
      "source": [
        "###### Insertion of node in CDLL"
      ],
      "metadata": {
        "id": "xhljJr0iPkLu"
      }
    },
    {
      "cell_type": "code",
      "source": [
        "class Node:\n",
        "  def __init__(self, value = None):\n",
        "    self.prev = None\n",
        "    self.value = value\n",
        "    self.next = None\n",
        "class CDLL:\n",
        "  def __init__(self):\n",
        "    self.head = None\n",
        "    self.tail = None\n",
        "  def __iter__(self):\n",
        "    temp = self.head\n",
        "    while temp:\n",
        "      yield temp\n",
        "      temp = temp.next\n",
        "      if temp == self.tail.next:\n",
        "        break\n",
        "  def Create_CDLL(self,value):\n",
        "    node = Node(value)\n",
        "    self.head = node\n",
        "    self.tail = node\n",
        "    node.prev= node\n",
        "    node.next = node\n",
        "\n",
        "  def Insertion_DLL(self,val,loc):                      #Time complexity : O(n) and Space Complexity : O(1)\n",
        "    if self.head is None:\n",
        "      return \"The Circular Doubly linked list is empty\"                    # O(1)\n",
        "    else:\n",
        "      node  = Node(val)\n",
        "      if loc ==0:                                                          # O(1)\n",
        "        node.prev = self.tail\n",
        "        node.next = self.head\n",
        "        self.head.prev = node\n",
        "        self.head = node\n",
        "        self.tail.next = node\n",
        "      elif loc ==-1:                                                       # O(1)\n",
        "        node.next = self.head\n",
        "        node.prev = self.tail\n",
        "        self.head.prev = node\n",
        "        self.tail.next = node\n",
        "        self.tail = node\n",
        "      else:                                                                # O(n)\n",
        "        index = 0\n",
        "        temp = self.head\n",
        "        while index <= loc -1:\n",
        "          index+=1\n",
        "          temp = temp.next\n",
        "        node.next = temp.next\n",
        "        node.prev = temp\n",
        "        node.next.prev = node\n",
        "        temp.next = node\n",
        "      return \"The insertion is successfull\""
      ],
      "metadata": {
        "id": "pUqIwZ9mi9kL"
      },
      "execution_count": null,
      "outputs": []
    },
    {
      "cell_type": "code",
      "source": [
        "cdll = CDLL()\n",
        "cdll.Create_CDLL(2)\n",
        "cdll.Insertion_DLL(4,-1)\n",
        "cdll.Insertion_DLL(0,0)\n",
        "cdll.Insertion_DLL(9,1)\n",
        "cdll.Insertion_DLL(1,2)\n",
        "print([l.value for l in cdll])"
      ],
      "metadata": {
        "colab": {
          "base_uri": "https://localhost:8080/"
        },
        "id": "py14I7BGTZl1",
        "outputId": "995683f1-b11d-4e8a-9fe8-360391b0c8b2"
      },
      "execution_count": null,
      "outputs": [
        {
          "output_type": "stream",
          "name": "stdout",
          "text": [
            "[0, 2, 9, 1, 4]\n"
          ]
        }
      ]
    },
    {
      "cell_type": "markdown",
      "source": [
        "###### Traversal of CDLL"
      ],
      "metadata": {
        "id": "cx0clPVSPtXc"
      }
    },
    {
      "cell_type": "code",
      "source": [
        "class Node:\n",
        "  def __init__(self, value = None):\n",
        "    self.prev = None\n",
        "    self.value = value\n",
        "    self.next = None\n",
        "class CDLL:\n",
        "  def __init__(self):\n",
        "    self.head = None\n",
        "    self.tail = None\n",
        "  def __iter__(self):\n",
        "    temp = self.head\n",
        "    while temp:\n",
        "      yield temp\n",
        "      temp = temp.next\n",
        "      if temp == self.tail.next:\n",
        "        break\n",
        "  def Create_CDLL(self,value):\n",
        "    node = Node(value)\n",
        "    self.head = node\n",
        "    self.tail = node\n",
        "    node.prev= node\n",
        "    node.next = node\n",
        "\n",
        "  def Insertion_DLL(self,val,loc):\n",
        "    if self.head is None:\n",
        "      return \"The Circular Doubly linked list is empty\"\n",
        "    else:\n",
        "      node  = Node(val)\n",
        "      if loc ==0:\n",
        "        node.prev = self.tail\n",
        "        node.next = self.head\n",
        "        self.head.prev = node\n",
        "        self.head = node\n",
        "        self.tail.next = node\n",
        "      elif loc ==-1:\n",
        "        node.next = self.head\n",
        "        node.prev = self.tail\n",
        "        self.head.prev = node\n",
        "        self.tail.next = node\n",
        "        self.tail = node\n",
        "      else:\n",
        "        index = 0\n",
        "        temp = self.head\n",
        "        while index <= loc -1:\n",
        "          index+=1\n",
        "          temp = temp.next\n",
        "        node.next = temp.next\n",
        "        node.prev = temp\n",
        "        node.next.prev = node\n",
        "        temp.next = node\n",
        "      return \"The insertion is successfull\"\n",
        "  def Traversal_CDLL(self):\n",
        "    if self.head is None:\n",
        "      return \"The linked list is empty to traverse\"\n",
        "    else:\n",
        "      temp = self.head                                  # Time Complexity :O(n) and Space Comolexity : O(1)\n",
        "      while temp:\n",
        "        print(temp.value)\n",
        "        if temp== self.tail:\n",
        "          break\n",
        "        temp = temp.next\n",
        "      return \"the traverse is successfull\""
      ],
      "metadata": {
        "id": "GYXrr7zx96yV"
      },
      "execution_count": null,
      "outputs": []
    },
    {
      "cell_type": "code",
      "source": [
        "cdll = CDLL()\n",
        "cdll.Create_CDLL(2)\n",
        "cdll.Insertion_DLL(4,-1)\n",
        "cdll.Insertion_DLL(0,0)\n",
        "cdll.Insertion_DLL(9,1)\n",
        "cdll.Insertion_DLL(1,2)\n",
        "cdll.Traversal_CDLL()"
      ],
      "metadata": {
        "colab": {
          "base_uri": "https://localhost:8080/",
          "height": 127
        },
        "id": "4HHG1xf4-rfO",
        "outputId": "81094434-c619-4eb4-b0af-5f31b8c23dca"
      },
      "execution_count": null,
      "outputs": [
        {
          "output_type": "stream",
          "name": "stdout",
          "text": [
            "0\n",
            "2\n",
            "9\n",
            "1\n",
            "4\n"
          ]
        },
        {
          "output_type": "execute_result",
          "data": {
            "text/plain": [
              "'the traverse is successfull'"
            ],
            "application/vnd.google.colaboratory.intrinsic+json": {
              "type": "string"
            }
          },
          "metadata": {},
          "execution_count": 38
        }
      ]
    },
    {
      "cell_type": "markdown",
      "source": [
        "###### Reverse The CDLL"
      ],
      "metadata": {
        "id": "I87zou9-Aaxx"
      }
    },
    {
      "cell_type": "code",
      "source": [
        "class Node:\n",
        "  def __init__(self, value = None):\n",
        "    self.prev = None\n",
        "    self.value = value\n",
        "    self.next = None\n",
        "class CDLL:\n",
        "  def __init__(self):\n",
        "    self.head = None\n",
        "    self.tail = None\n",
        "  def __iter__(self):\n",
        "    temp = self.head\n",
        "    while temp:\n",
        "      yield temp\n",
        "      temp = temp.next\n",
        "      if temp == self.tail.next:\n",
        "        break\n",
        "  def Create_CDLL(self,value):\n",
        "    node = Node(value)\n",
        "    self.head = node\n",
        "    self.tail = node\n",
        "    node.prev= node\n",
        "    node.next = node\n",
        "\n",
        "  def Insertion_DLL(self,val,loc):\n",
        "    if self.head is None:\n",
        "      return \"The Circular Doubly linked list is empty\"\n",
        "    else:\n",
        "      node  = Node(val)\n",
        "      if loc ==0:\n",
        "        node.prev = self.tail\n",
        "        node.next = self.head\n",
        "        self.head.prev = node\n",
        "        self.head = node\n",
        "        self.tail.next = node\n",
        "      elif loc ==-1:\n",
        "        node.next = self.head\n",
        "        node.prev = self.tail\n",
        "        self.head.prev = node\n",
        "        self.tail.next = node\n",
        "        self.tail = node\n",
        "      else:\n",
        "        index = 0\n",
        "        temp = self.head\n",
        "        while index <= loc -1:\n",
        "          index+=1\n",
        "          temp = temp.next\n",
        "        node.next = temp.next\n",
        "        node.prev = temp\n",
        "        node.next.prev = node\n",
        "        temp.next = node\n",
        "      return \"The insertion is successfull\"\n",
        "  def Traversal_CDLL(self):\n",
        "    if self.head is None:\n",
        "      return \"The linked list is empty to traverse\"\n",
        "    else:\n",
        "      temp = self.head\n",
        "      while temp:\n",
        "        print(temp.value)\n",
        "        if temp== self.tail:\n",
        "          break\n",
        "        temp = temp.next\n",
        "      return \"the traverse is successfull\"\n",
        "  def reverse_CDLL(self):                                     # Time Complexity : O(n) and Space Complexity : O(1)\n",
        "    if self.head is None:                                     # O(1)\n",
        "      return \"The list is empty and reverse is not possible\"\n",
        "    else:                                                     # O(n)\n",
        "      temp = self.tail\n",
        "      while temp:\n",
        "        print(temp.value)\n",
        "        if temp == self.head:\n",
        "          break\n",
        "        temp = temp.prev\n",
        "      return \"The Reversing is successful\""
      ],
      "metadata": {
        "id": "JW1QOmkYAkKy"
      },
      "execution_count": null,
      "outputs": []
    },
    {
      "cell_type": "code",
      "source": [
        "cdll = CDLL()\n",
        "cdll.Create_CDLL(2)\n",
        "cdll.Insertion_DLL(4,-1)\n",
        "cdll.Insertion_DLL(0,0)\n",
        "cdll.Insertion_DLL(9,1)\n",
        "cdll.Insertion_DLL(1,2)\n",
        "cdll.reverse_CDLL()"
      ],
      "metadata": {
        "colab": {
          "base_uri": "https://localhost:8080/",
          "height": 127
        },
        "id": "NgrrIIAlUMMr",
        "outputId": "e6b1bb42-9da2-45da-8d5e-a92eca763927"
      },
      "execution_count": null,
      "outputs": [
        {
          "output_type": "stream",
          "name": "stdout",
          "text": [
            "4\n",
            "1\n",
            "9\n",
            "2\n",
            "0\n"
          ]
        },
        {
          "output_type": "execute_result",
          "data": {
            "text/plain": [
              "'The Reversing is successful'"
            ],
            "application/vnd.google.colaboratory.intrinsic+json": {
              "type": "string"
            }
          },
          "metadata": {},
          "execution_count": 79
        }
      ]
    },
    {
      "cell_type": "markdown",
      "source": [
        "###### Searching in CDLL"
      ],
      "metadata": {
        "id": "ioAxIcv5P3Ri"
      }
    },
    {
      "cell_type": "code",
      "source": [
        "class Node:\n",
        "  def __init__(self, value = None):\n",
        "    self.prev = None\n",
        "    self.value = value\n",
        "    self.next = None\n",
        "class CDLL:\n",
        "  def __init__(self):\n",
        "    self.head = None\n",
        "    self.tail = None\n",
        "  def __iter__(self):\n",
        "    temp = self.head\n",
        "    while temp:\n",
        "      yield temp\n",
        "      temp = temp.next\n",
        "      if temp == self.tail.next:\n",
        "        break\n",
        "  def Create_CDLL(self,value):\n",
        "    node = Node(value)\n",
        "    self.head = node\n",
        "    self.tail = node\n",
        "    node.prev= node\n",
        "    node.next = node\n",
        "\n",
        "  def Insertion_DLL(self,val,loc):\n",
        "    if self.head is None:\n",
        "      return \"The Circular Doubly linked list is empty\"\n",
        "    else:\n",
        "      node  = Node(val)\n",
        "      if loc ==0:\n",
        "        node.prev = self.tail\n",
        "        node.next = self.head\n",
        "        self.head.prev = node\n",
        "        self.head = node\n",
        "        self.tail.next = node\n",
        "      elif loc ==-1:\n",
        "        node.next = self.head\n",
        "        node.prev = self.tail\n",
        "        self.head.prev = node\n",
        "        self.tail.next = node\n",
        "        self.tail = node\n",
        "      else:\n",
        "        index = 0\n",
        "        temp = self.head\n",
        "        while index <= loc -1:\n",
        "          index+=1\n",
        "          temp = temp.next\n",
        "        node.next = temp.next\n",
        "        node.prev = temp\n",
        "        node.next.prev = node\n",
        "        temp.next = node\n",
        "      return \"The insertion is successfull\"\n",
        "  def Traversal_CDLL(self):\n",
        "    if self.head is None:\n",
        "      return \"The linked list is empty to traverse\"\n",
        "    else:\n",
        "      temp = self.head\n",
        "      while temp:\n",
        "        print(temp.value)\n",
        "        if temp== self.tail:\n",
        "          break\n",
        "        temp = temp.next\n",
        "      return \"the traverse is successfull\"\n",
        "  def reverse_CDLL(self):\n",
        "    if self.head is None:\n",
        "      return \"The list is empty and reverse is not possible\"\n",
        "    else:\n",
        "      temp = self.tail\n",
        "      while temp:\n",
        "        print(temp.value)\n",
        "        if temp == self.head:\n",
        "          break\n",
        "        temp = temp.prev\n",
        "      return \"The Reversing is successful\"\n",
        "  def Search_CDLL(self, i  = input()):                        # Time Complexity : O(n) and Space COmplexity: O(1)\n",
        "    if self.head is None:\n",
        "      return \"You can't search any element\"\n",
        "    else:\n",
        "      temp = self.head\n",
        "      index  =0\n",
        "      if i == \"value\":\n",
        "        val = int(input(\"Enter the Value: \"))\n",
        "        while temp:                                           # O(n)\n",
        "          if temp.value == val:\n",
        "            return  (index,temp.value)\n",
        "          temp = temp.next\n",
        "          index+=1\n",
        "      elif i == \"location\":\n",
        "        loc = int(input(\"Enter the location: \"))\n",
        "        while temp:                                          # O(n)\n",
        "          if index == loc:\n",
        "            return (index, temp.value)\n",
        "          temp = temp.next\n",
        "          index+=1\n",
        "      else:\n",
        "        return \"Enter Valid input\""
      ],
      "metadata": {
        "colab": {
          "base_uri": "https://localhost:8080/"
        },
        "id": "_hJ2dD8X_0bt",
        "outputId": "f20989d0-a2b3-4aa4-c8f7-974872021167"
      },
      "execution_count": null,
      "outputs": [
        {
          "name": "stdout",
          "output_type": "stream",
          "text": [
            "value\n"
          ]
        }
      ]
    },
    {
      "cell_type": "code",
      "source": [
        "cdll = CDLL()\n",
        "cdll.Create_CDLL(2)\n",
        "cdll.Insertion_DLL(4,-1)\n",
        "cdll.Insertion_DLL(0,0)\n",
        "cdll.Insertion_DLL(9,1)\n",
        "cdll.Insertion_DLL(1,2)\n",
        "cdll.Search_CDLL()"
      ],
      "metadata": {
        "colab": {
          "base_uri": "https://localhost:8080/"
        },
        "id": "d0ujFfbLKnzL",
        "outputId": "ca81501b-93bf-48c7-f0ec-81c55511187b"
      },
      "execution_count": null,
      "outputs": [
        {
          "name": "stdout",
          "output_type": "stream",
          "text": [
            "Enter the Value: 4\n"
          ]
        },
        {
          "output_type": "execute_result",
          "data": {
            "text/plain": [
              "(4, 4)"
            ]
          },
          "metadata": {},
          "execution_count": 96
        }
      ]
    },
    {
      "cell_type": "markdown",
      "source": [
        "###### Deletion of node in CDLL"
      ],
      "metadata": {
        "id": "eChiAa9OP6Ms"
      }
    },
    {
      "cell_type": "code",
      "source": [
        "class Node:\n",
        "  def __init__(self, value = None):\n",
        "    self.prev = None\n",
        "    self.value = value\n",
        "    self.next = None\n",
        "class CDLL:\n",
        "  def __init__(self):\n",
        "    self.head = None\n",
        "    self.tail = None\n",
        "  def __iter__(self):\n",
        "    temp = self.head\n",
        "    while temp:\n",
        "      yield temp\n",
        "      temp = temp.next\n",
        "      if temp == self.tail.next:\n",
        "        break\n",
        "  def Create_CDLL(self,value):\n",
        "    node = Node(value)\n",
        "    self.head = node\n",
        "    self.tail = node\n",
        "    node.prev= node\n",
        "    node.next = node\n",
        "\n",
        "  def Insertion_DLL(self,val,loc):\n",
        "    if self.head is None:\n",
        "      return \"The Circular Doubly linked list is empty\"\n",
        "    else:\n",
        "      node  = Node(val)\n",
        "      if loc ==0:\n",
        "        node.prev = self.tail\n",
        "        node.next = self.head\n",
        "        self.head.prev = node\n",
        "        self.head = node\n",
        "        self.tail.next = node\n",
        "      elif loc ==-1:\n",
        "        node.next = self.head\n",
        "        node.prev = self.tail\n",
        "        self.head.prev = node\n",
        "        self.tail.next = node\n",
        "        self.tail = node\n",
        "      else:\n",
        "        index = 0\n",
        "        temp = self.head\n",
        "        while index <= loc -1:\n",
        "          index+=1\n",
        "          temp = temp.next\n",
        "        node.next = temp.next\n",
        "        node.prev = temp\n",
        "        node.next.prev = node\n",
        "        temp.next = node\n",
        "      return \"The insertion is successfull\"\n",
        "  def Traversal_CDLL(self):\n",
        "    if self.head is None:\n",
        "      return \"The linked list is empty to traverse\"\n",
        "    else:\n",
        "      temp = self.head\n",
        "      while temp:\n",
        "        print(temp.value)\n",
        "        if temp== self.tail:\n",
        "          break\n",
        "        temp = temp.next\n",
        "      return \"the traverse is successfull\"\n",
        "  def reverse_CDLL(self):\n",
        "    if self.head is None:\n",
        "      return \"The list is empty and reverse is not possible\"\n",
        "    else:\n",
        "      temp = self.tail\n",
        "      while temp:\n",
        "        print(temp.value)\n",
        "        if temp == self.head:\n",
        "          break\n",
        "        temp = temp.prev\n",
        "      return \"The Reversing is successful\"\n",
        "  def Search_CDLL(self, i  = input()):\n",
        "    if self.head is None:\n",
        "      return \"You can't search any element\"\n",
        "    else:\n",
        "      temp = self.head\n",
        "      index  =0\n",
        "      if i == \"value\":\n",
        "        val = int(input(\"Enter the Value: \"))\n",
        "        while temp:\n",
        "          if temp.value == val:\n",
        "            return  (index,temp.value)\n",
        "          temp = temp.next\n",
        "          index+=1\n",
        "      elif i == \"location\":\n",
        "        loc = int(input(\"Enter the location: \"))\n",
        "        while temp:\n",
        "          if index == loc:\n",
        "            return (index, temp.value)\n",
        "          temp = temp.next\n",
        "          index+=1\n",
        "      else:\n",
        "        return \"Enter Valid input\"\n",
        "  def deletion_CDLL(self, loc):                                     # Time Complexity : O(n) and Space Complexity : O(1)\n",
        "    if self.head is None:                                           # O(1)\n",
        "      return \"the deletion can't be done as the list is empty\"\n",
        "    else:\n",
        "      if loc == 0:                                                  # O(1)\n",
        "        if self.head == self.tail:\n",
        "          self.head.prev = None\n",
        "          self.head.next = None\n",
        "          self.head = None\n",
        "          self.tail = None\n",
        "        else:                                                       # O(1)\n",
        "          self.tail.next = self.head.next\n",
        "          self.head = self.head.next\n",
        "          self.head.prev = self.tail\n",
        "      elif loc == -1:                                               # O(1)\n",
        "        if self.head == self.tail:\n",
        "          self.tail.prev = None\n",
        "          self.tail.next = None\n",
        "          self.tail = None\n",
        "          self.head = None\n",
        "        else:                                                       # O(1)\n",
        "          self.head.prev = self.tail.prev\n",
        "          self.tail = self.tail.prev\n",
        "          self.tail.next = self.head\n",
        "      else:                                                         # O(n)\n",
        "        index = 0\n",
        "        temp = self.head\n",
        "        while index<loc-1:\n",
        "          temp = temp.next\n",
        "          index+=1\n",
        "        temp.next = temp.next.next\n",
        "        temp.next.prev = temp"
      ],
      "metadata": {
        "colab": {
          "base_uri": "https://localhost:8080/"
        },
        "id": "7M6XGl5EU3dS",
        "outputId": "78886d97-64d4-4f70-8bfa-308758b4ac95"
      },
      "execution_count": null,
      "outputs": [
        {
          "name": "stdout",
          "output_type": "stream",
          "text": [
            "location\n"
          ]
        }
      ]
    },
    {
      "cell_type": "code",
      "source": [
        "cdll = CDLL()\n",
        "cdll.Create_CDLL(2)\n",
        "cdll.Insertion_DLL(4,-1)\n",
        "cdll.Insertion_DLL(0,0)\n",
        "cdll.Insertion_DLL(9,1)\n",
        "cdll.Insertion_DLL(1,2)\n",
        "cdll.Insertion_DLL(7,3)\n",
        "print([l.value for l in cdll])\n",
        "cdll.deletion_CDLL(0)\n",
        "print([l.value for l in cdll])\n",
        "cdll.deletion_CDLL(-1)\n",
        "print([l.value for l in cdll])\n",
        "cdll.deletion_CDLL(2)\n",
        "print([l.value for l in cdll])"
      ],
      "metadata": {
        "colab": {
          "base_uri": "https://localhost:8080/"
        },
        "id": "ER0hRplkWin8",
        "outputId": "0cca2f8e-a3ef-452c-8e8b-fc26d669c514"
      },
      "execution_count": null,
      "outputs": [
        {
          "output_type": "stream",
          "name": "stdout",
          "text": [
            "[0, 2, 9, 1, 7, 4]\n",
            "[2, 9, 1, 7, 4]\n",
            "[2, 9, 1, 7]\n",
            "[2, 9, 7]\n"
          ]
        }
      ]
    },
    {
      "cell_type": "markdown",
      "source": [
        "###### Deletion of Entire CDLL"
      ],
      "metadata": {
        "id": "oVPPe2oQgRzw"
      }
    },
    {
      "cell_type": "code",
      "source": [
        "class Node:\n",
        "  def __init__(self, value = None):\n",
        "    self.prev = None\n",
        "    self.value = value\n",
        "    self.next = None\n",
        "class CDLL:\n",
        "  def __init__(self):\n",
        "    self.head = None\n",
        "    self.tail = None\n",
        "  def __iter__(self):\n",
        "    temp = self.head\n",
        "    while temp:\n",
        "      yield temp\n",
        "      temp = temp.next\n",
        "      if temp == self.tail.next:\n",
        "        break\n",
        "  def Create_CDLL(self,value):\n",
        "    node = Node(value)\n",
        "    self.head = node\n",
        "    self.tail = node\n",
        "    node.prev= node\n",
        "    node.next = node\n",
        "\n",
        "  def Insertion_DLL(self,val,loc):\n",
        "    if self.head is None:\n",
        "      return \"The Circular Doubly linked list is empty\"\n",
        "    else:\n",
        "      node  = Node(val)\n",
        "      if loc ==0:\n",
        "        node.prev = self.tail\n",
        "        node.next = self.head\n",
        "        self.head.prev = node\n",
        "        self.head = node\n",
        "        self.tail.next = node\n",
        "      elif loc ==-1:\n",
        "        node.next = self.head\n",
        "        node.prev = self.tail\n",
        "        self.head.prev = node\n",
        "        self.tail.next = node\n",
        "        self.tail = node\n",
        "      else:\n",
        "        index = 0\n",
        "        temp = self.head\n",
        "        while index <= loc -1:\n",
        "          index+=1\n",
        "          temp = temp.next\n",
        "        node.next = temp.next\n",
        "        node.prev = temp\n",
        "        node.next.prev = node\n",
        "        temp.next = node\n",
        "      return \"The insertion is successfull\"\n",
        "  def Traversal_CDLL(self):\n",
        "    if self.head is None:\n",
        "      return \"The linked list is empty to traverse\"\n",
        "    else:\n",
        "      temp = self.head\n",
        "      while temp:\n",
        "        print(temp.value)\n",
        "        if temp== self.tail:\n",
        "          break\n",
        "        temp = temp.next\n",
        "      return \"the traverse is successfull\"\n",
        "  def reverse_CDLL(self):\n",
        "    if self.head is None:\n",
        "      return \"The list is empty and reverse is not possible\"\n",
        "    else:\n",
        "      temp = self.tail\n",
        "      while temp:\n",
        "        print(temp.value)\n",
        "        if temp == self.head:\n",
        "          break\n",
        "        temp = temp.prev\n",
        "      return \"The Reversing is successful\"\n",
        "  def Search_CDLL(self, i  = input()):\n",
        "    if self.head is None:\n",
        "      return \"You can't search any element\"\n",
        "    else:\n",
        "      temp = self.head\n",
        "      index  =0\n",
        "      if i == \"value\":\n",
        "        val = int(input(\"Enter the Value: \"))\n",
        "        while temp:\n",
        "          if temp.value == val:\n",
        "            return  (index,temp.value)\n",
        "          temp = temp.next\n",
        "          index+=1\n",
        "      elif i == \"location\":\n",
        "        loc = int(input(\"Enter the location: \"))\n",
        "        while temp:\n",
        "          if index == loc:\n",
        "            return (index, temp.value)\n",
        "          temp = temp.next\n",
        "          index+=1\n",
        "      else:\n",
        "        return \"Enter Valid input\"\n",
        "  def deletion_CDLL(self, loc):\n",
        "    if self.head is None:\n",
        "      return \"the deletion can't be done as the list is empty\"\n",
        "    else:\n",
        "      if loc == 0:\n",
        "        if self.head == self.tail:\n",
        "          self.head.prev = None\n",
        "          self.head.next = None\n",
        "          self.head = None\n",
        "          self.tail = None\n",
        "        else:\n",
        "          self.tail.next = self.head.next\n",
        "          self.head = self.head.next\n",
        "          self.head.prev = self.tail\n",
        "      elif loc == -1:\n",
        "        if self.head == self.tail:\n",
        "          self.tail.prev = None\n",
        "          self.tail.next = None\n",
        "          self.tail = None\n",
        "          self.head = None\n",
        "        else:\n",
        "          self.head.prev = self.tail.prev\n",
        "          self.tail = self.tail.prev\n",
        "          self.tail.next = self.head\n",
        "      else:\n",
        "        index = 0\n",
        "        temp = self.head\n",
        "        while temp:\n",
        "          if index == loc -1:\n",
        "            break\n",
        "          temp = temp.next\n",
        "          index+=1\n",
        "        temp.next = temp.next.next\n",
        "        temp.next.prev = temp\n",
        "  def Del_Entire(self):                                # Time Complexity : O(n) and Space Complexity : O(1)\n",
        "    if self.head is None:\n",
        "      return \"The list is already empty\"\n",
        "    else:\n",
        "      self.tail.next = None\n",
        "      temp = self.head\n",
        "      while temp:                                        # O(n)\n",
        "        temp.prev = None\n",
        "        temp = temp.next\n",
        "      self.head = None\n",
        "      self.tail = None\n",
        ""
      ],
      "metadata": {
        "id": "VLxo5lQogVct",
        "colab": {
          "base_uri": "https://localhost:8080/"
        },
        "outputId": "d6602845-a446-4118-d48c-1ffcd45db0bf"
      },
      "execution_count": null,
      "outputs": [
        {
          "name": "stdout",
          "output_type": "stream",
          "text": [
            "location\n"
          ]
        }
      ]
    },
    {
      "cell_type": "code",
      "source": [
        "cdll = CDLL()\n",
        "cdll.Create_CDLL(2)\n",
        "cdll.Insertion_DLL(4,-1)\n",
        "cdll.Insertion_DLL(0,0)\n",
        "cdll.Insertion_DLL(9,1)\n",
        "cdll.Insertion_DLL(1,2)\n",
        "cdll.Insertion_DLL(7,3)\n",
        "cdll.Del_Entire()\n",
        "print([l.value for l in cdll])"
      ],
      "metadata": {
        "colab": {
          "base_uri": "https://localhost:8080/"
        },
        "id": "3mkQahN4g-yJ",
        "outputId": "2c37da99-d111-41b1-dafa-e238a08d1745"
      },
      "execution_count": null,
      "outputs": [
        {
          "output_type": "stream",
          "name": "stdout",
          "text": [
            "[]\n"
          ]
        }
      ]
    },
    {
      "cell_type": "markdown",
      "source": [
        "###### Time and Space Complexities of CDLL"
      ],
      "metadata": {
        "id": "LdOXkHCbQ6Tr"
      }
    },
    {
      "cell_type": "markdown",
      "source": [
        "Operators | Time Complexity | Space Complexity\n",
        "---|:---|:---|\n",
        "Creation of single CDLL | O(1)|O(1)\n",
        "Insertion at the Start/End/Middle of CDLL|O(1)/ O(1)/ O(n)|O(1)\n",
        "Traversal of CDLL|O(n)|O(1)\n",
        "Reverse of CDLL|O(n)|O(1)\n",
        "Searching of CDLL | O(n) |O(1)\n",
        "Deletion of node in start / End/ Midlle of CDLL | O(1)/ O(1)/ O(n) |O(1)\n",
        "Deletion of entire CDLL | O(n) | O(1)"
      ],
      "metadata": {
        "id": "BNwnNp59fPSr"
      }
    },
    {
      "cell_type": "markdown",
      "source": [
        "##### QUESTIONS and INTERVIEW CONCEPTS"
      ],
      "metadata": {
        "id": "7VdrcjbfrYEX"
      }
    },
    {
      "cell_type": "markdown",
      "source": [
        "###### Make a class for list"
      ],
      "metadata": {
        "id": "YZB0Fr128pF_"
      }
    },
    {
      "cell_type": "code",
      "source": [
        "from random import randint\n",
        "class Node:\n",
        "  def __init__(self,value=None):\n",
        "    self.prev = None\n",
        "    self.next = None\n",
        "    self.value = value\n",
        "\n",
        "  def __str__(self):\n",
        "    return str(self.value)\n",
        "\n",
        "class Linkedlist:\n",
        "\n",
        "  def __init__(self):\n",
        "    self.head = None\n",
        "    self.tail = None\n",
        "\n",
        "  def __iter__(self):\n",
        "    Curn = self.head\n",
        "    while Curn:\n",
        "      yield Curn\n",
        "      Curn = Curn.next\n",
        "\n",
        "  def __str__(self):\n",
        "    val = [str(x.value) for x in self]\n",
        "    return \"->\".join(val)\n",
        "\n",
        "\n",
        "  def __len__(self):\n",
        "    index =0\n",
        "    n = self.head\n",
        "    while n:\n",
        "      index+=1\n",
        "      n= n.next\n",
        "    return index\n",
        "\n",
        "  def add(self,val):\n",
        "    node = Node(val)\n",
        "    if self.head is None:\n",
        "      self.head = node\n",
        "      self.tail = node\n",
        "    else:\n",
        "      self.tail.next = node\n",
        "      self.tail = node\n",
        "    return self.tail\n",
        "\n",
        "  def random_generate(self, n, min_value, max_value):\n",
        "    self.head = None\n",
        "    self.tail = None\n",
        "    for i in range(n):\n",
        "      self.add(randint(min_value,max_value))\n",
        "    return self\n",
        "\n",
        "c,d= Linkedlist(),Linkedlist()\n",
        "c.random_generate(3,2,10)\n",
        "d.add(3)\n",
        "print(c,d)\n",
        "print(len(c), len(d))"
      ],
      "metadata": {
        "id": "PI1KMQFvifsK",
        "colab": {
          "base_uri": "https://localhost:8080/"
        },
        "outputId": "8f0578ef-8824-4277-a0ec-9209d0db8293"
      },
      "execution_count": null,
      "outputs": [
        {
          "output_type": "stream",
          "name": "stdout",
          "text": [
            "2->10->9 3\n",
            "3 1\n"
          ]
        }
      ]
    },
    {
      "cell_type": "markdown",
      "source": [
        "###### Delete Duplicate Nodes from Unsorted array"
      ],
      "metadata": {
        "id": "QkK0GLcOEfJt"
      }
    },
    {
      "cell_type": "code",
      "source": [
        "from random import randint\n",
        "class Node:\n",
        "\n",
        "  def __init__(self,value = None):\n",
        "    self.prev = None\n",
        "    self.value = value\n",
        "    self.next = None\n",
        "\n",
        "  def __str__(self):\n",
        "    return str(self.value)\n",
        "\n",
        "class LinkedList:\n",
        "\n",
        "  def __init__(self):\n",
        "    self.head = None\n",
        "    self.tail = None\n",
        "\n",
        "  def __iter__(self):\n",
        "    curNode = self.head\n",
        "    while curNode:\n",
        "      yield curNode\n",
        "      curNode = curNode.next\n",
        "\n",
        "  def __str__(self):\n",
        "    val = [str(node.value) for node in self]\n",
        "    return \"-->\".join(val)\n",
        "\n",
        "  def added(self,values):\n",
        "    node = Node(values)\n",
        "    if self.head is None:\n",
        "      self.head = node\n",
        "      self.tail = node\n",
        "    else:\n",
        "      self.tail.next = node\n",
        "      self.tail = node\n",
        "    return self.tail\n",
        "\n",
        "  def randomrange(self, min_num, max_num, ranges):\n",
        "    self.head = None\n",
        "    self.tail = None\n",
        "    for i in range(ranges):\n",
        "      self.added(randint(min_num, max_num))\n",
        "    return self\n",
        "\n",
        "  def __len__(self):\n",
        "    temp = self.head\n",
        "    index=0\n",
        "    while temp:\n",
        "      index+=1\n",
        "      temp= temp.next\n",
        "    return index\n",
        "\n",
        "def Deldupli(ll):                             # Time Complexity : O(n^2) and Space Complexity : O(1)\n",
        "  if ll.head is None:\n",
        "    return\n",
        "\n",
        "  currNode = ll.head\n",
        "  while currNode:                                     # Time Complexity :O(n^2)\n",
        "    runNode = currNode\n",
        "    while runNode.next:                               #Time Complexity: O(n)\n",
        "      if runNode.next.value == currNode.value:\n",
        "        runNode.next = runNode.next.next\n",
        "      else:\n",
        "        runNode = runNode.next\n",
        "    currNode = currNode.next\n",
        "  return ll.head\n",
        "\n",
        "a = LinkedList()\n",
        "b = LinkedList()\n",
        "a.randomrange(2,15,9)\n",
        "b.added(2)\n",
        "b.added(3)\n",
        "b.added(2)\n",
        "print(a,len(a),b,len(b))\n",
        "Deldupli(a)\n",
        "Deldupli(b)\n",
        "print(a,len(a),b,len(b))"
      ],
      "metadata": {
        "colab": {
          "base_uri": "https://localhost:8080/"
        },
        "id": "5E1jn5pZ40Wr",
        "outputId": "62520735-ae24-4f7b-cfaa-1c715f7a5296"
      },
      "execution_count": null,
      "outputs": [
        {
          "output_type": "stream",
          "name": "stdout",
          "text": [
            "12-->4-->11-->6-->15-->6-->14-->10-->2 9 2-->3-->2 3\n",
            "12-->4-->11-->6-->15-->14-->10-->2 8 2-->3 2\n"
          ]
        }
      ]
    },
    {
      "cell_type": "code",
      "source": [
        "from random import randint\n",
        "class Node:\n",
        "  def __init__(self,value=None):\n",
        "    self.prev = None\n",
        "    self.next = None\n",
        "    self.value = value\n",
        "\n",
        "  def __str__(self):\n",
        "    return str(self.value)\n",
        "\n",
        "class Linkedlist:\n",
        "\n",
        "  def __init__(self,values = None):\n",
        "    self.head = None\n",
        "    self.tail = None\n",
        "\n",
        "  def __iter__(self):\n",
        "    Curn = self.head\n",
        "    while Curn:\n",
        "      yield Curn\n",
        "      Curn = Curn.next\n",
        "\n",
        "  def __str__(self):\n",
        "    val = [str(x.value) for x in self]\n",
        "    return \"->\".join(val)\n",
        "\n",
        "\n",
        "  def __len__(self):\n",
        "    index =0\n",
        "    n = self.head\n",
        "    while n:\n",
        "      index+=1\n",
        "      n= n.next\n",
        "    return index\n",
        "\n",
        "  def add(self,val):\n",
        "    node = Node(val)\n",
        "    if self.head is None:\n",
        "      self.head = node\n",
        "      self.tail = node\n",
        "    else:\n",
        "      self.tail.next = node\n",
        "      self.tail = node\n",
        "    return self.tail\n",
        "\n",
        "  def random_generate(self, n:int, min_value, max_value):\n",
        "    self.head = None\n",
        "    self.tail = None\n",
        "    for i in range(n):\n",
        "      self.add(randint(min_value,max_value))\n",
        "    return self\n",
        "\n",
        "  def deledup(self):                                      # Time Complexity :O(n) and Space Complexity : O(n)[set of n distinct elements are added]\n",
        "    if self.head is None:\n",
        "      return\n",
        "    else:\n",
        "      currnode = self.head\n",
        "      visited = set([currnode.value])\n",
        "      while currnode.next:                                # O(n)\n",
        "        if currnode.next.value in visited:\n",
        "          currnode.next = currnode.next.next\n",
        "        else:\n",
        "          visited.add(currnode.next.value)\n",
        "          currnode = currnode.next\n",
        "      return self\n",
        "\n",
        "  def dulpioutset(self):\n",
        "    if self.head is None:\n",
        "      return \"The node is empty\"\n",
        "\n",
        "    curr  = self.head\n",
        "    while curr:\n",
        "      node = curr\n",
        "      while node.next:\n",
        "        if node.next.value == curr.value:\n",
        "          node.next = node.next.next\n",
        "        else:\n",
        "          node = node.next\n",
        "      curr = curr.next\n",
        "    return self.head\n",
        "\n",
        "\n",
        "\n",
        "a = Linkedlist()\n",
        "b = Linkedlist()\n",
        "a.random_generate(9,2,15)\n",
        "b.add(2)\n",
        "b.add(3)\n",
        "b.add(2)\n",
        "print(a,len(a),b,len(b))\n",
        "a.deledup()\n",
        "b.deledup()\n",
        "print(a,len(a),b,len(b))"
      ],
      "metadata": {
        "colab": {
          "base_uri": "https://localhost:8080/"
        },
        "id": "dOJcUv8s057v",
        "outputId": "024ad979-81e4-4e0d-ce96-605c5c7703dc"
      },
      "execution_count": null,
      "outputs": [
        {
          "output_type": "stream",
          "name": "stdout",
          "text": [
            "2->11->13->10->7->11->2->14->12 9 2->3->2 3\n",
            "2->11->13->10->7->14->12 7 2->3 2\n"
          ]
        }
      ]
    },
    {
      "cell_type": "markdown",
      "source": [
        "###### Return kth to last"
      ],
      "metadata": {
        "id": "PqMU6Em9wjeV"
      }
    },
    {
      "cell_type": "markdown",
      "source": [
        "Need to return the k th node from the end of the linked list"
      ],
      "metadata": {
        "id": "xxpa8xKEZe1q"
      }
    },
    {
      "cell_type": "code",
      "source": [
        "def returnkthlast(k,ll):                              # Time Complexity : O(n) and Space Complexity :O(1)\n",
        "  pointer1 = ll.head\n",
        "  pointer2 = ll.head\n",
        "  for i in range(k):                        # O(n)\n",
        "    if pointer2 is None:\n",
        "      return None\n",
        "    pointer2 = pointer2.next\n",
        "  while pointer2:                         #O(n)\n",
        "    pointer1 = pointer1.next\n",
        "    pointer2 = pointer2.next\n",
        "  return pointer1\n",
        "\n",
        "\n",
        "kth = Linkedlist()\n",
        "kth.random_generate(15,20,100)\n",
        "print(kth)\n",
        "print(returnkthlast(3,kth))"
      ],
      "metadata": {
        "id": "mwB1krNQwi-a",
        "colab": {
          "base_uri": "https://localhost:8080/"
        },
        "outputId": "6a29cdad-fe77-4d54-a8f7-4499ef456c1d"
      },
      "execution_count": null,
      "outputs": [
        {
          "output_type": "stream",
          "name": "stdout",
          "text": [
            "98->96->76->62->73->23->35->72->31->55->94->74->20->54->78\n",
            "20\n"
          ]
        }
      ]
    },
    {
      "cell_type": "markdown",
      "source": [
        "###### Partition"
      ],
      "metadata": {
        "id": "pUbxuEEBt6ED"
      }
    },
    {
      "cell_type": "markdown",
      "source": [
        "Remove and append the node values greater than the \"x\" and else remain same"
      ],
      "metadata": {
        "id": "aC5BvVAXZl5W"
      }
    },
    {
      "cell_type": "code",
      "source": [
        "def Partition(ll,x):\n",
        "  firstdummy = Node()\n",
        "  seconddummy = Node()\n",
        "  first = firstdummy\n",
        "  second = seconddummy\n",
        "  node = ll.head\n",
        "  while node:                # Time complexity : O(n) and Space Comlexity :O(1)\n",
        "    if node.value < x:\n",
        "      first.next = node\n",
        "      first = node\n",
        "    else:\n",
        "      second.next = node\n",
        "      second = node\n",
        "    node = node.next\n",
        "  first.next = seconddummy.next\n",
        "  second.next = None\n",
        "\n",
        "  ll.head = firstdummy.next\n",
        "  ll.tail = second\n",
        "\n",
        "  return ll\n",
        "\n",
        "\n",
        "l = Linkedlist()\n",
        "l.random_generate(8,25,50)\n",
        "print(l)\n",
        "print(Partition(l,35))"
      ],
      "metadata": {
        "colab": {
          "base_uri": "https://localhost:8080/"
        },
        "id": "MknSCKvKt9YD",
        "outputId": "f0b2d71c-d159-4288-bee8-970f64d3efa9"
      },
      "execution_count": null,
      "outputs": [
        {
          "output_type": "stream",
          "name": "stdout",
          "text": [
            "44->49->46->40->29->41->43->44\n",
            "29->44->49->46->40->41->43->44\n"
          ]
        }
      ]
    },
    {
      "cell_type": "markdown",
      "source": [
        "###### Sum Linked list"
      ],
      "metadata": {
        "id": "ZSNrCCkghr3E"
      }
    },
    {
      "cell_type": "markdown",
      "source": [
        "Add the two linked list  as follows\n",
        "\n",
        "1. 7 -> 1 -> 6\n",
        "2. 5 -> 9 -> 2\n",
        "res = 617 + 295 = 912\n",
        "\n",
        "Ans : 2 -> 1 -> 9"
      ],
      "metadata": {
        "id": "LI59Qn-dZ2LF"
      }
    },
    {
      "cell_type": "code",
      "source": [
        "def sumlinkedlist(a,b):\n",
        "  node1 = a.head\n",
        "  node2 = b.head\n",
        "  carry =0\n",
        "  res = Linkedlist()\n",
        "  while node1 and node2: # Time Complexity: O(max(len(a,b))) = O(n) and Space Complexity: O(n) - created \"\"res\"\" linkedlist to append all the values to it\n",
        "    tempcar = carry\n",
        "    if node1:\n",
        "      tempcar += node1.value\n",
        "      node1 = node1.next\n",
        "    if node2:\n",
        "      tempcar += node2.value\n",
        "      node2 = node2.next\n",
        "    res.add(int(tempcar%10))\n",
        "    carry  = tempcar/10\n",
        "  if carry!=0:\n",
        "    res.add(int(carry))\n",
        "  return res\n",
        "\n",
        "\n",
        "sumone = Linkedlist()\n",
        "sumtwo = Linkedlist()\n",
        "sumtwo.random_generate(3,0,8)\n",
        "sumone.random_generate(3,1,9)\n",
        "print(sumone,sumtwo)\n",
        "print(sumlinkedlist(sumone,sumtwo))"
      ],
      "metadata": {
        "id": "xHXUWRlsh9Hv",
        "colab": {
          "base_uri": "https://localhost:8080/"
        },
        "outputId": "b81453aa-0e75-4214-cf21-942cc6dddf55"
      },
      "execution_count": null,
      "outputs": [
        {
          "output_type": "stream",
          "name": "stdout",
          "text": [
            "8->9->6 6->4->6\n",
            "4->4->3->1\n"
          ]
        }
      ]
    },
    {
      "cell_type": "markdown",
      "source": [
        "###### Intersection"
      ],
      "metadata": {
        "id": "aIPwlRMTZWjx"
      }
    },
    {
      "cell_type": "code",
      "source": [
        "print(\"Check whether the two linkedlist are intersected or not. To determine the intersection we see the reference not the values. As an Example given below,\\n\")\n",
        "\n",
        "print(\"Example -1: Intersecting Lines\")\n",
        "print(f\"\"\"\n",
        "3 -> 1 -> 5 -> 9 ->\n",
        "                   ↘\n",
        "                    7 -> 2 -> 1\n",
        "                   ↗\n",
        "     2 -> 4 -> 6 ->\"\"\")\n",
        "\n",
        "print(\"\\nExample -2: Non Intersecting lines\")\n",
        "print(f\"\"\"\n",
        "3 -> 1 -> 5 -> 9 -> 7 -> 2 -> 1\n",
        "\n",
        "     2 -> 4 -> 6 -> 7 -> 2 -> 1\"\"\")"
      ],
      "metadata": {
        "colab": {
          "base_uri": "https://localhost:8080/"
        },
        "id": "NgHThlUWZbaY",
        "outputId": "c7cd1532-101c-4e2f-bdad-ed1226d33c21"
      },
      "execution_count": null,
      "outputs": [
        {
          "output_type": "stream",
          "name": "stdout",
          "text": [
            "Check whether the two linkedlist are intersected or not. To determine the intersection we see the reference not the values. As an Example given below,\n",
            "\n",
            "Example -1: Intersecting Lines\n",
            "\n",
            "3 -> 1 -> 5 -> 9 ->\n",
            "                   ↘ \n",
            "                    7 -> 2 -> 1\n",
            "                   ↗ \n",
            "     2 -> 4 -> 6 ->\n",
            "\n",
            "Example -2: Non Intersecting lines\n",
            "\n",
            "3 -> 1 -> 5 -> 9 -> 7 -> 2 -> 1\n",
            "\n",
            "     2 -> 4 -> 6 -> 7 -> 2 -> 1\n"
          ]
        }
      ]
    },
    {
      "cell_type": "code",
      "source": [
        "def intersection(a,b):                # Time Complexity : O(a+b) and Space Complexity : O(1)\n",
        "  if a.tail is not b.tail:\n",
        "    return False\n",
        "\n",
        "  Alen = len(a)\n",
        "  Blen = len(b)\n",
        "\n",
        "  smaller = a if Alen < Blen else b\n",
        "  longer = b if Alen < Blen else a\n",
        "  diff = len(longer) - len(smaller)\n",
        "\n",
        "  longnode = longer.head\n",
        "  smallnode = smaller.head\n",
        "\n",
        "  for i in range(diff):\n",
        "    longnode = longnode.next\n",
        "\n",
        "  while smallnode is not longnode:\n",
        "    smallnode = smallnode.next\n",
        "    longnode = longnode.next\n",
        "\n",
        "  return longnode\n",
        "\n",
        "def helper(a,b,val):\n",
        "  temp = Node(val)\n",
        "  a.tail.next = temp\n",
        "  a.tail = temp\n",
        "  b.tail.next = temp\n",
        "  b.tail = temp\n",
        "\n",
        "\n",
        "k1 = Linkedlist()\n",
        "k1.add(3)\n",
        "k1.add(1)\n",
        "k1.add(5)\n",
        "k1.add(9)\n",
        "k2 = Linkedlist()\n",
        "k2.random_generate(3,0,9)\n",
        "#helper(k1,k2,7)\n",
        "helper(k1,k2,2)\n",
        "helper(k1,k2,1)\n",
        "print(intersection(k1,k2))"
      ],
      "metadata": {
        "id": "kSnaZsJSePQs",
        "colab": {
          "base_uri": "https://localhost:8080/"
        },
        "outputId": "3e581d54-cf1c-4c32-9c8c-7ae1f1a1b62c"
      },
      "execution_count": null,
      "outputs": [
        {
          "output_type": "stream",
          "name": "stdout",
          "text": [
            "2\n"
          ]
        }
      ]
    },
    {
      "cell_type": "markdown",
      "source": [
        "# Stack"
      ],
      "metadata": {
        "id": "thxYPDpemDhu"
      }
    },
    {
      "cell_type": "markdown",
      "source": [
        "##### Defination"
      ],
      "metadata": {
        "id": "Yca5oYQWE0Wl"
      }
    },
    {
      "cell_type": "markdown",
      "source": [
        "The stack ds store items in Last In / First Out manner.\n",
        "\n",
        "EX in real life: plates upon one another, books, bangles, etc.\n",
        " - Created using Python lists and Linked lists\n",
        " - Operations : Push, pop, peek, isEmpty, isFull\n",
        "\n",
        " - LIFO\n",
        "\n",
        " - Container like structure in which the item entered last will need to pick at the first.\n",
        "\n",
        "\n",
        " Why doe we need stack?\n",
        "\n",
        "Sol: In Cs stack is used when we utilize the last coming data structure.\n",
        "The classical example in stack is back button in the browser.\n",
        "\n",
        "Ex:\n",
        "\n",
        "                                                                      | udemy.com |\n",
        "                                                                      | gmail.com |\n",
        "      utube.com - colab.com - spiny.com - gmail.com - udemy.com  ---- | spiny.com |     ---- udemy.com - gmail.com - spinny.com - colab.com - utube.com\n",
        "                                                                      | colab.com |\n",
        "                                                                      | utube.com |"
      ],
      "metadata": {
        "id": "Yq-XWSfR6TKK"
      }
    },
    {
      "cell_type": "markdown",
      "source": [
        "##### Stack Operations\n",
        "\n",
        "- Create Stack : Need creates an empty list or empty linked list that means it creates an object of stack class.\n",
        "Ex: customStack() - class defined with empty list\n",
        "\n",
        "- Push : It means insert in the stack world. Keyword push is used to insert element.\n",
        "Ex: customStack.push(element)\n",
        "Everytime we push elements to stack the elements are added at the top of the stack.\n",
        "\n",
        "- Pop : It means remove an element from top of the stack as stack is a LIFO type.\n",
        "Ex: customStack.pop(element)\n",
        "When we use pop() operation it returns the top most element of the stack and removes the element from the stack.\n",
        "\n",
        "- Peek : Peek is similar to the stack pop but the only difference is that the top element is not removed from the stack it just return the top most element.\n",
        "\n",
        "- isEmpty : Used to check where the stack contains element or not. It used before performing any other stack operations as it returns \"True\" is the stack is empty otherwise returns \"False\".\n",
        "\n",
        "- isFull : In case of other programming languages the stack size will be declared at the start. We cannot perform operations once the stack is full. But the python lists are dynamic, then no need to use the method with stack of dynamic size. But if we want to create one with fixed limit, then it returns \"True\" if stack is full else \"False\".\n",
        "\n",
        "- delete() method : Used to delete the entire stack elements in one go.\n",
        "Ex: customStack.delete()"
      ],
      "metadata": {
        "id": "l2arh9zl--fB"
      }
    },
    {
      "cell_type": "markdown",
      "source": [
        "##### Implementation of Operations"
      ],
      "metadata": {
        "id": "-pjkU-UxWluH"
      }
    },
    {
      "cell_type": "markdown",
      "source": [
        "1. Stack Creation:\n",
        "It can be implemented using lists and linked lists.\n",
        "\n",
        "- Stack using List\n",
        "\n",
        " - Easy to implement\n",
        " - Speed problem when it grows\n",
        "\n",
        "- Stack using Linked List\n",
        "\n",
        " - Fast Performace\n",
        " - Implementation is not easy"
      ],
      "metadata": {
        "id": "4oZFfsgqnJ_8"
      }
    },
    {
      "cell_type": "code",
      "source": [
        "# implementation of stack\n",
        "class stack:\n",
        "  def __init__(self):\n",
        "    self.list = []\n",
        "\n",
        "  def __str__(self):\n",
        "    values = [str(x) for x in self.list.reverse()]\n",
        "    return \"\\n \".join(values)"
      ],
      "metadata": {
        "id": "aap8DpNlEyYM"
      },
      "execution_count": null,
      "outputs": []
    },
    {
      "cell_type": "code",
      "source": [
        "#Operations on stack\n",
        "class stack:\n",
        "  def __init__(self):\n",
        "    self.list = []\n",
        "\n",
        "  def __str__(self):\n",
        "    values = [str(x) for x in self.list.reverse()]\n",
        "    return \"\\n \".join(values)\n",
        "\n",
        "  def isEmpty(self):\n",
        "    if self.list == []:\n",
        "      return True\n",
        "    else:\n",
        "      False\n",
        "\n"
      ],
      "metadata": {
        "id": "U7o4DTb9dYo3"
      },
      "execution_count": null,
      "outputs": []
    },
    {
      "cell_type": "markdown",
      "metadata": {
        "id": "1yAcOfPjFtuJ"
      },
      "source": [
        "#*OBJECT ORIENTED PROGRAMMING IN PYTHON*"
      ]
    },
    {
      "cell_type": "markdown",
      "metadata": {
        "id": "YaSQ3YJFGGGZ"
      },
      "source": [
        "1. Instances and classes\n",
        "Class is the collection of objects. Prototype by which the obect is created, contains attributes and methods.\n",
        "\n",
        "2. Attributes and Methods\n",
        " Attributes are variables that belongs to class\n",
        "\n",
        " Method: A function that associated with the class.\n",
        "\n",
        " objects are instances of the classes and class is a blueprint for creating instances. Instance variables contains data, that is unique to each instance.\n",
        "    *  State: represented by attributes and reflect prperties.\n",
        "    *  Behaviour: Represented by methods, reflect response of object on other objects.\n",
        "    *  Identity: Gives an unique name and enables to interact."
      ]
    },
    {
      "cell_type": "code",
      "execution_count": null,
      "metadata": {
        "colab": {
          "base_uri": "https://localhost:8080/"
        },
        "id": "aV188lLXGFTd",
        "outputId": "770efc3e-237c-44a0-bb22-1da9ec74745e"
      },
      "outputs": [
        {
          "output_type": "stream",
          "name": "stdout",
          "text": [
            "<__main__.Employee object at 0x7f05b3b5d250>\n"
          ]
        }
      ],
      "source": [
        "class Employee:\n",
        "  def __init__(self, employer_name):\n",
        "    self.employer_name = employer_name\n",
        "\n",
        "emp_1 = Employee('Hello')\n",
        "emp_2 = Employee(1)\n",
        "\n",
        "\n",
        "print(emp_2)"
      ]
    },
    {
      "cell_type": "markdown",
      "source": [
        "* There are four pillars of Object Oriented Programming\n",
        "\n",
        "\n",
        "1.   Inheritance\n",
        "2.   Polimorphism\n",
        "3.   Encapsulation\n",
        "4.   Abstraction\n",
        "\n"
      ],
      "metadata": {
        "id": "MX-mMRpBRFGl"
      }
    },
    {
      "cell_type": "markdown",
      "source": [
        "#####Inheritance\n"
      ],
      "metadata": {
        "id": "ngEYqDalR1kr"
      }
    },
    {
      "cell_type": "markdown",
      "metadata": {
        "id": "NFj-qYv5zI6c"
      },
      "source": [
        "#Other MISC"
      ]
    },
    {
      "cell_type": "code",
      "execution_count": null,
      "metadata": {
        "colab": {
          "base_uri": "https://localhost:8080/"
        },
        "id": "fDpKaKjRR-Co",
        "outputId": "882a4fb5-6f15-496c-ea61-17c35ed774f3"
      },
      "outputs": [
        {
          "name": "stdout",
          "output_type": "stream",
          "text": [
            "['I', 'am', 'Rishikesh']\n"
          ]
        }
      ],
      "source": [
        "#python pickling\n",
        "List =['I','am','Rishikesh']\n",
        "print(List)\n",
        "import pickle\n",
        "pickle.dump(List,open(\"save.p\",'wb'))"
      ]
    },
    {
      "cell_type": "code",
      "execution_count": null,
      "metadata": {
        "colab": {
          "base_uri": "https://localhost:8080/"
        },
        "id": "leNazD4sTGfg",
        "outputId": "32667f21-74f7-4e6a-9fc6-03dab09d87c0"
      },
      "outputs": [
        {
          "name": "stdout",
          "output_type": "stream",
          "text": [
            "['I', 'am', 'Rishikesh']\n"
          ]
        }
      ],
      "source": [
        "kesa = pickle.load(open(\"save.p\",\"rb\"))\n",
        "print(kesa)"
      ]
    },
    {
      "cell_type": "code",
      "execution_count": null,
      "metadata": {
        "id": "rw9nLubsT_Vl"
      },
      "outputs": [],
      "source": [
        "class risi:\n",
        "  def statement(self):\n",
        "    return \"Rishikesh\""
      ]
    },
    {
      "cell_type": "code",
      "source": [],
      "metadata": {
        "id": "W5YfcYhrTTRf"
      },
      "execution_count": null,
      "outputs": []
    },
    {
      "cell_type": "code",
      "execution_count": null,
      "metadata": {
        "colab": {
          "base_uri": "https://localhost:8080/"
        },
        "id": "u6TjS4FNx-7e",
        "outputId": "183378d0-197f-4ef1-c98f-b79b59499f30"
      },
      "outputs": [
        {
          "name": "stdout",
          "output_type": "stream",
          "text": [
            "[1, 2, 3]\n",
            "[1, 2, 4]\n",
            "[1, 2, 4, 4]\n",
            "[4, 4]\n",
            "array('i', [9, 8, 7, 6, 1, 2, 4, 4])\n",
            "[[1 2 3 4]\n",
            " [2 3 4 5]\n",
            " [3 4 5 6]]\n",
            "[[1 2 3 6]\n",
            " [1 2 3 4]\n",
            " [2 3 4 5]\n",
            " [3 4 5 6]]\n",
            "[[1 2 4]\n",
            " [2 3 5]\n",
            " [3 4 6]]\n"
          ]
        }
      ],
      "source": [
        "from array import *\n",
        "arr1 = [1,2,3]\n",
        "arr2 = array('i', [9,8,7,6])\n",
        "print(arr1)\n",
        "arr1.pop()\n",
        "arr1.insert(2,4)\n",
        "print(arr1)\n",
        "arr1.append(4)\n",
        "print(arr1)\n",
        "arr2.extend(arr1)\n",
        "arr1.remove(2)\n",
        "del arr1[0]\n",
        "print(arr1)\n",
        "print(arr2)\n",
        "\n",
        "import numpy as np\n",
        "array1 = np.array([[1,2,3,4],\n",
        "                [2,3,4,5],[3,4,5,6]])\n",
        "\n",
        "column = np.insert(array1,0,[1,2,3,6],axis =0)\n",
        "print(array1)\n",
        "print(column)\n",
        "row = np.delete(array1,2,axis =1)\n",
        "print(row)"
      ]
    },
    {
      "cell_type": "code",
      "execution_count": null,
      "metadata": {
        "colab": {
          "base_uri": "https://localhost:8080/"
        },
        "id": "lYiSaIHQ-RKG",
        "outputId": "60910f76-efe3-485c-b0df-1f9d37d96664"
      },
      "outputs": [
        {
          "data": {
            "text/plain": [
              "{1: 'h', 2: 'a'}"
            ]
          },
          "execution_count": 45,
          "metadata": {},
          "output_type": "execute_result"
        }
      ],
      "source": [
        "def fun(string):\n",
        "  count =0\n",
        "  list={}\n",
        "  for i in range(0,len(string)):\n",
        "    for j in range(i+1,len(string)):\n",
        "        if string[i] ==string[j]:\n",
        "              count+=1\n",
        "              list[i]=string[i]\n",
        "\n",
        "  return list\n",
        "\n",
        "fun('bharath')"
      ]
    },
    {
      "cell_type": "code",
      "execution_count": null,
      "metadata": {
        "colab": {
          "base_uri": "https://localhost:8080/"
        },
        "id": "BjupUHoigKV6",
        "outputId": "9e9b6359-44bb-4b8c-9941-d5dc4df4d804"
      },
      "outputs": [
        {
          "name": "stdout",
          "output_type": "stream",
          "text": [
            "array('i', [1, 0, 1, 0, 1, 0, 2, 1, 0, 0])\n"
          ]
        }
      ],
      "source": [
        "from array import *\n",
        "a = array('i',[1,0,1,0,1,0,2,1,0,0])\n",
        "def sort_array(array):\n",
        "  for i in range(len(array)-1):\n",
        "    temp =array[i+1]\n",
        "    if array[i+1] < temp:\n",
        "          temp = array[i]\n",
        "          array[i] =array[i+1]\n",
        "          array[i+1] = temp\n",
        "  return array\n",
        "print(sort_array(a))\n"
      ]
    },
    {
      "cell_type": "code",
      "execution_count": null,
      "metadata": {
        "colab": {
          "base_uri": "https://localhost:8080/"
        },
        "id": "mtkQYmI1Yhwn",
        "outputId": "a7e14a40-d417-4fdd-8d4e-7d0156fdecb3"
      },
      "outputs": [
        {
          "name": "stdout",
          "output_type": "stream",
          "text": [
            "FInd mean with use of operations\n",
            "Enter the number :1\n",
            "Enter the number :2\n",
            "Enter the number :3\n",
            "Enter the number :4\n",
            "Enter the number :5\n",
            "Enter the number :9\n",
            "Enter the number :8\n",
            "Enter the number :7\n",
            "Enter the number :1\n",
            "Enter the number :9\n",
            "Enter the number :2\n",
            "Enter the number :8\n",
            "Enter the number :7\n",
            "Enter the number :3\n",
            "Enter the number :4\n",
            "Enter the number :6\n",
            "Enter the number :6\n",
            "Enter the number :Enough\n",
            "5.0 17\n"
          ]
        }
      ],
      "source": [
        "\n",
        "print(\"FInd mean with use of operations\")\n",
        "list =[]\n",
        "count = 0\n",
        "while True:\n",
        "  inp = input(\"Enter the number :\" )\n",
        "  if inp == 'Enough': break\n",
        "  value = int(inp)\n",
        "  list.append(value)\n",
        "  count+=1\n",
        "  avg = sum(list)/len(list)\n",
        "print(avg,count)"
      ]
    },
    {
      "cell_type": "code",
      "source": [
        "arr = [1, 2, 3, 4, 5, 6]\n",
        "for i in range(1, 6):\n",
        "    arr[i - 1] = arr[i]\n",
        "for i in range(0, 6):\n",
        "    print(arr[i], end = \" \")"
      ],
      "metadata": {
        "colab": {
          "base_uri": "https://localhost:8080/"
        },
        "id": "iZH8chY3dTmo",
        "outputId": "503b9e1a-e5ad-4aff-fa67-f5bdf3bb2736"
      },
      "execution_count": null,
      "outputs": [
        {
          "output_type": "stream",
          "name": "stdout",
          "text": [
            "2 3 4 5 6 6 "
          ]
        }
      ]
    },
    {
      "cell_type": "code",
      "source": [
        "arr = [[1, 2, 3, 4],\n",
        "       [4, 5, 6, 7],\n",
        "       [8, 9, 10, 11],\n",
        "       [12, 13, 14, 15]]\n",
        "for i in range(0, 4):\n",
        "    print(arr[i].pop())"
      ],
      "metadata": {
        "colab": {
          "base_uri": "https://localhost:8080/"
        },
        "id": "dE30LNTAdVXP",
        "outputId": "757ebcfc-27b9-4e36-9c25-1b782bc2cc01"
      },
      "execution_count": null,
      "outputs": [
        {
          "output_type": "stream",
          "name": "stdout",
          "text": [
            "4\n",
            "7\n",
            "11\n",
            "15\n"
          ]
        }
      ]
    },
    {
      "cell_type": "code",
      "source": [
        "a=[1,2,3,4,5,6,7,8,9]\n",
        "a[::2]=10,20,30,40,50\n",
        "print(a)"
      ],
      "metadata": {
        "colab": {
          "base_uri": "https://localhost:8080/"
        },
        "id": "tgWzt7j_dyrN",
        "outputId": "b213f619-b578-4c20-8040-3df18e5992c0"
      },
      "execution_count": null,
      "outputs": [
        {
          "output_type": "stream",
          "name": "stdout",
          "text": [
            "[10, 2, 20, 4, 30, 6, 40, 8, 50]\n"
          ]
        }
      ]
    },
    {
      "cell_type": "code",
      "source": [
        "a=[1,2,3,4,5,6,7,8,9]\n",
        "print(a[::2])"
      ],
      "metadata": {
        "colab": {
          "base_uri": "https://localhost:8080/"
        },
        "id": "OeqM6HBBeKEi",
        "outputId": "bad97dd3-c0f0-4229-e010-8414d6fda5f2"
      },
      "execution_count": null,
      "outputs": [
        {
          "output_type": "stream",
          "name": "stdout",
          "text": [
            "[1, 3, 5, 7, 9]\n"
          ]
        }
      ]
    },
    {
      "cell_type": "code",
      "source": [
        "data = [[[1, 2], [3, 4]], [[5, 6], [7, 8]]]\n",
        "def fun(m):\n",
        "    v = m[0][0]\n",
        "\n",
        "    for row in m:\n",
        "        for element in row:\n",
        "            if v < element: v = element\n",
        "\n",
        "    return v\n",
        "print(fun(data[0]))\n"
      ],
      "metadata": {
        "colab": {
          "base_uri": "https://localhost:8080/"
        },
        "id": "O_mxR1Whec-1",
        "outputId": "3f143f69-756f-4410-80b5-1ba5654091b8"
      },
      "execution_count": null,
      "outputs": [
        {
          "output_type": "stream",
          "name": "stdout",
          "text": [
            "4\n"
          ]
        }
      ]
    },
    {
      "cell_type": "code",
      "source": [
        "def f(value, values):\n",
        "    v = 1\n",
        "    values[0] = 44\n",
        "t = 3\n",
        "v = [1, 2, 3]\n",
        "f(t, v)\n",
        "print(t, v[0])"
      ],
      "metadata": {
        "colab": {
          "base_uri": "https://localhost:8080/"
        },
        "id": "aSulphNbej4U",
        "outputId": "97de7651-8459-44a9-9b7d-d3e22f29a17e"
      },
      "execution_count": null,
      "outputs": [
        {
          "output_type": "stream",
          "name": "stdout",
          "text": [
            "3 44\n"
          ]
        }
      ]
    },
    {
      "cell_type": "code",
      "source": [
        "fruit_list1 = ['Apple', 'Berry', 'Cherry', 'Papaya']\n",
        "fruit_list2 = fruit_list1\n",
        "fruit_list3 = fruit_list1[:]\n",
        "fruit_list2[0] = 'Guava'\n",
        "fruit_list3[1] = 'Kiwi'\n",
        "\n",
        "sum = 0\n",
        "for ls in (fruit_list1, fruit_list2, fruit_list3):\n",
        "    if ls[0] == 'Guava':\n",
        "        sum += 1\n",
        "    if ls[1] == 'Kiwi':\n",
        "        sum += 20\n",
        "\n",
        "print(sum)"
      ],
      "metadata": {
        "colab": {
          "base_uri": "https://localhost:8080/"
        },
        "id": "tswdgW6qfDGV",
        "outputId": "2cfc3bb9-8042-4304-b372-337db41944c1"
      },
      "execution_count": null,
      "outputs": [
        {
          "output_type": "stream",
          "name": "stdout",
          "text": [
            "22\n"
          ]
        }
      ]
    },
    {
      "cell_type": "code",
      "source": [
        "a=[1,2,3,4,5]\n",
        "print(a[3:0:-1])\n"
      ],
      "metadata": {
        "colab": {
          "base_uri": "https://localhost:8080/"
        },
        "id": "GMftHmPRf2Rv",
        "outputId": "1c1c931d-b56f-49a5-a289-84e2ab2e380a"
      },
      "execution_count": null,
      "outputs": [
        {
          "output_type": "stream",
          "name": "stdout",
          "text": [
            "[4, 3, 2]\n"
          ]
        }
      ]
    },
    {
      "cell_type": "code",
      "source": [
        "s = \"Hi I am Rishikesh and I came here\" # Reverse the string without changing the words\n",
        "print(s)\n",
        "s = s.split()\n",
        "print(s)\n",
        "s = s[::-1]\n",
        "print(s)\n",
        "s = \" \".join(s)\n",
        "print(s)"
      ],
      "metadata": {
        "id": "m5IeDnoPgMtb",
        "colab": {
          "base_uri": "https://localhost:8080/"
        },
        "outputId": "b8319183-4e58-4d3a-9dcd-36caf5205f8e"
      },
      "execution_count": null,
      "outputs": [
        {
          "output_type": "stream",
          "name": "stdout",
          "text": [
            "Hi I am Rishikesh and I came here\n",
            "['Hi', 'I', 'am', 'Rishikesh', 'and', 'I', 'came', 'here']\n",
            "['here', 'came', 'I', 'and', 'Rishikesh', 'am', 'I', 'Hi']\n",
            "here came I and Rishikesh am I Hi\n"
          ]
        }
      ]
    },
    {
      "cell_type": "code",
      "source": [
        "s = \"I Hate you\"\n",
        "print(s)\n",
        "s = s.split()\n",
        "print(s)\n",
        "s = s[::-1]\n",
        "print(s)"
      ],
      "metadata": {
        "colab": {
          "base_uri": "https://localhost:8080/"
        },
        "id": "noUS5sXKOyiC",
        "outputId": "d44d16d2-1132-4b0c-858e-544b027592e7"
      },
      "execution_count": null,
      "outputs": [
        {
          "output_type": "stream",
          "name": "stdout",
          "text": [
            "I Hate you\n",
            "I Hate you\n",
            "uoy etaH I\n"
          ]
        }
      ]
    },
    {
      "cell_type": "code",
      "source": [
        "class Linked:\n",
        "  def __init__(self, dataval= None):\n",
        "    self.dataval = dataval\n",
        "    self.nextval = None\n",
        "\n",
        "class node:\n",
        "  def __init__(self):\n",
        "    self.headval = None\n",
        "\n",
        "  def printNode(self):\n",
        "    printnode = self.headval\n",
        "    while printnode is not None:\n",
        "      print(printnode.dataval)\n",
        "      printnode = printnode.nextval\n",
        "\n",
        "  def InsertNode(self,Newdata):\n",
        "    NewNode = node(Newdata)\n",
        "\n",
        "  NewNode.\n",
        "\n",
        "\n",
        "\n",
        "\n",
        "node1 = node()\n",
        "node1.headval = Linked('Hii')\n",
        "n2 = Linked('I am')\n",
        "n3 = Linked('Rishikesh')\n",
        "\n",
        "node1.headval.nextval = n2\n",
        "n2.nextval = n3\n",
        "node1.printNode()"
      ],
      "metadata": {
        "id": "RsFU92A-tL7B",
        "colab": {
          "base_uri": "https://localhost:8080/"
        },
        "outputId": "c8e269ef-3004-4d53-c4a0-32afef81f859"
      },
      "execution_count": null,
      "outputs": [
        {
          "output_type": "stream",
          "name": "stdout",
          "text": [
            "Hii\n",
            "I am\n",
            "Rishikesh\n"
          ]
        }
      ]
    },
    {
      "cell_type": "code",
      "source": [
        "# Two Sum Leetcode\n",
        "array = [1,2,3,4,5,7,4,10]\n",
        "def find_pairs(arr, target):\n",
        "  for i in range(len(arr)):\n",
        "    for j in range(i+1, len(arr)):\n",
        "      if arr[i] == arr[j]:\n",
        "        continue\n",
        "      elif arr[i] + arr[j] == target:\n",
        "        return i+1,j+1\n",
        "print(find_pairs(array,7))\n",
        "\n",
        "\n",
        "\n",
        "\n",
        "\n"
      ],
      "metadata": {
        "id": "mwgxd1PEspQ9",
        "colab": {
          "base_uri": "https://localhost:8080/"
        },
        "outputId": "d72091c8-2385-4a24-b12a-9fd0d6af6e5d"
      },
      "execution_count": null,
      "outputs": [
        {
          "output_type": "stream",
          "name": "stdout",
          "text": [
            "(2, 5)\n"
          ]
        }
      ]
    },
    {
      "cell_type": "code",
      "source": [
        "l = [1,2,3,4,5,7,8,9,10]\n",
        "def miss(l,n):\n",
        "  m =  n*(n+1)/2 - sum(l)\n",
        "  return m\n",
        "print(miss(l,10))"
      ],
      "metadata": {
        "id": "sVqR7bc0SNll",
        "colab": {
          "base_uri": "https://localhost:8080/"
        },
        "outputId": "8e1bbcd2-9e1b-4771-95e0-9706a5f38d3f"
      },
      "execution_count": null,
      "outputs": [
        {
          "output_type": "stream",
          "name": "stdout",
          "text": [
            "6.0\n"
          ]
        }
      ]
    },
    {
      "cell_type": "code",
      "source": [
        "m = [3,7]\n",
        "n = [9,2]\n",
        "def fun(num1,num2):\n",
        "  for i in range(max(len(num1),len(num2))):\n",
        "    m=[]\n",
        "    x = num1[i]+num2[i]\n",
        "    y = x%10\n",
        "    carry =0\n",
        "    if i == max(len(num1),len(num2))-1 and y+carry>=10:\n",
        "      m.append(y)\n",
        "      carry = int((x-y)/10)\n",
        "    else:\n",
        "       m.append(y+carry)\n",
        "       carry = int((x-y)/10)\n",
        "  return m\n",
        "\n",
        "print(fun(m,n))"
      ],
      "metadata": {
        "colab": {
          "base_uri": "https://localhost:8080/"
        },
        "id": "dkx18Yd5Gav-",
        "outputId": "0b546a31-dec9-44ef-d888-633ba56ba1c8"
      },
      "execution_count": null,
      "outputs": [
        {
          "output_type": "stream",
          "name": "stdout",
          "text": [
            "[9]\n"
          ]
        }
      ]
    },
    {
      "cell_type": "code",
      "source": [
        "# __Str__ Method\n",
        "class Employee:\n",
        "  def __init__(self,employee_name, Emp_ID):\n",
        "    self.employee_name= employee_name\n",
        "    self.Emp_ID= Emp_ID\n",
        "  def __str__(self):\n",
        "    print(\"The Str method is executed\")\n",
        "    return f\"{self.employee_name}\"\n",
        "o = Employee('Hari',101)\n",
        "print(str(o))"
      ],
      "metadata": {
        "id": "_1S5AqE4tpV7",
        "colab": {
          "base_uri": "https://localhost:8080/"
        },
        "outputId": "d0b9aba9-cdc3-4fb2-a6d0-096e8511b234"
      },
      "execution_count": null,
      "outputs": [
        {
          "output_type": "stream",
          "name": "stdout",
          "text": [
            "The Str method is executed\n",
            "Hari\n"
          ]
        }
      ]
    },
    {
      "cell_type": "code",
      "source": [
        "import operator\n",
        "from functools import reduce\n",
        "import time\n",
        "import math\n",
        "\n",
        "tup = (3,2,1,4,2)\n",
        "s  = time.time()\n",
        "print(reduce(operator.add, tup))\n",
        "e  = time.time()\n",
        "\n",
        "start  = time.time()\n",
        "print(sum(tup))\n",
        "end  = time.time()\n",
        "\n",
        "st  = time.time()\n",
        "print(math.fsum(tup))\n",
        "ed = time.time()\n",
        "\n",
        "print(e-s, end-start, ed-st)"
      ],
      "metadata": {
        "id": "RjrcffgEny6W",
        "colab": {
          "base_uri": "https://localhost:8080/"
        },
        "outputId": "32925cbc-6396-4ef2-9448-93832677d3f4"
      },
      "execution_count": null,
      "outputs": [
        {
          "output_type": "stream",
          "name": "stdout",
          "text": [
            "12\n",
            "12\n",
            "12.0\n",
            "0.0008521080017089844 0.00011515617370605469 0.00012421607971191406\n"
          ]
        }
      ]
    },
    {
      "cell_type": "code",
      "source": [],
      "metadata": {
        "id": "_0ZtSknwTru0"
      },
      "execution_count": null,
      "outputs": []
    }
  ],
  "metadata": {
    "colab": {
      "collapsed_sections": [
        "ZKB3KQuCweM_",
        "3MGYr7H5z8wr",
        "Nxfoah6t6Gi7",
        "_GV3abV3x9Vc",
        "JU0Kifq2HgE0",
        "cMiVHlyYHa-B",
        "SSHsGBQMkGZn",
        "TBt0TkMVXYCR",
        "cx0hsS0zHtfa",
        "2Lt4E_fRshmA",
        "num0nVHb2LjY",
        "jMre3BjdsDtD",
        "IUnmLFSZptui",
        "NvxHn85vBr_2",
        "rmivas7WFq2q",
        "MrDoBOG4693I",
        "cH2NAp4VIaZs",
        "SifdNjyGykzM",
        "1J38Asdcz6cu",
        "eW73WtbV1oba",
        "dRzj4cN76fCf",
        "C3Fr__76Gdup",
        "V6HYCpbOdiSi",
        "I76DoOXFip36",
        "JYx0fdcJvZh_",
        "SpP8uippzQwE",
        "JEeQeGGj0dZs",
        "UGEscUARJS15",
        "rj4s3s06f6k7",
        "y8b_Da3JuOnq",
        "zbMYWeOhpKmG",
        "FBAZ1RzGnyXy",
        "ALhC5ZY074vi",
        "HnQwELj_A4I3"
      ],
      "provenance": [],
      "toc_visible": true,
      "authorship_tag": "ABX9TyMRCC+pI5t5D/pfcAzuGxkI",
      "include_colab_link": true
    },
    "kernelspec": {
      "display_name": "Python 3",
      "name": "python3"
    },
    "language_info": {
      "name": "python"
    },
    "gpuClass": "standard"
  },
  "nbformat": 4,
  "nbformat_minor": 0
}