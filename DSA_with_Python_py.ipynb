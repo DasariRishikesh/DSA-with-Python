{
  "cells": [
    {
      "cell_type": "markdown",
      "metadata": {
        "id": "view-in-github",
        "colab_type": "text"
      },
      "source": [
        "<a href=\"https://colab.research.google.com/github/DasariRishikesh/DSA-with-Python/blob/main/DSA_with_Python_py.ipynb\" target=\"_parent\"><img src=\"https://colab.research.google.com/assets/colab-badge.svg\" alt=\"Open In Colab\"/></a>"
      ]
    },
    {
      "cell_type": "markdown",
      "metadata": {
        "id": "ZKB3KQuCweM_"
      },
      "source": [
        "##DATA STRUCTURES AND ALGORITHMS USING PYTHON PROGRAMMING LANGUAGE "
      ]
    },
    {
      "cell_type": "markdown",
      "metadata": {
        "id": "AWy6h1mEpL84"
      },
      "source": [
        "#1.Recursion problems\n",
        "\n",
        "\n",
        "Step-1 : Recursive case - the flow\n",
        "\n",
        "Step-2 : Base Case - the stopping criterion\n",
        "\n",
        "Step-3 : The unconditional case - the constraint"
      ]
    },
    {
      "cell_type": "markdown",
      "metadata": {
        "id": "Szi77gKWprI_"
      },
      "source": [
        "a. How to find a sum of digits of a positive integer number using recursion"
      ]
    },
    {
      "cell_type": "markdown",
      "metadata": {
        "id": "xlCn7raBstr8"
      },
      "source": [
        "sol : f(n) =  n%10 + f(n/10)"
      ]
    },
    {
      "cell_type": "code",
      "execution_count": null,
      "metadata": {
        "colab": {
          "base_uri": "https://localhost:8080/"
        },
        "id": "KDMhqTi2pEiw",
        "outputId": "bc941dd3-fadf-4010-ab4e-f56a360c3826"
      },
      "outputs": [
        {
          "data": {
            "text/plain": [
              "19"
            ]
          },
          "execution_count": 10,
          "metadata": {},
          "output_type": "execute_result"
        }
      ],
      "source": [
        "def sumofdig(n):\n",
        "  assert n>=0 and int(n) == n,'The number must be positive integer'\n",
        "  if n==0:          #the base condition\n",
        "    return 0\n",
        "  else: \n",
        "    return int(n%10) + sumofdig(int(n/10))      #the recursive case\n",
        "\n",
        "sumofdig(4920202)"
      ]
    },
    {
      "cell_type": "markdown",
      "metadata": {
        "id": "7abULvgMpKBM"
      },
      "source": [
        "b. How to calculate power of number using recursion?"
      ]
    },
    {
      "cell_type": "markdown",
      "metadata": {
        "id": "NzHZz0UiwrxW"
      },
      "source": [
        "sol: f(X^n) = x * f(x^n-1)\n",
        "if n<0 then f(X^n) = x * f(x^n+1)"
      ]
    },
    {
      "cell_type": "code",
      "execution_count": null,
      "metadata": {
        "colab": {
          "base_uri": "https://localhost:8080/"
        },
        "id": "rM3s86Sixm7K",
        "outputId": "bfe5b750-d6b2-4daf-ac86-69a5521e57fc"
      },
      "outputs": [
        {
          "data": {
            "text/plain": [
              "0.1111111111111111"
            ]
          },
          "execution_count": 29,
          "metadata": {},
          "output_type": "execute_result"
        }
      ],
      "source": [
        "def powerofnum(base, pow):\n",
        "  assert int(pow) == pow, 'The power(exponent) should be posive and integer'\n",
        "  if pow==0:\n",
        "    return 1\n",
        "  elif pow<0:\n",
        "    return 1/base * powerofnum(base, pow+1)\n",
        "  else:\n",
        "    return base*powerofnum(base, pow-1)\n",
        "\n",
        "powerofnum(3,-2)\n"
      ]
    },
    {
      "cell_type": "markdown",
      "metadata": {
        "id": "WzJTE07DzPIy"
      },
      "source": [
        "c. Find the greatest common divisor(GCD) of two numbers using recursion."
      ]
    },
    {
      "cell_type": "markdown",
      "metadata": {
        "id": "TNXNSjMF2td-"
      },
      "source": [
        "sol: euclidean algorithm\n",
        "    gcd(a,b) = a/b => qoefficient= x and remainder = y\n",
        "    then again b/y until y==0\n",
        "    Therefore, gcd(a,b) return gcd(b, a mod b)"
      ]
    },
    {
      "cell_type": "code",
      "execution_count": null,
      "metadata": {
        "colab": {
          "base_uri": "https://localhost:8080/"
        },
        "id": "CYg438po4Tp9",
        "outputId": "db994b41-32cf-47ac-e908-4d07fbd24edf"
      },
      "outputs": [
        {
          "data": {
            "text/plain": [
              "4"
            ]
          },
          "execution_count": 35,
          "metadata": {},
          "output_type": "execute_result"
        }
      ],
      "source": [
        "def gcd(a,b):\n",
        "  assert int(a) == a and int(b)==b, 'The number must be posive integers'\n",
        "  if a<0:\n",
        "    a=-a\n",
        "  if b<0:\n",
        "    b=-b\n",
        "  if b==0:\n",
        "    return a\n",
        "  else:\n",
        "    return gcd(b, a%b)\n",
        "\n",
        "gcd(-12,-8)\n"
      ]
    },
    {
      "cell_type": "markdown",
      "metadata": {
        "id": "mWo7To8F4ULb"
      },
      "source": [
        "d. How to convert a number from decimal to binary using recursion?"
      ]
    },
    {
      "cell_type": "markdown",
      "metadata": {
        "id": "x6s5uzG57tHe"
      },
      "source": [
        "sol: f(n) = n mod 2 + 10 * f(n/2)"
      ]
    },
    {
      "cell_type": "code",
      "execution_count": null,
      "metadata": {
        "colab": {
          "base_uri": "https://localhost:8080/"
        },
        "id": "OypmKzC57ptz",
        "outputId": "58ddc7e9-836b-4db9-f326-de9f88557ec8"
      },
      "outputs": [
        {
          "data": {
            "text/plain": [
              "1100101"
            ]
          },
          "execution_count": 53,
          "metadata": {},
          "output_type": "execute_result"
        }
      ],
      "source": [
        "def dectobin(n):\n",
        "  assert int(n) == n, 'the number must be integer'\n",
        "  if n/2 == 0:\n",
        "    return 0\n",
        "  else:\n",
        "    return n%2 + 10 * dectobin(int(n/2))\n",
        "\n",
        "dectobin(101)"
      ]
    },
    {
      "cell_type": "markdown",
      "metadata": {
        "id": "VC8sHvtZ7qTp"
      },
      "source": [
        "##### Additional problems"
      ]
    },
    {
      "cell_type": "code",
      "execution_count": null,
      "metadata": {
        "colab": {
          "base_uri": "https://localhost:8080/"
        },
        "id": "ohp1jRM6M0RX",
        "outputId": "55fbf27a-6519-4010-ec19-bcc8b4cfc2ca"
      },
      "outputs": [
        {
          "name": "stdout",
          "output_type": "stream",
          "text": [
            "Power Solution\n",
            "1\n",
            "4\n",
            "16\n",
            "-----------------------------------------------------------------------------------\n",
            "Factorial Solution\n",
            "1\n",
            "2\n",
            "24\n",
            "5040\n",
            "-----------------------------------------------------------------------------------\n",
            "productOfArray Solution\n",
            "6\n",
            "60\n",
            "-----------------------------------------------------------------------------------\n",
            "recursiveRange Solution\n",
            "21\n",
            "-----------------------------------------------------------------------------------\n",
            "fib Solution\n",
            "3\n",
            "55\n",
            "317811\n",
            "9227465\n",
            "-----------------------------------------------------------------------------------\n",
            "reverse Solution\n",
            "nohtyp\n",
            "srellimppa\n",
            "-----------------------------------------------------------------------------------\n",
            "isPalindrome Solution\n",
            "False\n",
            "False\n",
            "True\n",
            "True\n",
            "False\n",
            "-----------------------------------------------------------------------------------\n",
            "someRecursive Solution\n",
            "True\n",
            "True\n",
            "False\n",
            "-----------------------------------------------------------------------------------\n",
            "flatten Solution\n",
            "[1, 2, 3, 4, 5]\n",
            "[1, 2, 3, 4, 5]\n",
            "[1, 2, 3]\n",
            "[1, 2, 3]\n",
            "-----------------------------------------------------------------------------------\n",
            "capitalizeFirst Solution\n",
            "['Car', 'Taco', 'Banana']\n",
            "-----------------------------------------------------------------------------------\n",
            "nestedEvenSum Solution\n",
            "6\n",
            "10\n",
            "-----------------------------------------------------------------------------------\n",
            "capitalizeWords Solution\n",
            "['I', 'AM', 'LEARNING', 'RECURSION']\n",
            "-----------------------------------------------------------------------------------\n",
            "stringifyNumbers Solution\n",
            "{'num': '1', 'test': [], 'data': {'val': '4', 'info': {'isRight': True, 'random': '66'}}}\n",
            "-----------------------------------------------------------------------------------\n",
            "collectStrings Solution\n",
            "['foo', 'bar', 'baz']\n",
            "-----------------------------------------------------------------------------------\n"
          ]
        }
      ],
      "source": [
        "print('Power Solution')\n",
        "\n",
        "\n",
        "def power(base, exponent):\n",
        "    if exponent == 0:\n",
        "        return 1\n",
        "    return base * power(base, exponent-1)\n",
        "\n",
        "print(power(2,0)) # 1\n",
        "print(power(2,2)) # 4\n",
        "print(power(2,4)) # 16\n",
        "\n",
        "print(\"-----------------------------------------------------------------------------------\")\n",
        "print('Factorial Solution')\n",
        "\n",
        "def factorial(num):\n",
        "    if num <= 1:\n",
        "        return 1\n",
        "    return num * factorial(num-1)\n",
        "\n",
        "\n",
        "print(factorial(1)) # 1\n",
        "print(factorial(2)) # 2\n",
        "print(factorial(4)) # 24\n",
        "print(factorial(7)) # 5040\n",
        "print(\"-----------------------------------------------------------------------------------\")\n",
        "print('productOfArray Solution')\n",
        "\n",
        "def productOfArray(arr):\n",
        "    if len(arr) == 0:\n",
        "        return 1\n",
        "    return arr[0] * productOfArray(arr[1:])\n",
        "\n",
        "print(productOfArray([1,2,3])) #6\n",
        "print(productOfArray([1,2,3,10])) #60\n",
        "print(\"-----------------------------------------------------------------------------------\")\n",
        "print('recursiveRange Solution')\n",
        "\n",
        "def recursiveRange(num):\n",
        "    if num <= 0:\n",
        "        return 0\n",
        "    return num + recursiveRange(num - 1)\n",
        "\n",
        "\n",
        "print(recursiveRange(6))\n",
        "print(\"-----------------------------------------------------------------------------------\")\n",
        "print('fib Solution')\n",
        "\n",
        "def fib(num):\n",
        "    if (num < 2):\n",
        "        return num\n",
        "    return fib(num - 1) + fib(num - 2)\n",
        "\n",
        "\n",
        "\n",
        "print(fib(4)) # 3\n",
        "print(fib(10)) # 55\n",
        "print(fib(28)) # 317811\n",
        "print(fib(35)) # 9227465\n",
        "print(\"-----------------------------------------------------------------------------------\")\n",
        "print('reverse Solution')\n",
        "\n",
        "\n",
        "def reverse(strng):\n",
        "    if len(strng) <= 1:\n",
        "      return strng\n",
        "    return strng[len(strng)-1] + reverse(strng[0:len(strng)-1])\n",
        "\n",
        "\n",
        "print(reverse('python')) # 'nohtyp'\n",
        "print(reverse('appmillers')) # 'srellimppa'\n",
        "print(\"-----------------------------------------------------------------------------------\")\n",
        "print('isPalindrome Solution')\n",
        "\n",
        "\n",
        "def isPalindrome(strng):\n",
        "    if len(strng) == 0:\n",
        "        return True\n",
        "    if strng[0] != strng[len(strng)-1]:\n",
        "        return False\n",
        "    return isPalindrome(strng[1:-1])\n",
        "\n",
        "print(isPalindrome('awesome')) # false\n",
        "print(isPalindrome('foobar')) # false\n",
        "print(isPalindrome('tacocat')) # true\n",
        "print(isPalindrome('amanaplanacanalpanama')) # true\n",
        "print(isPalindrome('amanaplanacanalpandemonium')) # false\n",
        "print(\"-----------------------------------------------------------------------------------\")\n",
        "print('someRecursive Solution')\n",
        "\n",
        "def someRecursive(arr, cb):\n",
        "    if len(arr) == 0:\n",
        "        return False\n",
        "    if not(cb(arr[0])):\n",
        "        return someRecursive(arr[1:], cb)\n",
        "    return True\n",
        "\n",
        "def isOdd(num):\n",
        "    if num%2==0:\n",
        "        return False\n",
        "    else:\n",
        "        return True\n",
        "\n",
        "\n",
        "print(someRecursive([1,2,3,4], isOdd)) # true\n",
        "print(someRecursive([4,6,8,9], isOdd)) # true\n",
        "print(someRecursive([4,6,8], isOdd)) # false\n",
        "print(\"-----------------------------------------------------------------------------------\")\n",
        "print('flatten Solution')\n",
        "def flatten(arr):\n",
        "    resultArr = []\n",
        "    for custItem in arr:\n",
        "        if type(custItem) is list:\n",
        "            resultArr.extend(flatten(custItem))\n",
        "        else: \n",
        "            resultArr.append(custItem)\n",
        "    return resultArr \n",
        "\n",
        "\n",
        "\n",
        "print(flatten([1, 2, 3, [4, 5]])) # [1, 2, 3, 4, 5]\n",
        "print(flatten([1, [2, [3, 4], [[5]]]])) # [1, 2, 3, 4, 5]\n",
        "print(flatten([[1], [2], [3]])) # [1, 2, 3]\n",
        "print(flatten([[[[1], [[[2]]], [[[[[[[3]]]]]]]]]])) # [1, 2, 3]\n",
        "print(\"-----------------------------------------------------------------------------------\")\n",
        "print('capitalizeFirst Solution')\n",
        "\n",
        "def capitalizeFirst(arr):\n",
        "    result = []\n",
        "    if len(arr) == 0:\n",
        "        return result\n",
        "    result.append(arr[0][0].upper() + arr[0][1:])\n",
        "    return result + capitalizeFirst(arr[1:]) \n",
        "\n",
        "\n",
        "\n",
        "\n",
        "print(capitalizeFirst(['car', 'taco', 'banana'])) # ['Car','Taco','Banana']\n",
        "print(\"-----------------------------------------------------------------------------------\")\n",
        "print('nestedEvenSum Solution')\n",
        "\n",
        "def nestedEvenSum(obj, sum=0):\n",
        "    for key in obj:\n",
        "        if type(obj[key]) is dict:\n",
        "            sum += nestedEvenSum(obj[key])\n",
        "        elif type(obj[key]) is int and obj[key]%2==0:\n",
        "            sum+=obj[key]\n",
        "    return sum\n",
        "\n",
        "\n",
        "\n",
        "obj1 = {\n",
        "  \"outer\": 2,\n",
        "  \"obj\": {\n",
        "    \"inner\": 2,\n",
        "    \"otherObj\": {\n",
        "      \"superInner\": 2,\n",
        "      \"notANumber\": True,\n",
        "      \"alsoNotANumber\": \"yup\"\n",
        "    }\n",
        "  }\n",
        "}\n",
        "\n",
        "obj2 = {\n",
        "  \"a\": 2,\n",
        "  \"b\": {\"b\": 2, \"bb\": {\"b\": 3, \"bb\": {\"b\": 2}}},\n",
        "  \"c\": {\"c\": {\"c\": 2}, \"cc\": 'ball', \"ccc\": 5},\n",
        "  \"d\": 1,\n",
        "  \"e\": {\"e\": {\"e\": 2}, \"ee\": 'car'}\n",
        "}\n",
        "\n",
        "print(nestedEvenSum(obj1)) # 6\n",
        "print(nestedEvenSum(obj2)) # 10\n",
        "print(\"-----------------------------------------------------------------------------------\")\n",
        "print('capitalizeWords Solution')\n",
        "\n",
        "def capitalizeWords(arr):\n",
        "    result = []\n",
        "    if len(arr) == 0:\n",
        "        return result\n",
        "    result.append(arr[0].upper())\n",
        "    return result + capitalizeWords(arr[1:])\n",
        "\n",
        "\n",
        "\n",
        "words = ['i', 'am', 'learning', 'recursion']\n",
        "print(capitalizeWords(words)) # ['I', 'AM', 'LEARNING', 'RECURSION']\n",
        "print(\"-----------------------------------------------------------------------------------\")\n",
        "print('stringifyNumbers Solution')\n",
        "\n",
        "def stringifyNumbers(obj):\n",
        "    newObj = obj\n",
        "    for key in newObj:\n",
        "        if type(newObj[key]) is int:\n",
        "            newObj[key] = str(newObj[key])\n",
        "        if type(newObj[key]) is dict:\n",
        "            newObj[key] = stringifyNumbers(newObj[key])\n",
        "    return newObj\n",
        "\n",
        "\n",
        "\n",
        "obj = {\n",
        "  \"num\": 1,\n",
        "  \"test\": [],\n",
        "  \"data\": {\n",
        "    \"val\": 4,\n",
        "    \"info\": {\n",
        "      \"isRight\": True,\n",
        "      \"random\": 66\n",
        "    }\n",
        "  }\n",
        "}\n",
        "\n",
        "print(stringifyNumbers(obj))\n",
        "\n",
        "{'num': '1', \n",
        " 'test': [], \n",
        " 'data': {'val': '4', \n",
        "          'info': {'isRight': True, 'random': '66'}\n",
        "          }\n",
        "}\n",
        "print(\"-----------------------------------------------------------------------------------\")\n",
        "print('collectStrings Solution')\n",
        "\n",
        "def collectStrings(obj):\n",
        "    resultArr = []\n",
        "    for key in obj:\n",
        "        if type(obj[key]) is str:\n",
        "            resultArr.append(obj[key])\n",
        "        if type(obj[key]) is dict:\n",
        "            resultArr = resultArr + collectStrings(obj[key])\n",
        "    return resultArr\n",
        "\n",
        "\n",
        "\n",
        "obj = {\n",
        "  \"stuff\": 'foo',\n",
        "  \"data\": {\n",
        "    \"val\": {\n",
        "      \"thing\": {\n",
        "        \"info\": 'bar',\n",
        "        \"moreInfo\": {\n",
        "          \"evenMoreInfo\": {\n",
        "            \"weMadeIt\": 'baz'\n",
        "          }\n",
        "        }\n",
        "      }\n",
        "    }\n",
        "  }\n",
        "}\n",
        "\n",
        "print(collectStrings(obj)) # ['foo', 'bar', 'baz'])\n",
        "print(\"-----------------------------------------------------------------------------------\")"
      ]
    },
    {
      "cell_type": "markdown",
      "metadata": {
        "id": "3MGYr7H5z8wr"
      },
      "source": [
        "#2. Time complexities and big O notation\n",
        "Language or metric define the efiiciency of the algorithm.\n",
        "\n",
        "Run time Notations: Best case, average case and worst case\n",
        "\n",
        "Types of time complexity:\n",
        "\n",
        "1.   Big O - less than or equal to the worst case \n",
        "2.   Big Omega - at least more than the best case\n",
        "3.   Big Theta - Bouns within the best and worst cases\n",
        "\n",
        "Types of the complexity: \n",
        "\n",
        "\n",
        "*   Constant time - O(1) [Ex : searching particular element in an array (arr[0])]  \n",
        "*   Linear time - O(n) [Ex: traversing the whole array]\n",
        "*   Logarithmic time - O(log N) [Ex : merge sort, binary search, heap sort]\n",
        "*   Quadratic time - O(N^2) [Ex : Nested loop iterations]\n",
        "*   Exponential - O(2^n) time complexity grows with the addition to the input [Ex: Fibonacci series using recursion]  \n",
        "\n",
        "Orders:\n",
        "\n",
        "O(1) < O(logN) < O(N) < O(NlogN) < O(N^2) < O(2^n) < O(N!)\n",
        "\n",
        "\n",
        "\n"
      ]
    },
    {
      "cell_type": "code",
      "execution_count": null,
      "metadata": {
        "colab": {
          "base_uri": "https://localhost:8080/"
        },
        "id": "RwFZ_h8_JbB8",
        "outputId": "b56b7a65-2b84-485a-af23-3795ac6d3fb2"
      },
      "outputs": [
        {
          "output_type": "stream",
          "name": "stdout",
          "text": [
            "7\n",
            "None\n",
            "7\n"
          ]
        }
      ],
      "source": [
        "# print big number in the array\n",
        "\n",
        "# Iterative method\n",
        "def arr(array):                       \n",
        "  big = array[0]                      #--------------------------o(1)\n",
        "  for i in range(0, len(array)):      #--------------------------o(n)\n",
        "    if array[i] > big:                #--------------------------o(1)\n",
        "      big = array[i]                  #--------------------------o(1)\n",
        "  print(big)                          #--------------------------o(1)\n",
        "\n",
        "# Recursive Method:\n",
        "def arn(array, n):\n",
        "  if n==1:\n",
        "    return array[0]\n",
        "  return max(array[n-1], arn(array,n-1))\n",
        "\n",
        "a = [1,2,3,5,7,4]                     #--------------------------o(1)\n",
        "print(arr(a))                         #--------------------------o(1)\n",
        "print(arn(a,len(a)))\n",
        "\n"
      ]
    },
    {
      "cell_type": "markdown",
      "metadata": {
        "id": "Nxfoah6t6Gi7"
      },
      "source": [
        "#####Interview Questions "
      ]
    },
    {
      "cell_type": "code",
      "execution_count": null,
      "metadata": {
        "id": "HdRRuHrj54PP",
        "colab": {
          "base_uri": "https://localhost:8080/"
        },
        "outputId": "c483b334-d317-4c36-b40a-dca586c46d27"
      },
      "outputs": [
        {
          "output_type": "stream",
          "name": "stdout",
          "text": [
            "Sum = 10, Product = 24\n",
            "[5, 4, 3, 2, 1]\n",
            "6\n",
            "0:, 0\n",
            "1:, 1\n",
            "2:, 1\n",
            "3:, 2\n",
            "1\n",
            "1\n",
            "2\n",
            "2\n",
            "4\n",
            "4\n",
            "8\n",
            "8\n",
            "16\n",
            "16\n",
            "32\n"
          ]
        },
        {
          "output_type": "execute_result",
          "data": {
            "text/plain": [
              "32"
            ]
          },
          "metadata": {},
          "execution_count": 42
        }
      ],
      "source": [
        "#Question1                                                        #O(2n)\n",
        "def foo(array):\n",
        "    sum = 0                                                       #--------------------------o(1)\n",
        "    product = 1                                                   #--------------------------o(1)\n",
        "    for i in array:                                               #--------------------------o(n)\n",
        "        sum += i                                                        #--------------------------o(1)\n",
        "    for i in array:                                               #--------------------------o(n)\n",
        "        product *= i                                              #--------------------------o(1)\n",
        "    print(\"Sum = \"+str(sum)+\", Product = \"+str(product))          #--------------------------o(1)\n",
        "\n",
        "ar1 = [1,2,3,4]\n",
        "foo(ar1)\n",
        "\n",
        "#Question2                                           #O(n^2)\n",
        "\n",
        "def printPairs(array):\n",
        "    for i in array:                                 #--------------------------O(n^2)}--| ------------O(n^2+n)=O(n^2)                             \n",
        "        for j in array:                             #--------------------------o(n-1)}----|\n",
        "            print(str(i)+\",\"+str(j))                #--------------------------o(1)\n",
        "\n",
        "\n",
        "#Question3                                          #O(n^2)\n",
        "def printUnorderedPairs(array):                       \n",
        "    for i in range(0,len(array)):                   #--------------------------o(n^2)-----|--------------o(n^2+n) =O(n^2)\n",
        "        for j in range(i+1,len(array)):             #--------------------------o(n)-------|------------------------------------[solved using 1.Counting the iterations and 2.Average work]\n",
        "            print(array[i] + \",\" + array[j])        #--------------------------o(1)\n",
        "\n",
        "\n",
        "\n",
        "\n",
        "\n",
        "#Question4                                                        #O(26) = o(ab)\n",
        "def printUnorderedPairs(arrayA, arrayB):\n",
        "    for i in range(len(arrayA)):                                  #--------------------------o(5*4)----|------O(5*4 + 4)\n",
        "        for j in range(len(arrayB)):                              #--------------------------o(4)------|\n",
        "            if arrayA[i] < arrayB[j]:                             #--------------------------o(1)\n",
        "                print(str(arrayA[i]) + \",\" + str(arrayB[j]))      #--------------------------o(1)\n",
        "\n",
        "arrayA = [1,2,3,4,5]\n",
        "arrayB = [2,6,7,8]\n",
        "\n",
        "\n",
        "\n",
        "#Question5\n",
        "def printUnorderedPairs(arrayA, arrayB):                          #o(ab)\n",
        "    for i in range(len(arrayA)):                                  #--------------------------o(a)                                  \n",
        "        for j in range(len(arrayB)):                              #--------------------------o(b)\n",
        "            for k in range(0,100000):                             #--------------------------o(1)[As still the 100000 is the constant number]\n",
        "                print(str(arrayA[i]) + \",\" + str(arrayB[j]))      #--------------------------o(1)\n",
        "\n",
        "# printUnorderedPairss(arrayA,arrayB)\n",
        "\n",
        "\n",
        "#Question6\n",
        "def reverse(array):                                               #O(N)\n",
        "    for i in range(0,int(len(array)/2)):                          #--------------------------o(N/2)-->O(N)\n",
        "        other = len(array)-i-1                                    #--------------------------o(1)\n",
        "        temp = array[i]                                           #--------------------------o(1)\n",
        "        array[i] = array[other]                                   #--------------------------o(1)\n",
        "        array[other] = temp                                       #--------------------------o(1)\n",
        "    print(array)                                                  #--------------------------o(1)\n",
        "\n",
        "reverse(arrayA)\n",
        "\n",
        "#Question8                                  #O(N)\n",
        "\n",
        "def factorial(n):                                       #o(M)\n",
        "    if n < 0:                               #---------|\n",
        "        return -1                           #---------|\n",
        "    elif n == 0:                            #---------|--------------O(1)\n",
        "        return 1                            #---------|\n",
        "    else:                                   #---------|\n",
        "        return n * factorial(n-1)           #--------------------------o(O(M-1))\n",
        "\n",
        "print(factorial(3))\n",
        "                                                                                             # O(M) = O(1) +O(M-1)........\n",
        "                                                                                             # O(M) = O(1)*N + O(1)\n",
        "\n",
        "\n",
        "#Question9                                      # time complexity is equal to 2^1 + 2^2 + ........+ 2^n = 2^n+1 -2^1  =~ O(2^n)\n",
        "def allFib(n):                                  # \n",
        "    for i in range(n):                          #--------------------------o(n)\n",
        "        print(str(i)+\":, \" + str(fib(i)))\n",
        "\n",
        "def fib(n):                                     # multipe branch called recursively then tie complexity = Branch^Depth  #O(2^n)\n",
        "    if n <= 0:                                  # For this problem the time complexity is the changing because the change in the iteration of previous function\n",
        "        return 0                                # For f(1) - 2^1......f(n) - 2^n\n",
        "    elif n == 1:\n",
        "        return 1\n",
        "    return fib(n-1) + fib(n-2)\n",
        "\n",
        "\n",
        "allFib(4)\n",
        "\n",
        "#Question10                   #O(LogN)\n",
        "def powersOf2(n):                                           # The function calling itself with a half of it\n",
        "    # print(\"n:\"+str(n))                                    # As we learnt the time complexity is of logarithmic time\n",
        "    if n < 1:\n",
        "        return 0\n",
        "    elif n == 1:\n",
        "        print(1)\n",
        "        return 1\n",
        "    else:\n",
        "        prev = powersOf2(int(n/2))\n",
        "        # print(\"prev:\"+str(prev))\n",
        "        print(prev)\n",
        "        curr = prev*2\n",
        "        print(curr)\n",
        "        return curr\n",
        "\n",
        "powersOf2(50)"
      ]
    },
    {
      "cell_type": "markdown",
      "metadata": {
        "id": "_GV3abV3x9Vc"
      },
      "source": [
        "#3. Arrays"
      ]
    },
    {
      "cell_type": "markdown",
      "source": [
        "##### 1D Array"
      ],
      "metadata": {
        "id": "JU0Kifq2HgE0"
      }
    },
    {
      "cell_type": "code",
      "execution_count": null,
      "metadata": {
        "colab": {
          "base_uri": "https://localhost:8080/"
        },
        "id": "pqGFK0ERdD_p",
        "outputId": "b693a7f2-f6d2-4bfe-ea0a-76b60debf8d1"
      },
      "outputs": [
        {
          "output_type": "stream",
          "name": "stdout",
          "text": [
            "create an array and traverse\n",
            "array('d', [1.2, 1.45, 122.6, 33.0])\n",
            "array('i', [1, 2, 3, 4, 5])\n",
            "-------------------------------------\n",
            "traverse\n",
            "1\n",
            "2\n",
            "3\n",
            "4\n",
            "5\n",
            "-------------------------------------\n",
            "Accessing through index\n",
            "122.6\n",
            "-------------------------------------\n",
            "Append through append method()\n",
            "array('i', [1, 2, 3, 4, 5, 7])\n",
            "-------------------------------------\n",
            "Inserting element in an array\n",
            "array('i', [1, 2, 5, 3, 4, 5, 7])\n",
            "-------------------------------------\n",
            "Extend using extend method() in array\n",
            "array('i', [1, 2, 5, 3, 4, 5, 7, 11, 23, 45])\n",
            "-------------------------------------\n",
            "Add elements from python lists\n",
            "array('d', [1.2, 1.45, 122.6, 33.0, 88.0, 9.0, 19.0])\n",
            "-------------------------------------\n",
            "Remove element using remove() method by value\n",
            "array('d', [1.2, 1.45, 122.6, 33.0, 88.0, 19.0])\n",
            "-------------------------------------\n",
            "Remove last array element using pop() method\n",
            "array('i', [1, 2, 5, 3, 4, 5, 7, 11, 23])\n",
            "-------------------------------------\n",
            "Accessing through index\n",
            "-------------------------------------\n",
            "array('i', [1, 2, 5, 3, 4, 5, 7, 23])\n",
            "array('i', [1, 2, 5, 3, 4, 5, 7])\n",
            "array('i', [1, 2, 5, 3, 4, 7])\n"
          ]
        }
      ],
      "source": [
        "# 1D array\n",
        "\n",
        "from array import *\n",
        "\n",
        "# 1. create an array and traverse\n",
        "print('create an array and traverse')\n",
        "arr1=array('i', [1,2,3,4,5])                     \n",
        "arr2 = array('d',[1.2,1.45,122.6,33])       \n",
        "print(arr2)\n",
        "print(arr1)\n",
        "print('-------------------------------------')\n",
        "\n",
        "\n",
        "# 2. Traverse\n",
        "print('traverse')\n",
        "def fun(array):                               \n",
        "  for i in range(len(array)):\n",
        "    print(array[i])\n",
        "\n",
        "fun(arr1)\n",
        "print('-------------------------------------')\n",
        "\n",
        "\n",
        "# 3. Accessing through index\n",
        "print('Accessing through index')\n",
        "print(arr2[2])\n",
        "print('-------------------------------------')\n",
        "\n",
        "\n",
        "# 4. Append through append method()\n",
        "print('Append through append method()')\n",
        "arr1.append(7)\n",
        "print(arr1)\n",
        "print('-------------------------------------')\n",
        "\n",
        "\n",
        "# 5. Inserting element in an array\n",
        "print('Inserting element in an array')\n",
        "arr1.insert(2,5)                              \n",
        "print(arr1)\n",
        "print('-------------------------------------')\n",
        "\n",
        "\n",
        "# 6. Extend using extend method() in array\n",
        "print('Extend using extend method() in array')\n",
        "arr3 = array('i', [11,23,45])\n",
        "arr1.extend(arr3)\n",
        "print(arr1)\n",
        "print('-------------------------------------')\n",
        "\n",
        "\n",
        "# 7. Add elements from python lists\n",
        "print('Add elements from python lists')\n",
        "templist = [88,9,19]\n",
        "arr2.fromlist(templist)\n",
        "print(arr2)\n",
        "print('-------------------------------------')\n",
        "\n",
        "\n",
        "# 8. Remove element using remove() method by value\n",
        "print('Remove element using remove() method by value')\n",
        "arr2.remove(9)\n",
        "print(arr2)\n",
        "print('-------------------------------------')\n",
        "\n",
        "\n",
        "# 9. Remove last array element using pop() method \n",
        "print('Remove last array element using pop() method')\n",
        "arr1.pop()\n",
        "print(arr1)\n",
        "print('-------------------------------------')\n",
        "\n",
        "\n",
        "# 10. \n",
        "print('Accessing through index')\n",
        "print('-------------------------------------')\n",
        "\n",
        "\n",
        "def funs(array, index):                       #accessing array element\n",
        "  if index>=len(array): \n",
        "     return \"Enter valid index number\"\n",
        "  else:\n",
        "    return array[index]\n",
        "def find(array, value):                       #searching the array\n",
        "  for i in range(len(array)):\n",
        "    if i == value:\n",
        "      return array[i]\n",
        "  return \"The element not found.\"\n",
        "\n",
        "def dele(array, n):                            #Delete element in an array\n",
        "  for i in range(len(array)):\n",
        "    if i== n:\n",
        "      array.remove(array[i])\n",
        "  print(array)\n",
        "  array.pop() # pop()\n",
        "  print(array)\n",
        "  del array[5] # del method \n",
        "  print(array)\n",
        "\n",
        "\n",
        "\n",
        "funs(arr2,4)\n",
        "find(arr1,5)\n",
        "dele(arr1,7)"
      ]
    },
    {
      "cell_type": "markdown",
      "source": [
        "##### 2D Array"
      ],
      "metadata": {
        "id": "cMiVHlyYHa-B"
      }
    },
    {
      "cell_type": "code",
      "execution_count": null,
      "metadata": {
        "colab": {
          "base_uri": "https://localhost:8080/"
        },
        "id": "OTKRp5uuA3jA",
        "outputId": "923296a8-8350-4cf0-9f59-891f3e5e0641"
      },
      "outputs": [
        {
          "name": "stdout",
          "output_type": "stream",
          "text": [
            "creating a 2D array\n",
            "--------------------------------\n",
            "[[ 11  23  34  45]\n",
            " [ 90  89  78  67]\n",
            " [ 55  11  99  82]\n",
            " [ 40  92  74 100]]\n",
            "--------------------------------\n",
            "Adding new row or column\n",
            "Row Added\n",
            "[[ 11  23  34  45]\n",
            " [ 90  89  78  67]\n",
            " [ 54  32  21  87]\n",
            " [ 55  11  99  82]\n",
            " [ 40  92  74 100]]\n",
            "[[ 11  23  34  45]\n",
            " [ 12  23  34  45]\n",
            " [ 90  89  78  67]\n",
            " [ 55  11  99  82]\n",
            " [ 40  92  74 100]]\n",
            "Column Added\n",
            "[[ 71  11  23  34  45]\n",
            " [ 92  90  89  78  67]\n",
            " [ 13  54  32  21  87]\n",
            " [ 65  55  11  99  82]\n",
            " [ 96  40  92  74 100]]\n",
            "using append method()\n",
            "[[ 11  23  34  45]\n",
            " [ 90  89  78  67]\n",
            " [ 55  11  99  82]\n",
            " [ 40  92  74 100]\n",
            " [  1   0   8   6]]\n",
            "-------------------------------\n",
            "Accessing elements in a 2D array\n",
            "11\n",
            "-------------------------------\n",
            "Travesal of 2D array\n",
            "11\n",
            "23\n",
            "34\n",
            "45\n",
            "90\n",
            "89\n",
            "78\n",
            "67\n",
            "55\n",
            "11\n",
            "99\n",
            "82\n",
            "40\n",
            "92\n",
            "74\n",
            "100\n",
            "-------------------------------\n",
            "Searching An element in 2D array\n",
            "The value is found at 2 0\n",
            "-------------------------------\n",
            "Deletion of the element from the array(either row deletion or column deletion)\n",
            "[[ 90  89  78  67]\n",
            " [ 55  11  99  82]\n",
            " [ 40  92  74 100]]\n",
            "[[ 23  34  45]\n",
            " [ 89  78  67]\n",
            " [ 11  99  82]\n",
            " [ 92  74 100]]\n",
            "-------------------------------\n"
          ]
        }
      ],
      "source": [
        "from numpy.lib.shape_base import column_stack\n",
        "## 2D ARRAY\n",
        "\n",
        "# 1. Create a 2D array\n",
        "print('creating a 2D array')\n",
        "print('--------------------------------')\n",
        "\n",
        "import numpy as np\n",
        "\n",
        "the2Darray = np.array([[11,23,34,45], [90,89,78,67], [55,11,99,82], [40,92,74,100]])\n",
        "print(the2Darray)\n",
        "print('--------------------------------')\n",
        "\n",
        "# 2. Add new row or Column\n",
        "print('Adding new row or column')\n",
        "print('Row Added')\n",
        "rowaddarray = np.insert(the2Darray,2,[[54,32,21,87]], axis =0)\n",
        "Arr_add = np.insert(the2Darray,1, [[12,23,34,45]],axis = 0)\n",
        "print(rowaddarray)\n",
        "print(Arr_add)\n",
        "\n",
        "print('Column Added')\n",
        "Columnarray = np.insert(rowaddarray,0,[[71,92,13,65,96]],axis=1)\n",
        "print(Columnarray)\n",
        "\n",
        "\n",
        "print('using append method()')\n",
        "Columnsarray = np.append(the2Darray,[[1,0,8,6]],axis =0)\n",
        "print(Columnsarray)\n",
        "print('-------------------------------')\n",
        "\n",
        "print('Accessing elements in a 2D array')\n",
        "def AccessEle(array, Rindex, Cindex):\n",
        "  if Rindex >= len(array) or Cindex>= len(array[0]):         #-----------O(1)\n",
        "    return 'Invaid inputs'                                   #-----------O(1)\n",
        "  return array[Rindex][Cindex]                               #-----------O(1)\n",
        "\n",
        "print(AccessEle(the2Darray, 2,1))\n",
        "\n",
        "print('-------------------------------')\n",
        "\n",
        "print('Travesal of 2D array')\n",
        "def traverse(array):\n",
        "  for i in range(len(array)):\n",
        "    for j in range(len(array[0])):\n",
        "      print(array[i][j])\n",
        "\n",
        "traverse(the2Darray)\n",
        "print('-------------------------------')\n",
        "\n",
        "\n",
        "print('Searching An element in 2D array')\n",
        "def searchEle(array, n):\n",
        "  for i in range(len(array)):\n",
        "    for j in range(len(array[0])):\n",
        "      if array[i][j] == n:\n",
        "        return 'The value is found at ' + str(i) + \" \"+str(j)\n",
        "  return 'The elemnent does not exist in the array'\n",
        "\n",
        "print(searchEle(the2Darray,55))\n",
        "\n",
        "print('-------------------------------')\n",
        "\n",
        "\n",
        "print('Deletion of the element from the array(either row deletion or column deletion)')\n",
        "# Row deletion\n",
        "NewAFDel = np.delete(the2Darray, 0, axis =0)\n",
        "print(NewAFDel)\n",
        "\n",
        "# Column deletion\n",
        "NewAl = np.delete(the2Darray, 0, axis =1)\n",
        "print(NewAl)\n",
        "print('-------------------------------')\n",
        "\n",
        "\n",
        "\n",
        "\n",
        "\n"
      ]
    },
    {
      "cell_type": "markdown",
      "metadata": {
        "id": "SSHsGBQMkGZn"
      },
      "source": [
        "##### Time and space complexities of 2D array."
      ]
    },
    {
      "cell_type": "markdown",
      "metadata": {
        "id": "h8qhlz0UhQFM"
      },
      "source": [
        "Operation| Time Complexity | Space Complexity\n",
        "--|:--|:--|\n",
        "Creating an empty array|O(1)|O(mn)\n",
        "Inserting a column/ row in an array| O(mn)/O(1)| O(1)\n",
        "Traversing a given array| O(mn)|O(1)\n",
        "Accessing a given array| O(1)|O(1)\n",
        "Searching a given value| O(mn)| O(1)\n",
        "Deleting a given value| O(mn)/O(1)| O(1)"
      ]
    },
    {
      "cell_type": "markdown",
      "metadata": {
        "id": "TBt0TkMVXYCR"
      },
      "source": [
        "# Python Lists\n",
        "The list is one among the built-in data types and in python(i.e others are tuples, sets and dictioneries). \n",
        "The list is used to store elements in order. The main difference between list and array is they can store different datatypes in a single list but the array cannot."
      ]
    },
    {
      "cell_type": "code",
      "execution_count": null,
      "metadata": {
        "colab": {
          "base_uri": "https://localhost:8080/"
        },
        "id": "HOQogB-PYQsR",
        "outputId": "a3a80ab2-c5c9-44f9-f81b-d9a7f6f668f3"
      },
      "outputs": [
        {
          "name": "stdout",
          "output_type": "stream",
          "text": [
            "[1, 2, 3, 4]\n",
            "['Tarun', 'is', 'going', 'for', 'Texas']\n",
            "[1, 3.7, 'heelo']\n",
            "[1, 0.44, 55, ['losst']]\n",
            "[]\n",
            "Operations in the lists\n",
            "-------------------------\n",
            "Accessing the list\n",
            "Texas\n",
            "using in operator\n",
            "True\n",
            "usnig negative index values\n",
            "going\n",
            "--------------------\n",
            "Traverse the list\n",
            "Tarun\n",
            "is\n",
            "going\n",
            "for\n",
            "Texas\n",
            "[1, 2, 3, 4]\n",
            "[1, 2, 5, 4]\n",
            "[1, 2, 5, 9]\n",
            "-------------------------\n",
            "Operation and functions in list\n",
            "Concat using the + operator\n",
            "[1, 2, 3, 4, 'h', 's', 'f']\n",
            "print multiple using the * operator\n",
            "[1, 2, 3, 1, 2, 3]\n",
            "using len() for count \n",
            "6 count of the list k\n",
            "Using the max() method for get highest value in the list\n",
            "3\n",
            "Using the min() method for get lowest value in the list\n",
            "1\n",
            "Using the sum() method for adding all items in the list\n",
            "12\n",
            "Find Mean\n",
            "2.0\n"
          ]
        }
      ],
      "source": [
        "# examples of list\n",
        "\n",
        "integers = [1,2,3,4]                        #list with intergers\n",
        "print(integers)\n",
        "stringlist = ['Tarun', 'is', 'going','for','Texas']                 # list of strings\n",
        "print(stringlist)\n",
        "mixedlist = [1,3.7, 'heelo']                 # list of mixed datatypes\n",
        "print(mixedlist)\n",
        "nestedlist = [1,.44,55,['losst']]            # list inside a list\n",
        "print(nestedlist)\n",
        "empty= []                                    # an empty list\n",
        "print(empty)\n",
        "\n",
        "\n",
        "###Operations in the lists\n",
        "print('Operations in the lists')\n",
        "print('-------------------------')\n",
        "# Accessing the list\n",
        "print('Accessing the list')\n",
        "examplelist = ['Tarun', 'is', 'going','for','Texas']\n",
        "print(examplelist[4])\n",
        "\n",
        "#other means for checking or accessing the elements in list is\n",
        "#using in operator\n",
        "print('using in operator')\n",
        "examplelist = ['Tarun', 'is', 'going','for','Texas']\n",
        "print('for' in examplelist)\n",
        "#usnig negative index values\n",
        "print('usnig negative index values')\n",
        "print(examplelist[-3])\n",
        "print('--------------------')\n",
        "#traverse through the list\n",
        "print('Traverse the list')\n",
        "for i in examplelist:\n",
        "  print(i)\n",
        "\n",
        "# travrsing and adding the list\n",
        "lists = [1,1,3,4]\n",
        "for i in range(len(lists)):\n",
        "  if i>0:\n",
        "    lists[i] += lists[i-1]\n",
        "    print(lists)\n",
        "# Statements passed in empty list cannot print as the empty list cannot be traversed\n",
        "empty =[]\n",
        "for i in empty:\n",
        "  print('List is empty list')\n",
        "\n",
        "print('-------------------------')\n"
      ]
    },
    {
      "cell_type": "markdown",
      "metadata": {
        "id": "cHJ23LoBgak9"
      },
      "source": [
        "The list is a mutable datastructure. so we can update with assignment operators or insert new elements into the list."
      ]
    },
    {
      "cell_type": "markdown",
      "source": [
        "##### Insertion"
      ],
      "metadata": {
        "id": "cx0hsS0zHtfa"
      }
    },
    {
      "cell_type": "markdown",
      "metadata": {
        "id": "zp1gwVMthaCl"
      },
      "source": [
        "The insertion can be done in 4 ways.\n",
        "\n",
        "\n",
        "1.  Insert at the begining of list\n",
        "2.  Insert in the middle of the list\n",
        "3.  Insert at the end of the list\n",
        "4.  Insert the list to another list\n",
        "\n",
        "Can be done using the list methods and they are:\n",
        "\n",
        "\n",
        "*   Insert(Index to insert, value to insert)\n",
        "*   Append(value to insert at the end)\n",
        "*   Extend(list to add)\n",
        "\n",
        "\n",
        "\n"
      ]
    },
    {
      "cell_type": "code",
      "execution_count": null,
      "metadata": {
        "colab": {
          "base_uri": "https://localhost:8080/"
        },
        "id": "sV_wvQhJgrE1",
        "outputId": "a5ea5a15-f953-4332-9e89-652944b5834a"
      },
      "outputs": [
        {
          "name": "stdout",
          "output_type": "stream",
          "text": [
            "[1, 2, 3, 12, 4, 99, 6]\n",
            "[1, 2, 3, 12, 88, 4, 99, 6]\n",
            "[1, 2, 3, 12, 88, 4, 99, 6, 0]\n",
            "[122, 455, 667, 'Lokesh kanakaraj', 1, 2, 3, 12, 88, 4, 99, 6, 0]\n"
          ]
        }
      ],
      "source": [
        "#Update or Insert the list\n",
        "Listitems = [1,2,3,4,4,5,6]\n",
        "Listitems[3] = 12\n",
        "Listitems[5] = 99 \n",
        "print(Listitems)\n",
        "\n",
        "# using the insert()   -------------O(n) space-O(1)\n",
        "Listitems.insert(4,88)\n",
        "print(Listitems)\n",
        "\n",
        "# unig the append() ----------------O(1)\n",
        "Listitems.append(0)\n",
        "print(Listitems)\n",
        "\n",
        "# using the extend()---------------depends on the no. of elemenst in the previous list O(n) and space-O(n)\n",
        "List = [122,455,667,\"Lokesh kanakaraj\"]\n",
        "List.extend(Listitems)\n",
        "print(List)\n",
        "\n"
      ]
    },
    {
      "cell_type": "markdown",
      "metadata": {
        "id": "2Lt4E_fRshmA"
      },
      "source": [
        "##### Deletion and slicing in Lists"
      ]
    },
    {
      "cell_type": "markdown",
      "metadata": {
        "id": "oItq_a4-yxf-"
      },
      "source": [
        "* List acn be deleted using:\n",
        "\n",
        "\n",
        "1.   pop() - unless you pass the index the last element is popped from the list and if you pass the element then that indexed element is popped. It is used to know the deleted element. Return popped element.\n",
        "\n",
        "2.   delete() - use keyword 'del'. Does ot return the deleted element. Uses the index.\n",
        "3.   remove() - is useful when you know the element itself. Do not need of the index. Provide the value amd delete it \n",
        "\n"
      ]
    },
    {
      "cell_type": "code",
      "execution_count": null,
      "metadata": {
        "colab": {
          "base_uri": "https://localhost:8080/"
        },
        "id": "_-bADQnqsl0-",
        "outputId": "044caf81-a99e-4996-e8cf-a3b7c0cace17"
      },
      "outputs": [
        {
          "name": "stdout",
          "output_type": "stream",
          "text": [
            "['a', 'b', 'c', 'd', 'e', 'f']\n",
            "[3, 'avdh', 3.78]\n",
            "['b', 'd', 'f']\n",
            "['q', 'r', 'b', 'c', 'd', 'e', 'f']\n",
            "['q', 'r', 'b', 'c', 'd', 'e']\n",
            "['q', 'r', 'b', 'd', 'e']\n",
            "['q', 'd', 'e']\n",
            "['d', 'e']\n"
          ]
        }
      ],
      "source": [
        "List = ['a','b','c','d','e','f']\n",
        "my = list((3,'avdh',3.78))\n",
        "print(List)\n",
        "print(my)\n",
        "print(List[1:8:2])\n",
        "List[0:1] = 'q','r'\n",
        "print(List)\n",
        "\n",
        "#using the pop()---------------O(1/n)\n",
        "List.pop()#unless you pass the index the last element is popped from the list and if you pass the element then that indexed element is popped\n",
        "print(List)\n",
        "\n",
        "del List[3]\n",
        "print(List)\n",
        "\n",
        "#usimg the slice alomg with the del operation---------------O(n)\n",
        "\n",
        "del List[1:3]\n",
        "print(List)\n",
        "\n",
        "\n",
        "# usimg the remove()---------------O(n)\n",
        "List.remove('q')\n",
        "print(List)\n",
        "\n",
        "# space comp;exity for all the elements is O(1)"
      ]
    },
    {
      "cell_type": "markdown",
      "metadata": {
        "id": "num0nVHb2LjY"
      },
      "source": [
        "##### Searching element in list\n",
        "\n",
        "\n",
        "\n",
        "1.   IN operator\n",
        "2.   Linear search\n",
        "\n"
      ]
    },
    {
      "cell_type": "code",
      "execution_count": null,
      "metadata": {
        "colab": {
          "base_uri": "https://localhost:8080/"
        },
        "id": "2KPHIVQp2Z8h",
        "outputId": "3e4e4e51-654e-4d77-bc98-5235367f1770"
      },
      "outputs": [
        {
          "name": "stdout",
          "output_type": "stream",
          "text": [
            "The value not in the list\n",
            "5\n"
          ]
        }
      ],
      "source": [
        "Thelist = [1,2,3,4,5,6,7,8,9]\n",
        "\n",
        "#IN-operator\n",
        "if 10 in Thelist:\n",
        "  print(Thelist.index(7))#------------O(n) check elements one by one\n",
        "else:\n",
        "  print('The value not in the list')\n",
        "\n",
        "\n",
        "# Linear Search       ---------------O(n)\n",
        "def search(list, value):\n",
        "  for i in list:\n",
        "    if list[i] == value:\n",
        "      return list.index(value)\n",
        "  return 'The element not found!'\n",
        "\n",
        "print(search(Thelist,6))\n",
        "\n"
      ]
    },
    {
      "cell_type": "markdown",
      "metadata": {
        "id": "jMre3BjdsDtD"
      },
      "source": [
        "#####Operations and functions in List\n",
        "\n",
        "\n",
        "*   Concat operator (+, join)\n",
        "*   Multiple operator (*)\n",
        "*   len() method\n",
        "*   max() method \n",
        "*   min() method\n",
        "*   sum() method\n",
        "\n"
      ]
    },
    {
      "cell_type": "code",
      "execution_count": null,
      "metadata": {
        "colab": {
          "base_uri": "https://localhost:8080/"
        },
        "id": "vXS_22mGtMSf",
        "outputId": "c408ff8e-5ba4-4cf1-892c-fedbfba73377"
      },
      "outputs": [
        {
          "output_type": "stream",
          "name": "stdout",
          "text": [
            "Operation and functions in list\n",
            "Concat using the + operator\n",
            "[1, 2, 3, 4, 'h', 's', 'f']\n",
            "print multiple using the * operator\n",
            "[1, 2, 3, 1, 2, 3]\n",
            "using len() for count \n",
            "6 count of the list k\n",
            "Using the max() method for get highest value in the list\n",
            "3\n",
            "Using the min() method for get lowest value in the list\n",
            "1\n",
            "Using the sum() method for adding all items in the list\n",
            "12\n",
            "Find Mean\n",
            "2.0\n"
          ]
        }
      ],
      "source": [
        "print(\"Operation and functions in list\")\n",
        "\n",
        "#concatination in the list using list operations and functions\n",
        "print(\"Concat using the + operator\")\n",
        "k = [1,2,3,4]\n",
        "r= ['h','s','f']\n",
        "kr = k + r\n",
        "print(kr)\n",
        "\n",
        "print(\"print multiple using the * operator\")\n",
        "k = [1,2,3]\n",
        "k = k*2\n",
        "print(k)\n",
        "\n",
        "print(\"using len() for count \")\n",
        "print(len(k),\"count of the list k\")\n",
        "\n",
        "print(\"Using the max() method for get highest value in the list\")\n",
        "print(max(k)) \n",
        "\n",
        "print(\"Using the min() method for get lowest value in the list\")\n",
        "print(min(k))\n",
        "\n",
        "print(\"Using the sum() method for adding all items in the list\")\n",
        "print(sum(k))\n",
        "\n",
        "print(\"Find Mean\")\n",
        "print(sum(k)/len(k))"
      ]
    },
    {
      "cell_type": "markdown",
      "source": [
        "##### Pitfalls in list and ways to avoid them:\n",
        "\n",
        "If we use the below 1 mentioned code then the list returns none that is the modification in the list is now allowed.\n",
        "\n",
        "Read the documentation of the python list [here](https://docs.python.org/)\n",
        "\n"
      ],
      "metadata": {
        "id": "IUnmLFSZptui"
      }
    },
    {
      "cell_type": "code",
      "source": [
        "m =[1,4,3,1,5]\n",
        "k = m\n",
        "a =m[:]\n",
        "m = m.sort() # Result is None\n",
        "print(m)\n",
        "print(a)\n",
        "print(k)"
      ],
      "metadata": {
        "colab": {
          "base_uri": "https://localhost:8080/"
        },
        "id": "zEmSaGtOpzSD",
        "outputId": "ea1bc09a-188d-4592-97a4-4f46d26b36ad"
      },
      "execution_count": null,
      "outputs": [
        {
          "output_type": "stream",
          "name": "stdout",
          "text": [
            "None\n",
            "[1, 4, 3, 1, 5]\n",
            "[1, 1, 3, 4, 5]\n"
          ]
        }
      ]
    },
    {
      "cell_type": "markdown",
      "source": [
        "#ARRAY vs PYTHON LISTS\n",
        "\n",
        "Similarities\n",
        "\n",
        "*   Both data structures are mutable.\n",
        "*   Both can be indexed and iterated through.\n",
        "*   They both can be sliced.\n",
        "\n",
        "Differences\n",
        "*   Arrays are used for the arithmetic operations so using them are more flexible than the lists.\n",
        "*   Arrays are used for the one specific data types and cannot use other in them like lists.\n",
        "\n"
      ],
      "metadata": {
        "id": "NvxHn85vBr_2"
      }
    },
    {
      "cell_type": "code",
      "source": [
        "# Arthimetic operatios on the ARRAY and LISTS\n",
        "import numpy as np\n",
        "\n",
        "Array = np.array([1,2,3,4,5,6])\n",
        "List  = [1,2,3,4,5]\n",
        "print(Array)\n",
        "print(List)\n",
        "\n",
        "# Arthimetic operation on the array gives the successful result\n",
        "print('Arthimetic operation on the array gives the successful result')\n",
        "print(Array/2)\n",
        "\n",
        "# Arthimetic operation of list gives the error\n",
        "print(\"Gives the error on the operation on lists\") \n",
        "print(List/2)"
      ],
      "metadata": {
        "colab": {
          "base_uri": "https://localhost:8080/",
          "height": 287
        },
        "id": "8uaVoBsODlKa",
        "outputId": "738660f8-aaa2-4f9a-9b16-3c569702958c"
      },
      "execution_count": null,
      "outputs": [
        {
          "output_type": "stream",
          "name": "stdout",
          "text": [
            "[1 2 3 4 5 6]\n",
            "[1, 2, 3, 4, 5]\n",
            "Arthimetic operation on the array gives the successful result\n",
            "[0.5 1.  1.5 2.  2.5 3. ]\n",
            "Gives the error on the operation on lists\n"
          ]
        },
        {
          "output_type": "error",
          "ename": "TypeError",
          "evalue": "ignored",
          "traceback": [
            "\u001b[0;31m---------------------------------------------------------------------------\u001b[0m",
            "\u001b[0;31mTypeError\u001b[0m                                 Traceback (most recent call last)",
            "\u001b[0;32m<ipython-input-23-575bf3d6d06e>\u001b[0m in \u001b[0;36m<module>\u001b[0;34m\u001b[0m\n\u001b[1;32m     13\u001b[0m \u001b[0;31m# Arthimetic operation of list gives the error\u001b[0m\u001b[0;34m\u001b[0m\u001b[0;34m\u001b[0m\u001b[0;34m\u001b[0m\u001b[0m\n\u001b[1;32m     14\u001b[0m \u001b[0mprint\u001b[0m\u001b[0;34m(\u001b[0m\u001b[0;34m\"Gives the error on the operation on lists\"\u001b[0m\u001b[0;34m)\u001b[0m\u001b[0;34m\u001b[0m\u001b[0;34m\u001b[0m\u001b[0m\n\u001b[0;32m---> 15\u001b[0;31m \u001b[0mprint\u001b[0m\u001b[0;34m(\u001b[0m\u001b[0mList\u001b[0m\u001b[0;34m/\u001b[0m\u001b[0;36m2\u001b[0m\u001b[0;34m)\u001b[0m\u001b[0;34m\u001b[0m\u001b[0;34m\u001b[0m\u001b[0m\n\u001b[0m",
            "\u001b[0;31mTypeError\u001b[0m: unsupported operand type(s) for /: 'list' and 'int'"
          ]
        }
      ]
    },
    {
      "cell_type": "code",
      "source": [
        "#Array produce the set of same datatype elements\n",
        "TArray = np.array([1,2,3,'T'])#adata types are changed to the string even we declare them as the integers\n",
        "print(TArray)\n",
        "\n",
        "#List takes any type of data types as arguments\n",
        "RList = [1,2,3,'R']\n",
        "print(RList)"
      ],
      "metadata": {
        "colab": {
          "base_uri": "https://localhost:8080/"
        },
        "id": "AnnIugcwGZD4",
        "outputId": "bc694fe2-ec8d-449f-87ee-54786b78f2f7"
      },
      "execution_count": null,
      "outputs": [
        {
          "output_type": "stream",
          "name": "stdout",
          "text": [
            "['1' '2' '3' 'T']\n",
            "[1, 2, 3, 'R']\n"
          ]
        }
      ]
    },
    {
      "cell_type": "markdown",
      "source": [
        "Operation| Time Comolexity | Space Complexity\n",
        "--|:--|:--|\n",
        "Creating a list |O(1)|O(n)\n",
        "Inserting a value in list| O(1)/O(n)| O(1)\n",
        "Traversing a given list| O(n)|O(1)\n",
        "Accessing a given cell| O(1)|O(1)\n",
        "Searching a given value| O(n)| O(1)\n",
        "Deleting a given value| O(1)/O(n)| O(1)\n"
      ],
      "metadata": {
        "id": "lfHtW1wKVHlA"
      }
    },
    {
      "cell_type": "markdown",
      "source": [
        "Here is an example implementation of calculating the averge temperature and number of days above the average temperature."
      ],
      "metadata": {
        "id": "bsLZlVhm0UNU"
      }
    },
    {
      "cell_type": "code",
      "source": [
        "def fun():\n",
        "  lists = []\n",
        "  inp1 = int(input(\"How many day's temperature? \"))\n",
        "  for i in range(1,inp1+1):\n",
        "    inp2 = int(input(\"Enter \"+str(i)+\" days' temperature \"))\n",
        "    lists.append(inp2)\n",
        "  avg = round(sum(lists)/inp1,2)\n",
        "  count = 0\n",
        "  for i in lists:\n",
        "    if i>avg:\n",
        "      count+=1\n",
        "  print('\\nAverage ='+str(avg),\"\\n\"+str(count)+' day(s) above average')\n",
        "fun()\n",
        "      "
      ],
      "metadata": {
        "colab": {
          "base_uri": "https://localhost:8080/"
        },
        "id": "RHhOHEz20dSg",
        "outputId": "20302a84-3217-440a-fc82-fe6cda45bb36"
      },
      "execution_count": null,
      "outputs": [
        {
          "output_type": "stream",
          "name": "stdout",
          "text": [
            "How many day's temperature? 1\n",
            "Enter 1 days' temperature 5\n",
            "\n",
            "Average =5.0 \n",
            "0 day(s) above average\n"
          ]
        }
      ]
    },
    {
      "cell_type": "markdown",
      "source": [
        "Calculate the missing element from the list"
      ],
      "metadata": {
        "id": "y4y5iJiwCKpU"
      }
    },
    {
      "cell_type": "code",
      "source": [
        "lists = [1,2,3,4,5,6,7,8,9,10,11,12,13,14,15,16,17,18,19,20,21,22,23,24,25,26,27,28,29,30,31,32,33,34,35,36,37,38,39,40,41,42,43,44,45,46,47,48,49,51,52,53,54,55,56,57,58,59,60,61,62,63,64,65,66,67,68,69,70,71,72,73,74,75,76,77,78,79,80,81,82,83,84,85,86,87,88,89,90,91,92,93,94,95,96,97,98,99,100]\n",
        "def fun(lists,n):\n",
        "  sum1 = 100*101/2\n",
        "  sum2 = sum(lists)\n",
        "  print(sum1-sum2)\n",
        "fun(lists,100)\n"
      ],
      "metadata": {
        "colab": {
          "base_uri": "https://localhost:8080/"
        },
        "id": "UKcLg-UlCJH2",
        "outputId": "91907860-7b19-4165-d61a-a5d6f64d7f25"
      },
      "execution_count": null,
      "outputs": [
        {
          "output_type": "stream",
          "name": "stdout",
          "text": [
            "50.0\n"
          ]
        }
      ]
    },
    {
      "cell_type": "markdown",
      "source": [
        "# Dictionaries"
      ],
      "metadata": {
        "id": "rmivas7WFq2q"
      }
    },
    {
      "cell_type": "markdown",
      "source": [
        "The dictionary is the coleection of unordered, changeble and indexed.\n",
        "\n",
        "It represented using the 'Key' and 'Value'.\n"
      ],
      "metadata": {
        "id": "4GBfLDT-4GLq"
      }
    },
    {
      "cell_type": "markdown",
      "source": [
        "#####Creating A dictionary"
      ],
      "metadata": {
        "id": "MrDoBOG4693I"
      }
    },
    {
      "cell_type": "code",
      "source": [
        "dictionary = {\"rishi\": 35,\"Soma\": 25, \"subbu\" : 45}   # cannot use the dupicate keys\n",
        "print(dictionary)\n",
        "\n",
        "# use dict method\n",
        "my_dict = dict()\n",
        "print(my_dict)\n",
        "\n",
        "# Access \n",
        "dictionary[\"Soma\"] # using the key values\n"
      ],
      "metadata": {
        "colab": {
          "base_uri": "https://localhost:8080/"
        },
        "id": "6Uf8-Hqi7CdZ",
        "outputId": "d7323f0c-acc9-410e-ee5d-c530de5ae74f"
      },
      "execution_count": null,
      "outputs": [
        {
          "output_type": "stream",
          "name": "stdout",
          "text": [
            "{'rishi': 35, 'Soma': 25, 'subbu': 45}\n",
            "{}\n"
          ]
        },
        {
          "output_type": "execute_result",
          "data": {
            "text/plain": [
              "25"
            ]
          },
          "metadata": {},
          "execution_count": 7
        }
      ]
    },
    {
      "cell_type": "markdown",
      "source": [
        "  The key is taken as input to generte the index with the hash value by hash function and returns the ouput as the key value pair in a meomroy index.\n",
        "\n",
        "\n",
        "For example we have the dictionary as \n",
        "\n",
        "my_dictionary = {\"Rishi\": 35, \"Soma\" : 25, \"Subbu\" : 45, \"Kasha\",: 55}\n",
        "\n",
        "now lets see how they are stored in the memory, \n",
        "For first storing the initial key\n",
        "\n",
        "Rishi-> hashfun() --- hash value(2171728)----array index = 3\n",
        "\n",
        "Soma-> hashfun() --- hash value (2171781)----array index = 1\n",
        "\n",
        "Subbu-> hashfun() --- hash value(2181928)----array index = 2\n",
        "\n",
        "Kasha-> hashfun() --- hash value(1781928)----array index = 0\n",
        "\n",
        "Index| Memory Space \n",
        "--|:--|\n",
        "0 |Kasha 55\n",
        "1| Soma 25\n",
        "2| Subbu 45\n",
        "3| Rishi 35\n",
        "\n",
        "Sometimes the value directs to the index that already occupied then the key-value pair is stored as the Linked list to the other key-value pair."
      ],
      "metadata": {
        "id": "TxAGHe6geyrx"
      }
    },
    {
      "cell_type": "markdown",
      "source": [
        "##### Update and Insert Elements"
      ],
      "metadata": {
        "id": "cH2NAp4VIaZs"
      }
    },
    {
      "cell_type": "code",
      "source": [
        "#Update or Insert an element in a Dictionary\n",
        "\n",
        "#update\n",
        "DIct = {'employee': 'Michel', 'ID': 7, \"Department\": \"Science Engineer\"}\n",
        "print(DIct)\n",
        "DIct[\"Department\"] = \"Associate Engineer\"\n",
        "print(DIct)\n",
        "# Time complexity : O(1)\n",
        "# Space Compexity : O(1)\n",
        "\n",
        "\n",
        "#ADD ELEMENT ( check where it exist to update but the Emp iD is not in \"DIct\" so it  ADD as another Key value pair)\n",
        "DIct[\"Emp ID\"] = 1234\n",
        "print(DIct)\n",
        "# Time complexity : O(1)\n",
        "# Space Complexity : amortized O(1)\n",
        "# Gernerally it is O(1) but changes to o(n) when the underlying DS needs to grow orshrink. It happens indfrequently so named as amoritzed"
      ],
      "metadata": {
        "colab": {
          "base_uri": "https://localhost:8080/"
        },
        "id": "Ys_wkbOTjCrJ",
        "outputId": "2481ce1c-f467-4d1c-9d5d-0f9908a0bb34"
      },
      "execution_count": null,
      "outputs": [
        {
          "output_type": "stream",
          "name": "stdout",
          "text": [
            "{'employee': 'Michel', 'ID': 7, 'Department': 'Science Engineer'}\n",
            "{'employee': 'Michel', 'ID': 7, 'Department': 'Associate Engineer'}\n",
            "{'employee': 'Michel', 'ID': 7, 'Department': 'Associate Engineer', 'Emp ID': 1234}\n"
          ]
        }
      ]
    },
    {
      "cell_type": "markdown",
      "source": [
        "#####Traverse through the dictionary"
      ],
      "metadata": {
        "id": "SifdNjyGykzM"
      }
    },
    {
      "cell_type": "code",
      "source": [
        "DIct = {'employee': 'Michel', 'ID': 7, \"Department\": \"Science Engineer\",\"Emp ID\": 1234}\n",
        "\n",
        "def traverse(dicts):      #time Complexity : O(n) as per for loop # Space Complexity : O(1)\n",
        "  for key in dicts:\n",
        "    print(key, dicts[key])\n",
        "\n",
        "traverse(DIct)\n"
      ],
      "metadata": {
        "colab": {
          "base_uri": "https://localhost:8080/"
        },
        "id": "kJZAiIpMyoae",
        "outputId": "f11d3c9c-8852-422d-e8d8-045d6cbab710"
      },
      "execution_count": null,
      "outputs": [
        {
          "output_type": "stream",
          "name": "stdout",
          "text": [
            "employee Michel\n",
            "ID 7\n",
            "Department Science Engineer\n",
            "Emp ID 1234\n"
          ]
        }
      ]
    },
    {
      "cell_type": "markdown",
      "source": [
        "#####Search inside the dictionary"
      ],
      "metadata": {
        "id": "1J38Asdcz6cu"
      }
    },
    {
      "cell_type": "code",
      "source": [
        "\n",
        "# Linear Search\n",
        "DIct = {'employee': 'Michel', 'ID': 7, \"Department\": \"Science Engineer\",\"Emp ID\": 1234, \"slary\": 25000}\n",
        "\n",
        "def searchfun(dicts, value): # time Complexity : O(n) # Space complexity : O(1)\n",
        "  for key in dicts:\n",
        "    if dicts[key] == value:\n",
        "      return key, value\n",
        "  return \"No such value found for keys\"  \n",
        "\n",
        "print(searchfun(DIct, 0))\n",
        "print(searchfun(DIct, 1234))"
      ],
      "metadata": {
        "colab": {
          "base_uri": "https://localhost:8080/"
        },
        "id": "JCzL90psz92d",
        "outputId": "4fa81eac-4d7a-4e3c-98cf-8bc139441ac2"
      },
      "execution_count": null,
      "outputs": [
        {
          "output_type": "stream",
          "name": "stdout",
          "text": [
            "No such value found for keys\n",
            "('Emp ID', 1234)\n"
          ]
        }
      ]
    },
    {
      "cell_type": "markdown",
      "source": [
        "#####Delete or Remove element for dictionary\n",
        "\n",
        "Time complexity : O(1)\n",
        "\n",
        "Worst Time complexity :  Amortized O(n)\n",
        "\n",
        "Space Complexity : O(1)"
      ],
      "metadata": {
        "id": "eW73WtbV1oba"
      }
    },
    {
      "cell_type": "code",
      "source": [
        "# POP() method\n",
        "print(DIct.pop('ID'))  # returns the value of the respective key\n",
        "print(DIct)\n",
        "\n",
        "# popitem() method\n",
        "# Used to remove and return an arbitary item from the dictionary\n",
        "#Doesn't take an parameter, returns the key and value pair\n",
        "print(DIct.popitem()) # deletes any item from the dictionary randomly\n",
        "print(DIct)\n",
        "\n",
        "\n",
        "# using the \"del\"  any particular ite, from the dictionary\n",
        "del DIct['employee'] \n",
        "# if we want to delete entire dictionary using \"del\" then we no need to wriet any keyword specifically after deleting we can't print the dictionary it gives an error\n",
        "print(DIct)\n",
        "\n",
        "\n",
        "\n",
        "\n",
        "# Clear() Method\n",
        "# Delete all the elements from the dictioanry.\n",
        "DIct.clear() \n",
        "\n",
        "print(DIct)"
      ],
      "metadata": {
        "colab": {
          "base_uri": "https://localhost:8080/"
        },
        "id": "eTHzFy_d14O9",
        "outputId": "bbf66acf-4559-419f-ac3c-5021acf9ae76"
      },
      "execution_count": null,
      "outputs": [
        {
          "output_type": "stream",
          "name": "stdout",
          "text": [
            "7\n",
            "{'employee': 'Michel', 'Department': 'Science Engineer', 'Emp ID': 1234, 'slary': 25000}\n",
            "('slary', 25000)\n",
            "{'employee': 'Michel', 'Department': 'Science Engineer', 'Emp ID': 1234}\n",
            "{'Department': 'Science Engineer', 'Emp ID': 1234}\n",
            "{}\n"
          ]
        }
      ]
    },
    {
      "cell_type": "markdown",
      "source": [
        "#####Dictionary Methods\n",
        "\n",
        "* Clear() - dict.clear() -Doesn't take any parameter or return any value\n",
        "* Copy() - dict.copy() - creates a new dictioanry and fill the values with values of dict and return the shell copy of dict\n",
        "*  fromkeys() - dictioanry.fromkeys(sequence[], value) - creates a new dictionary and store the sequence list  as keys and values in the respective sequences, sequences are mandatory where as the values are not.  \n",
        "\n",
        "* get() - dictionary,get(key, value) - used to retrive the value of the respective key from the dictionary\n",
        "\n",
        "* items() - dictionary.items() - used for getting the key value pairs as tuples in a list\n",
        "\n",
        "* keys() - dictionary.keys() - returns the list of keys\n",
        "\n",
        "* values() - dictionary.values() - returns the list of values in key value pair\n",
        "\n",
        "popitem() - dictionary.popitem() - deletes any key values pair form the list\n",
        "\n"
      ],
      "metadata": {
        "id": "dRzj4cN76fCf"
      }
    },
    {
      "cell_type": "code",
      "source": [
        "dicts = dict()\n",
        "dicts[\"Hello\"] = \"Good Morning\"\n",
        "dicts['Rishikesh'] = \"is The speaker\"\n",
        "dicts[\"Are\"] = \"you awake?\"\n",
        "print(dicts)\n",
        "\n",
        "\n",
        "#copy method()\n",
        "cts = dicts.copy()\n",
        "print(cts)\n",
        "\n",
        "#clear method()\n",
        "dicts.clear()\n",
        "print(dicts)\n",
        "\n",
        "#fromkeys method(sequence(keys)[], Value)\n",
        "new = {}.fromkeys([1,2,3,4], \"kudos\")\n",
        "print(new)\n",
        "\n",
        "\n",
        "# Get method(key, value)\n",
        "cts.get(\"Rishikesh\", 3) # return the value of key if key exists in the dictioanry else return the value if specified any!\n",
        "\n",
        "# Items method()\n",
        "print(cts.items()) # return the list tuples of key value pairs\n",
        " \n",
        "# Keys method()\n",
        "print(cts.keys()) # return the Keys in list\n",
        "\n",
        "# Value method()\n",
        "print(cts.values())\n",
        "\n",
        "# popitem method ()\n",
        "cts.popitem() # delete any key value pair from the dictionary\n",
        "print(cts)\n",
        "\n",
        "# Setdefault method()\n",
        "cts.setdefault(\"First\",\"Kirrak\") # Value and key will be added to dictionary\n",
        "print(cts)\n",
        "print(cts.setdefault(\"Hello\", 23)) # returns the correct value from the list is key exists\n",
        "print(cts)\n",
        "#using setdefault() if value doesn't specified then return the return the \"none\"\n",
        "\n",
        "# pop method(key, value(optioanl))\n",
        "print(cts.pop(\"i\", 31))\n",
        "print(cts.pop(\"Hello\"))\n",
        "# deletes the value key pair if key exists else return the value if specified or \"None\" by default\n",
        "\n",
        "# update method(other dictionary)\n",
        "cts.update(new)\n",
        "print(cts)"
      ],
      "metadata": {
        "colab": {
          "base_uri": "https://localhost:8080/"
        },
        "id": "HAiczPeW6tF7",
        "outputId": "fffbe669-266f-482f-864e-9b78fa27cf3f"
      },
      "execution_count": null,
      "outputs": [
        {
          "output_type": "stream",
          "name": "stdout",
          "text": [
            "{'Hello': 'Good Morning', 'Rishikesh': 'is The speaker', 'Are': 'you awake?'}\n",
            "{'Hello': 'Good Morning', 'Rishikesh': 'is The speaker', 'Are': 'you awake?'}\n",
            "{}\n",
            "{1: 'kudos', 2: 'kudos', 3: 'kudos', 4: 'kudos'}\n",
            "dict_items([('Hello', 'Good Morning'), ('Rishikesh', 'is The speaker'), ('Are', 'you awake?')])\n",
            "dict_keys(['Hello', 'Rishikesh', 'Are'])\n",
            "dict_values(['Good Morning', 'is The speaker', 'you awake?'])\n",
            "{'Hello': 'Good Morning', 'Rishikesh': 'is The speaker'}\n",
            "{'Hello': 'Good Morning', 'Rishikesh': 'is The speaker', 'First': 'Kirrak'}\n",
            "Good Morning\n",
            "{'Hello': 'Good Morning', 'Rishikesh': 'is The speaker', 'First': 'Kirrak'}\n",
            "31\n",
            "Good Morning\n",
            "{'Rishikesh': 'is The speaker', 'First': 'Kirrak', 1: 'kudos', 2: 'kudos', 3: 'kudos', 4: 'kudos'}\n"
          ]
        }
      ]
    },
    {
      "cell_type": "markdown",
      "source": [
        "#####Dictinary operations and Built in functions\n",
        "\n",
        "* in operator - (key 'in' dictonary) - check the key is in dict or not. If yes returns \"true\" else \"False\". Also if we want values we can use \".values()\" method\n",
        "\n",
        "* for operator - (for \"keys\" in dictionary) traverse through all the elements.\n",
        "\n",
        "* all () - all(dictionary) -\n",
        "\n",
        "Cases| Return Value \n",
        "--|:--|\n",
        "All the values are ture| TRUE\n",
        "All the values are false| FALSE\n",
        "One value is the true others are false| FALSE\n",
        "One value is false others are true| FALSE\n",
        "Empty Iterable| TRUE\n",
        "\n",
        "\n",
        "* any() - any(dictionary) - \n",
        "\n",
        "Cases| Return Value \n",
        "--|:--|\n",
        "All the values are ture| TRUE\n",
        "All the values are false| FALSE\n",
        "One value is the true others are false| TRUE\n",
        "One value is false others are true| TRUE\n",
        "Empty Iterable| FALSE\n",
        " \n",
        "* len() - len(dictioanry) - number of items in sequence\n",
        "\n",
        "* sorted() - sorted(dictionary) - sort the dictionary with the keys(if string then return the ascii order) and return the list of sorted keys"
      ],
      "metadata": {
        "id": "C3Fr__76Gdup"
      }
    },
    {
      "cell_type": "code",
      "source": [
        "dicts = {\"Name\": \"Rishikesh D\",\"Salary\": 76000, \"ROll NO\": \"19bcs035\",\"Branch\": \"CSE\"}\n",
        "\n",
        "# in operator\n",
        "print(\"Saary\" in dicts)\n",
        "print(\"Name\" in dicts)\n",
        "print(76000 in dicts.values())  #} time complexity - O(n)\n",
        "\n",
        "# for operator\n",
        "for keys in dicts:\n",
        "  print(keys, dicts[keys]) # time complexity - O(n)\n",
        "  \n",
        "# all()\n",
        "mylist = {0:\"True\", 1:\"False\",2:\"False\", 3:\"False\"}\n",
        "print(all(mylist))\n",
        "\n",
        "Us = {0:False,1:False,2:False}\n",
        "print(all(Us))\n",
        "\n",
        "kill = {1:\"True\", 2:\"True\",3:\"True\",4:\"True\"}\n",
        "print(all(kill))\n",
        "\n",
        "isl = {0:True,1: True, 2: False, 3: True}\n",
        "print(all(isl))\n",
        "\n",
        "ur = {}\n",
        "print(all(ur))\n",
        "\n",
        "# any ()\n",
        "\n",
        "print(any(ur))\n",
        "print(any(mylist))\n",
        "\n",
        "# len()\n",
        "print(len(dicts))\n",
        "\n",
        "# sorted()\n",
        "print(sorted(dicts, key = len))\n"
      ],
      "metadata": {
        "id": "EchR1ML7GlsI",
        "colab": {
          "base_uri": "https://localhost:8080/"
        },
        "outputId": "6a879f20-5a77-4036-81c7-33b0980fd4ce"
      },
      "execution_count": null,
      "outputs": [
        {
          "output_type": "stream",
          "name": "stdout",
          "text": [
            "False\n",
            "True\n",
            "True\n",
            "Name Rishikesh D\n",
            "Salary 76000\n",
            "ROll NO 19bcs035\n",
            "Branch CSE\n",
            "False\n",
            "False\n",
            "True\n",
            "False\n",
            "True\n",
            "False\n",
            "True\n",
            "4\n",
            "['Name', 'Salary', 'Branch', 'ROll NO']\n"
          ]
        }
      ]
    },
    {
      "cell_type": "markdown",
      "source": [
        "##### Dictionary vs Lists\n",
        "\n",
        "Dictionary| Lists \n",
        "--|:--|\n",
        "Unordered| Ordered\n",
        "Access via keys| Access via index\n",
        "Collection of key value pairs| Collection of elements\n",
        "Preferred when you have unique key values | Preferred when you have the ordered data\n",
        "No duplicate members| Allow the duplicate"
      ],
      "metadata": {
        "id": "V6HYCpbOdiSi"
      }
    },
    {
      "cell_type": "markdown",
      "source": [
        "##### Dictionaries Time and Space Complexity\n",
        "\n",
        "Operation| Time Complexity | Space Complexity\n",
        "--|:--|:--|\n",
        "Creating a dictionary|O(len(dictionary)|O(n)\n",
        "Inserting a value in a dictionary| O(1)/O(n)| O(1)\n",
        "Traversing a given dictionary| O(n)|O(1)\n",
        "Accessing a given cell| O(1)|O(1)\n",
        "Searching a given value| O(n)| O(1)\n",
        "Deleting a given value| O(1)| O(1)"
      ],
      "metadata": {
        "id": "I76DoOXFip36"
      }
    },
    {
      "cell_type": "markdown",
      "source": [
        "# Tuples\n",
        "\n",
        "Tuples are immutable sequence of python objects that can be comparable and hashable"
      ],
      "metadata": {
        "id": "JYx0fdcJvZh_"
      }
    },
    {
      "cell_type": "markdown",
      "source": [
        "##### Tuple creation\n",
        "\n",
        "Time complexity  - O(1) and Space Complexity - O(n)"
      ],
      "metadata": {
        "id": "SpP8uippzQwE"
      }
    },
    {
      "cell_type": "code",
      "source": [
        "tup = (\"a\",\"e\",\"i\",\"o\",\"u\")\n",
        "print(tup)\n",
        "\n",
        "t = (\"r\") #(\"r\",)\n",
        "print(t)\n",
        "\n",
        "r = tuple('122334') # allows the dupicates\n",
        "print(r)\n",
        "\n",
        "# "
      ],
      "metadata": {
        "colab": {
          "base_uri": "https://localhost:8080/"
        },
        "id": "f7eBCsJKvZlk",
        "outputId": "4b88acb7-5267-42e8-a0b3-4bb347701b98"
      },
      "execution_count": null,
      "outputs": [
        {
          "output_type": "stream",
          "name": "stdout",
          "text": [
            "('a', 'e', 'i', 'o', 'u')\n",
            "r\n",
            "('1', '2', '2', '3', '3', '4')\n"
          ]
        }
      ]
    },
    {
      "cell_type": "markdown",
      "source": [
        "##### Tuples in Memory/ Accessing an element of tuple\n",
        "\n",
        "They are stored in an ordered way in an contiguous manner which also increases the performance of tuple while accessing the elements. \n",
        "\n",
        "Main difference between the list and tuples is Tuples are immutable as we cannot change the elemnts once declared."
      ],
      "metadata": {
        "id": "JEeQeGGj0dZs"
      }
    },
    {
      "cell_type": "code",
      "source": [
        "tuples = (\"a\",\"e\",\"i\",\"o\",\"u\")\n",
        "# Access the elements\n",
        "\n",
        "#using the indices\n",
        "print(tuples[2])\n",
        "print(tuples[-1])\n",
        "\n",
        "# using the slice operator\"[:]\"\n",
        "print(tuples[::-1])\n",
        "# as change from list is we cannot modify the elements just like list \n",
        "for i in tuples:\n",
        "  print(i)             # Time Complexity  - O(n) and Space Compexity - O(1)\n",
        "  \n",
        "# Traverse a tuple\n",
        "print(\"-------------------------\")\n",
        "for i in range(len(tuples)):\n",
        "  print(tuples[i])"
      ],
      "metadata": {
        "colab": {
          "base_uri": "https://localhost:8080/"
        },
        "id": "TTNCg5nD2FWO",
        "outputId": "d3ecb91a-f619-4860-86f9-304792ff06f0"
      },
      "execution_count": null,
      "outputs": [
        {
          "output_type": "stream",
          "name": "stdout",
          "text": [
            "i\n",
            "u\n",
            "('u', 'o', 'i', 'e', 'a')\n",
            "a\n",
            "e\n",
            "i\n",
            "o\n",
            "u\n",
            "-------------------------\n",
            "a\n",
            "e\n",
            "i\n",
            "o\n",
            "u\n"
          ]
        }
      ]
    },
    {
      "cell_type": "markdown",
      "source": [
        "##### Searching element in tuple\n"
      ],
      "metadata": {
        "id": "UGEscUARJS15"
      }
    },
    {
      "cell_type": "code",
      "source": [
        "tu = ('5',2,4,'r','t','6',32,'r')\n",
        "print(\"Using 'in' operator\")\n",
        "print('4' in tu) # TIme complexity is O(n)\n",
        "\n",
        "\n",
        "print(\"Using index method\")     # time complexity is O(1)\n",
        "print(tu.index(2))\n",
        "\n",
        "print(\"Using the linear search\")\n",
        "def fun(s, target):\n",
        "  for i in range(len(s)):      # Time complexity is O(n)\n",
        "    if s[i] == target:\n",
        "      print(f\"THE INDEX IS {i}\")\n",
        "      return s.index(s[i])\n",
        "  return f\"Index not found!\" \n",
        "fun(tu, 'r')"
      ],
      "metadata": {
        "id": "FGa62wBRNJQk",
        "colab": {
          "base_uri": "https://localhost:8080/"
        },
        "outputId": "e62be73d-a56b-4921-8fc1-1f11670d1c50"
      },
      "execution_count": null,
      "outputs": [
        {
          "output_type": "stream",
          "name": "stdout",
          "text": [
            "Using 'in' operator\n",
            "False\n",
            "Using index method\n",
            "1\n",
            "Using the linear search\n",
            "THE INDEX IS 3\n",
            "2\n"
          ]
        }
      ]
    },
    {
      "cell_type": "markdown",
      "source": [
        "##### Operations in tuple"
      ],
      "metadata": {
        "id": "rj4s3s06f6k7"
      }
    },
    {
      "cell_type": "code",
      "source": [
        "# Using \"+\" operator concat two tuples\n",
        "tup = ('Hi','Good','Morning.')\n",
        "le = ('Have','a','great','Monday!')\n",
        "print(tup+le)\n",
        "\n",
        "# using the \"*\" operator\n",
        "# \"*\" is used for the printing the same tuple or list multiple times\n",
        "print(tup*4)\n",
        "\n",
        "# using \"in\" operator for searching the element\n",
        "print('a'in tup+le)\n",
        "\n",
        "# using the \"count\" for get the counts of an element\n",
        "print(le.count('a'))\n",
        "\n",
        "# using the \"index\" for returning the index of the specific element\n",
        "print(tup.index('Hi'))\n",
        "# using the \"len\" for having the length of the tuple\n",
        "print(len(tup+le*3))\n",
        "#using the \"max\" and \"min\" method\n",
        "print(max(tup+le))\n",
        "print(min(tup))\n",
        "#it check the ascii values\n",
        "\n",
        "# Using the tuple method\n",
        "print(tuple('17189u717'))"
      ],
      "metadata": {
        "colab": {
          "base_uri": "https://localhost:8080/"
        },
        "id": "qVQwlgaagV47",
        "outputId": "81581f08-72e9-4fd4-fa80-8c8736a42c02"
      },
      "execution_count": null,
      "outputs": [
        {
          "output_type": "stream",
          "name": "stdout",
          "text": [
            "('Hi', 'Good', 'Morning.', 'Have', 'a', 'great', 'Monday!')\n",
            "('Hi', 'Good', 'Morning.', 'Hi', 'Good', 'Morning.', 'Hi', 'Good', 'Morning.', 'Hi', 'Good', 'Morning.')\n",
            "True\n",
            "1\n",
            "0\n",
            "15\n",
            "great\n",
            "Good\n",
            "('1', '7', '1', '8', '9', 'u', '7', '1', '7')\n"
          ]
        }
      ]
    },
    {
      "cell_type": "markdown",
      "source": [
        "##### List vs Tuple\n",
        "\n",
        "* List are mutable, i.e., we can change the lists elements(add, delete, sort, reverse,etc)\n",
        "Bu the tuples are immutable , we cannot change the elements in the tuples. So we cannot perform the operations such as insertion, change, delete on single elements.\n",
        "\n",
        "* Tuples use the following functions same as the lists\n",
        "    * len(), max(), min(), sum(), any(), all(), sorted()\n",
        "* Methods that are Not used in tuples are\n",
        "    * append(), insert(), remove(), pop(), clear(), sort(), reverse()\n",
        "* Tuples can be stored in lists and Lists cambe stored in tuples.\n",
        "* Tuples and lists can be Nested\n",
        "\n",
        "Tuples | Lists|\n",
        "----|: ----|\n",
        "Immutable | Mutable\n",
        "Cannot be modified | Can be modified\n",
        "'( )' are used to represent | '[ ]' are used to represent\n",
        "Is generaalu used for homogenous datatypes (similar) | Is generally used for Non homogeneous datatypes(Different)\n",
        "More faster iterable than lists (Static nature) | Slower as compared to tuples(Dynamic Nature)\n",
        "\n",
        "* As tuple has immutable elements used for the key in dictionary\n",
        "* If you have data that doesn't change, tuples are most suggested to use for the data protection."
      ],
      "metadata": {
        "id": "y8b_Da3JuOnq"
      }
    },
    {
      "cell_type": "markdown",
      "source": [
        "##### Tuples time and space complexities\n",
        "Operation | Time Complexity | Space Complexity\n",
        "---|: ---|: ---|\n",
        "Creating a tuple| O(1) | O(n)\n",
        "Traverse a given tuple|O(n) | O(1)\n",
        "Accessing a given element| O(1)| O(1)\n",
        "Searching a given element| O(n) | O(1)\n",
        "\n",
        "\n",
        " "
      ],
      "metadata": {
        "id": "zbMYWeOhpKmG"
      }
    },
    {
      "cell_type": "markdown",
      "metadata": {
        "id": "1yAcOfPjFtuJ"
      },
      "source": [
        "\n",
        "#*OBJECT ORIENTED PROGRAMMING IN PYTHON*"
      ]
    },
    {
      "cell_type": "code",
      "source": [
        " "
      ],
      "metadata": {
        "id": "kWVDejln7hyy"
      },
      "execution_count": null,
      "outputs": []
    },
    {
      "cell_type": "markdown",
      "metadata": {
        "id": "YaSQ3YJFGGGZ"
      },
      "source": [
        "1. Instances and classes \n",
        "Class is the collection of objects. Prototype by which the obect is created, contains attributes and methods. \n",
        "\n",
        "* Attributes and Methods\n",
        " Attributes are variables that belongs to class\n",
        " \n",
        " Method: A function that associated with the class.\n",
        " \n",
        " objects are instances of the classes and class is a blueprint for creating instances. Instance variables contains data, that is unique to each instance.\n",
        "    *  State: represented by attributes and reflect prperties.\n",
        "    *  Behaviour: Represented by methods, reflect response of object on other objects.\n",
        "    *  Identity: Gives an unique name and enables to interact."
      ]
    },
    {
      "cell_type": "code",
      "execution_count": null,
      "metadata": {
        "colab": {
          "base_uri": "https://localhost:8080/"
        },
        "id": "aV188lLXGFTd",
        "outputId": "770efc3e-237c-44a0-bb22-1da9ec74745e"
      },
      "outputs": [
        {
          "output_type": "stream",
          "name": "stdout",
          "text": [
            "<__main__.Employee object at 0x7f05b3b5d250>\n"
          ]
        }
      ],
      "source": [
        "class Employee:\n",
        "  def __init__(self, employer_name):\n",
        "    self.employer_name = employer_name\n",
        "\n",
        "emp_1 = Employee('Hello')\n",
        "emp_2 = Employee(1)\n",
        "\n",
        "\n",
        "print(emp_2)"
      ]
    },
    {
      "cell_type": "markdown",
      "metadata": {
        "id": "NFj-qYv5zI6c"
      },
      "source": [
        "#Other MISC"
      ]
    },
    {
      "cell_type": "code",
      "execution_count": null,
      "metadata": {
        "colab": {
          "base_uri": "https://localhost:8080/"
        },
        "id": "fDpKaKjRR-Co",
        "outputId": "882a4fb5-6f15-496c-ea61-17c35ed774f3"
      },
      "outputs": [
        {
          "name": "stdout",
          "output_type": "stream",
          "text": [
            "['I', 'am', 'Rishikesh']\n"
          ]
        }
      ],
      "source": [
        "#python pickling\n",
        "List =['I','am','Rishikesh']\n",
        "print(List)\n",
        "import pickle\n",
        "pickle.dump(List,open(\"save.p\",'wb'))"
      ]
    },
    {
      "cell_type": "code",
      "execution_count": null,
      "metadata": {
        "colab": {
          "base_uri": "https://localhost:8080/"
        },
        "id": "leNazD4sTGfg",
        "outputId": "32667f21-74f7-4e6a-9fc6-03dab09d87c0"
      },
      "outputs": [
        {
          "name": "stdout",
          "output_type": "stream",
          "text": [
            "['I', 'am', 'Rishikesh']\n"
          ]
        }
      ],
      "source": [
        "kesa = pickle.load(open(\"save.p\",\"rb\"))\n",
        "print(kesa)"
      ]
    },
    {
      "cell_type": "code",
      "execution_count": null,
      "metadata": {
        "id": "rw9nLubsT_Vl"
      },
      "outputs": [],
      "source": [
        "class risi:\n",
        "  def statement(self):\n",
        "    return \"Rishikesh\""
      ]
    },
    {
      "cell_type": "code",
      "execution_count": null,
      "metadata": {
        "colab": {
          "base_uri": "https://localhost:8080/"
        },
        "id": "u6TjS4FNx-7e",
        "outputId": "183378d0-197f-4ef1-c98f-b79b59499f30"
      },
      "outputs": [
        {
          "name": "stdout",
          "output_type": "stream",
          "text": [
            "[1, 2, 3]\n",
            "[1, 2, 4]\n",
            "[1, 2, 4, 4]\n",
            "[4, 4]\n",
            "array('i', [9, 8, 7, 6, 1, 2, 4, 4])\n",
            "[[1 2 3 4]\n",
            " [2 3 4 5]\n",
            " [3 4 5 6]]\n",
            "[[1 2 3 6]\n",
            " [1 2 3 4]\n",
            " [2 3 4 5]\n",
            " [3 4 5 6]]\n",
            "[[1 2 4]\n",
            " [2 3 5]\n",
            " [3 4 6]]\n"
          ]
        }
      ],
      "source": [
        "from array import *\n",
        "arr1 = [1,2,3]\n",
        "arr2 = array('i', [9,8,7,6])\n",
        "print(arr1)\n",
        "arr1.pop()\n",
        "arr1.insert(2,4)\n",
        "print(arr1)\n",
        "arr1.append(4)\n",
        "print(arr1)\n",
        "arr2.extend(arr1)\n",
        "arr1.remove(2)\n",
        "del arr1[0]\n",
        "print(arr1)\n",
        "print(arr2)\n",
        "\n",
        "import numpy as np\n",
        "array1 = np.array([[1,2,3,4],\n",
        "                [2,3,4,5],[3,4,5,6]])\n",
        "\n",
        "column = np.insert(array1,0,[1,2,3,6],axis =0)\n",
        "print(array1)\n",
        "print(column)\n",
        "row = np.delete(array1,2,axis =1)\n",
        "print(row)"
      ]
    },
    {
      "cell_type": "code",
      "execution_count": null,
      "metadata": {
        "colab": {
          "base_uri": "https://localhost:8080/"
        },
        "id": "lYiSaIHQ-RKG",
        "outputId": "60910f76-efe3-485c-b0df-1f9d37d96664"
      },
      "outputs": [
        {
          "data": {
            "text/plain": [
              "{1: 'h', 2: 'a'}"
            ]
          },
          "execution_count": 45,
          "metadata": {},
          "output_type": "execute_result"
        }
      ],
      "source": [
        "def fun(string):\n",
        "  count =0\n",
        "  list={}\n",
        "  for i in range(0,len(string)):\n",
        "    for j in range(i+1,len(string)):\n",
        "        if string[i] ==string[j]:\n",
        "              count+=1\n",
        "              list[i]=string[i]\n",
        "      \n",
        "  return list\n",
        "\n",
        "fun('bharath')"
      ]
    },
    {
      "cell_type": "code",
      "execution_count": null,
      "metadata": {
        "colab": {
          "base_uri": "https://localhost:8080/"
        },
        "id": "BjupUHoigKV6",
        "outputId": "9e9b6359-44bb-4b8c-9941-d5dc4df4d804"
      },
      "outputs": [
        {
          "name": "stdout",
          "output_type": "stream",
          "text": [
            "array('i', [1, 0, 1, 0, 1, 0, 2, 1, 0, 0])\n"
          ]
        }
      ],
      "source": [
        "from array import *\n",
        "a = array('i',[1,0,1,0,1,0,2,1,0,0])\n",
        "def sort_array(array):\n",
        "  for i in range(len(array)-1):\n",
        "    temp =array[i+1]\n",
        "    if array[i+1] < temp:\n",
        "          temp = array[i]\n",
        "          array[i] =array[i+1]\n",
        "          array[i+1] = temp\n",
        "  return array\n",
        "print(sort_array(a))\n"
      ]
    },
    {
      "cell_type": "code",
      "execution_count": null,
      "metadata": {
        "colab": {
          "base_uri": "https://localhost:8080/"
        },
        "id": "mtkQYmI1Yhwn",
        "outputId": "a7e14a40-d417-4fdd-8d4e-7d0156fdecb3"
      },
      "outputs": [
        {
          "name": "stdout",
          "output_type": "stream",
          "text": [
            "FInd mean with use of operations\n",
            "Enter the number :1\n",
            "Enter the number :2\n",
            "Enter the number :3\n",
            "Enter the number :4\n",
            "Enter the number :5\n",
            "Enter the number :9\n",
            "Enter the number :8\n",
            "Enter the number :7\n",
            "Enter the number :1\n",
            "Enter the number :9\n",
            "Enter the number :2\n",
            "Enter the number :8\n",
            "Enter the number :7\n",
            "Enter the number :3\n",
            "Enter the number :4\n",
            "Enter the number :6\n",
            "Enter the number :6\n",
            "Enter the number :Enough\n",
            "5.0 17\n"
          ]
        }
      ],
      "source": [
        "\n",
        "print(\"FInd mean with use of operations\")\n",
        "list =[]\n",
        "count = 0\n",
        "while True:\n",
        "  inp = input(\"Enter the number :\" )\n",
        "  if inp == 'Enough': break\n",
        "  value = int(inp)\n",
        "  list.append(value)\n",
        "  count+=1\n",
        "  avg = sum(list)/len(list)\n",
        "print(avg,count)"
      ]
    },
    {
      "cell_type": "code",
      "source": [
        "arr = [1, 2, 3, 4, 5, 6]\n",
        "for i in range(1, 6):\n",
        "    arr[i - 1] = arr[i]\n",
        "for i in range(0, 6): \n",
        "    print(arr[i], end = \" \")"
      ],
      "metadata": {
        "colab": {
          "base_uri": "https://localhost:8080/"
        },
        "id": "iZH8chY3dTmo",
        "outputId": "503b9e1a-e5ad-4aff-fa67-f5bdf3bb2736"
      },
      "execution_count": null,
      "outputs": [
        {
          "output_type": "stream",
          "name": "stdout",
          "text": [
            "2 3 4 5 6 6 "
          ]
        }
      ]
    },
    {
      "cell_type": "code",
      "source": [
        "arr = [[1, 2, 3, 4],\n",
        "       [4, 5, 6, 7],\n",
        "       [8, 9, 10, 11],\n",
        "       [12, 13, 14, 15]]\n",
        "for i in range(0, 4):\n",
        "    print(arr[i].pop())"
      ],
      "metadata": {
        "colab": {
          "base_uri": "https://localhost:8080/"
        },
        "id": "dE30LNTAdVXP",
        "outputId": "757ebcfc-27b9-4e36-9c25-1b782bc2cc01"
      },
      "execution_count": null,
      "outputs": [
        {
          "output_type": "stream",
          "name": "stdout",
          "text": [
            "4\n",
            "7\n",
            "11\n",
            "15\n"
          ]
        }
      ]
    },
    {
      "cell_type": "code",
      "source": [
        "a=[1,2,3,4,5,6,7,8,9]\n",
        "a[::2]=10,20,30,40,50\n",
        "print(a)"
      ],
      "metadata": {
        "colab": {
          "base_uri": "https://localhost:8080/"
        },
        "id": "tgWzt7j_dyrN",
        "outputId": "b213f619-b578-4c20-8040-3df18e5992c0"
      },
      "execution_count": null,
      "outputs": [
        {
          "output_type": "stream",
          "name": "stdout",
          "text": [
            "[10, 2, 20, 4, 30, 6, 40, 8, 50]\n"
          ]
        }
      ]
    },
    {
      "cell_type": "code",
      "source": [
        "a=[1,2,3,4,5,6,7,8,9]\n",
        "print(a[::2])"
      ],
      "metadata": {
        "colab": {
          "base_uri": "https://localhost:8080/"
        },
        "id": "OeqM6HBBeKEi",
        "outputId": "bad97dd3-c0f0-4229-e010-8414d6fda5f2"
      },
      "execution_count": null,
      "outputs": [
        {
          "output_type": "stream",
          "name": "stdout",
          "text": [
            "[1, 3, 5, 7, 9]\n"
          ]
        }
      ]
    },
    {
      "cell_type": "code",
      "source": [
        "data = [[[1, 2], [3, 4]], [[5, 6], [7, 8]]]\n",
        "def fun(m):\n",
        "    v = m[0][0]\n",
        " \n",
        "    for row in m:\n",
        "        for element in row:\n",
        "            if v < element: v = element\n",
        " \n",
        "    return v\n",
        "print(fun(data[0]))\n"
      ],
      "metadata": {
        "colab": {
          "base_uri": "https://localhost:8080/"
        },
        "id": "O_mxR1Whec-1",
        "outputId": "3f143f69-756f-4410-80b5-1ba5654091b8"
      },
      "execution_count": null,
      "outputs": [
        {
          "output_type": "stream",
          "name": "stdout",
          "text": [
            "4\n"
          ]
        }
      ]
    },
    {
      "cell_type": "code",
      "source": [
        "def f(value, values):\n",
        "    v = 1\n",
        "    values[0] = 44\n",
        "t = 3\n",
        "v = [1, 2, 3]\n",
        "f(t, v)\n",
        "print(t, v[0])"
      ],
      "metadata": {
        "colab": {
          "base_uri": "https://localhost:8080/"
        },
        "id": "aSulphNbej4U",
        "outputId": "97de7651-8459-44a9-9b7d-d3e22f29a17e"
      },
      "execution_count": null,
      "outputs": [
        {
          "output_type": "stream",
          "name": "stdout",
          "text": [
            "3 44\n"
          ]
        }
      ]
    },
    {
      "cell_type": "code",
      "source": [
        "fruit_list1 = ['Apple', 'Berry', 'Cherry', 'Papaya']\n",
        "fruit_list2 = fruit_list1\n",
        "fruit_list3 = fruit_list1[:]\n",
        "fruit_list2[0] = 'Guava'\n",
        "fruit_list3[1] = 'Kiwi'\n",
        " \n",
        "sum = 0\n",
        "for ls in (fruit_list1, fruit_list2, fruit_list3):\n",
        "    if ls[0] == 'Guava':\n",
        "        sum += 1\n",
        "    if ls[1] == 'Kiwi':\n",
        "        sum += 20\n",
        " \n",
        "print(sum)"
      ],
      "metadata": {
        "colab": {
          "base_uri": "https://localhost:8080/"
        },
        "id": "tswdgW6qfDGV",
        "outputId": "2cfc3bb9-8042-4304-b372-337db41944c1"
      },
      "execution_count": null,
      "outputs": [
        {
          "output_type": "stream",
          "name": "stdout",
          "text": [
            "22\n"
          ]
        }
      ]
    },
    {
      "cell_type": "code",
      "source": [
        "a=[1,2,3,4,5]\n",
        "print(a[3:0:-1])\n"
      ],
      "metadata": {
        "colab": {
          "base_uri": "https://localhost:8080/"
        },
        "id": "GMftHmPRf2Rv",
        "outputId": "1c1c931d-b56f-49a5-a289-84e2ab2e380a"
      },
      "execution_count": null,
      "outputs": [
        {
          "output_type": "stream",
          "name": "stdout",
          "text": [
            "[4, 3, 2]\n"
          ]
        }
      ]
    },
    {
      "cell_type": "code",
      "source": [
        "s = \"Hi I am Rishikesh and I came here\" # Reverse the string without changing the words\n",
        "print(s)\n",
        "s = s.split()\n",
        "print(s)\n",
        "s = s[::-1]\n",
        "print(s)\n",
        "s = \" \".join(s)\n",
        "print(s)"
      ],
      "metadata": {
        "id": "m5IeDnoPgMtb",
        "colab": {
          "base_uri": "https://localhost:8080/"
        },
        "outputId": "f8bae9f5-66a4-4798-9116-1d96fef64679"
      },
      "execution_count": null,
      "outputs": [
        {
          "output_type": "stream",
          "name": "stdout",
          "text": [
            "Hi I am Rishikesh and I came here\n",
            "['Hi', 'I', 'am', 'Rishikesh', 'and', 'I', 'came', 'here']\n",
            "['here', 'came', 'I', 'and', 'Rishikesh', 'am', 'I', 'Hi']\n",
            "here came I and Rishikesh am I Hi\n"
          ]
        }
      ]
    },
    {
      "cell_type": "code",
      "source": [
        "class Linked:\n",
        "  def __init__(self, dataval= None):\n",
        "    self.dataval = dataval\n",
        "    self.nextval = None\n",
        "\n",
        "class node:\n",
        "  def __init__(self):\n",
        "    self.headval = None\n",
        "\n",
        "  def printNode(self):\n",
        "    printnode = self.headval\n",
        "    while printnode is not None:\n",
        "      print(printnode.dataval)\n",
        "      printnode = printnode.nextval\n",
        " \n",
        "  def InsertNode(self,Newdata):\n",
        "    NewNode = node(Newdata)\n",
        "\n",
        "  NewNode.\n",
        "\n",
        "\n",
        "\n",
        "\n",
        "node1 = node()\n",
        "node1.headval = Linked('Hii')\n",
        "n2 = Linked('I am')\n",
        "n3 = Linked('Rishikesh')\n",
        "\n",
        "node1.headval.nextval = n2\n",
        "n2.nextval = n3\n",
        "node1.printNode()"
      ],
      "metadata": {
        "id": "RsFU92A-tL7B",
        "colab": {
          "base_uri": "https://localhost:8080/"
        },
        "outputId": "c8e269ef-3004-4d53-c4a0-32afef81f859"
      },
      "execution_count": null,
      "outputs": [
        {
          "output_type": "stream",
          "name": "stdout",
          "text": [
            "Hii\n",
            "I am\n",
            "Rishikesh\n"
          ]
        }
      ]
    },
    {
      "cell_type": "code",
      "source": [
        "# Two Sum Leetcode \n",
        "array = [1,2,3,4,5,7,4,10]\n",
        "def find_pairs(arr, target):\n",
        "  for i in range(len(arr)):\n",
        "    for j in range(i+1, len(arr)):\n",
        "      if arr[i] == arr[j]:\n",
        "        continue\n",
        "      elif arr[i] + arr[j] == target:\n",
        "        return i+1,j+1\n",
        "print(find_pairs(array,7))\n",
        "\n",
        "  \n",
        "\n",
        "\n",
        "\n"
      ],
      "metadata": {
        "id": "mwgxd1PEspQ9",
        "colab": {
          "base_uri": "https://localhost:8080/"
        },
        "outputId": "d72091c8-2385-4a24-b12a-9fd0d6af6e5d"
      },
      "execution_count": null,
      "outputs": [
        {
          "output_type": "stream",
          "name": "stdout",
          "text": [
            "(2, 5)\n"
          ]
        }
      ]
    },
    {
      "cell_type": "code",
      "source": [
        "\n",
        "\n"
      ],
      "metadata": {
        "id": "sVqR7bc0SNll"
      },
      "execution_count": null,
      "outputs": []
    }
  ],
  "metadata": {
    "colab": {
      "collapsed_sections": [
        "ZKB3KQuCweM_"
      ],
      "provenance": [],
      "toc_visible": true,
      "authorship_tag": "ABX9TyOxRIjG/tHmA2Iy9Y83PPWC",
      "include_colab_link": true
    },
    "kernelspec": {
      "display_name": "Python 3",
      "name": "python3"
    },
    "language_info": {
      "name": "python"
    },
    "gpuClass": "standard"
  },
  "nbformat": 4,
  "nbformat_minor": 0
}